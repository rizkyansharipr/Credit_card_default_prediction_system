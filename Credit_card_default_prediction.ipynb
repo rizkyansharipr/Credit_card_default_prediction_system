{
 "cells": [
  {
   "cell_type": "markdown",
   "metadata": {
    "id": "aL13_UJUwKCl"
   },
   "source": [
    "# Hi!\n",
    "\n",
    "I'm **Rizky Anshari**\n",
    "\n",
    "Notebook ini adalah bentuk evaluasi saya pada pembelajaran machine learning untuk supervised learning.\n",
    "\n",
    "### The Data\n",
    "'bigquery-public-data.ml_datasets.credit_card_default'\n",
    "\n",
    "### The Objective\n",
    "Memprediksi default_payment_next_month dari dataset credit_card_default pada Big Query, menggunakan model-model classification.\n",
    "- pada pengamatan ini akan dibuat model classification terbaik untuk menentukan default payment next mount."
   ]
  },
  {
   "cell_type": "code",
   "execution_count": 5,
   "metadata": {
    "colab": {
     "base_uri": "https://localhost:8080/",
     "height": 35
    },
    "id": "YEdiGH-ZwKCs",
    "outputId": "9231e5b1-b1d8-4646-d720-b7db36f1fa3c"
   },
   "outputs": [
    {
     "data": {
      "application/vnd.google.colaboratory.intrinsic+json": {
       "type": "string"
      },
      "text/plain": [
       "''"
      ]
     },
     "execution_count": 5,
     "metadata": {},
     "output_type": "execute_result"
    }
   ],
   "source": [
    "#### Query\n",
    "'''\n",
    "SELECT limit_balance, sex, education_level, marital_status, age, pay_0, pay_2, pay_3, pay_4, pay_5, pay_6, bill_amt_1, bill_amt_2, bill_amt_3, bill_amt_4, bill_amt_5, bill_amt_6, pay_amt_1, pay_amt_2, pay_amt_3, pay_amt_4, pay_amt_5, pay_amt_6, default_payment_next_month\n",
    "\n",
    "from `bigquery-public-data.ml_datasets.credit_card_default`\n",
    "\n",
    "limit 2965;\n",
    "'''\n",
    "# angka 2965 dipilih karena jumlah data maksimalnya\n",
    ";"
   ]
  },
  {
   "cell_type": "markdown",
   "metadata": {},
   "source": [
    "![Image](https://www.canstar.com.au/wp-content/uploads/2017/09/Credit-card-default-1.jpg)"
   ]
  },
  {
   "cell_type": "markdown",
   "metadata": {
    "id": "unzTK-lUwKCt"
   },
   "source": [
    "# A. Library\n",
    "*Library - library yang digunakan :*"
   ]
  },
  {
   "cell_type": "code",
   "execution_count": 6,
   "metadata": {
    "colab": {
     "base_uri": "https://localhost:8080/"
    },
    "id": "NOZOEq1ksc6T",
    "outputId": "7fd331ca-9980-44da-9279-2d571c332e5a"
   },
   "outputs": [
    {
     "name": "stdout",
     "output_type": "stream",
     "text": [
      "Looking in indexes: https://pypi.org/simple, https://us-python.pkg.dev/colab-wheels/public/simple/\n",
      "Requirement already satisfied: phik in /usr/local/lib/python3.7/dist-packages (0.12.2)\n",
      "Requirement already satisfied: pandas>=0.25.1 in /usr/local/lib/python3.7/dist-packages (from phik) (1.3.5)\n",
      "Requirement already satisfied: scipy>=1.5.2 in /usr/local/lib/python3.7/dist-packages (from phik) (1.7.3)\n",
      "Requirement already satisfied: joblib>=0.14.1 in /usr/local/lib/python3.7/dist-packages (from phik) (1.1.0)\n",
      "Requirement already satisfied: numpy>=1.18.0 in /usr/local/lib/python3.7/dist-packages (from phik) (1.21.6)\n",
      "Requirement already satisfied: matplotlib>=2.2.3 in /usr/local/lib/python3.7/dist-packages (from phik) (3.2.2)\n",
      "Requirement already satisfied: python-dateutil>=2.1 in /usr/local/lib/python3.7/dist-packages (from matplotlib>=2.2.3->phik) (2.8.2)\n",
      "Requirement already satisfied: cycler>=0.10 in /usr/local/lib/python3.7/dist-packages (from matplotlib>=2.2.3->phik) (0.11.0)\n",
      "Requirement already satisfied: kiwisolver>=1.0.1 in /usr/local/lib/python3.7/dist-packages (from matplotlib>=2.2.3->phik) (1.4.4)\n",
      "Requirement already satisfied: pyparsing!=2.0.4,!=2.1.2,!=2.1.6,>=2.0.1 in /usr/local/lib/python3.7/dist-packages (from matplotlib>=2.2.3->phik) (3.0.9)\n",
      "Requirement already satisfied: typing-extensions in /usr/local/lib/python3.7/dist-packages (from kiwisolver>=1.0.1->matplotlib>=2.2.3->phik) (4.1.1)\n",
      "Requirement already satisfied: pytz>=2017.3 in /usr/local/lib/python3.7/dist-packages (from pandas>=0.25.1->phik) (2022.2.1)\n",
      "Requirement already satisfied: six>=1.5 in /usr/local/lib/python3.7/dist-packages (from python-dateutil>=2.1->matplotlib>=2.2.3->phik) (1.15.0)\n"
     ]
    }
   ],
   "source": [
    "!pip install phik"
   ]
  },
  {
   "cell_type": "code",
   "execution_count": 7,
   "metadata": {
    "id": "AmxAM4NUwKCu"
   },
   "outputs": [],
   "source": [
    "# Data Exploring\n",
    "import pandas as pd\n",
    "import matplotlib.pyplot as plt\n",
    "import seaborn as sns\n",
    "import phik\n",
    "import numpy as np\n",
    "# Data Processing\n",
    "from imblearn.over_sampling import SMOTENC\n",
    "from sklearn.model_selection import train_test_split, StratifiedKFold, cross_val_score\n",
    "from sklearn.preprocessing import StandardScaler\n",
    "# Data Modelling\n",
    "from sklearn.linear_model import LogisticRegression # Logistic Regression\n",
    "from sklearn.svm import SVC # Support Vector Machine\n",
    "from sklearn.tree import DecisionTreeClassifier # Decision Tree\n",
    "from sklearn.ensemble import RandomForestClassifier # Random Forest\n",
    "from sklearn.neighbors import KNeighborsClassifier # KNN\n",
    "from sklearn.naive_bayes import GaussianNB # Naive Bayes\n",
    "from xgboost import XGBClassifier # Extreme Gradient Boosting\n",
    "# Data Evaluation\n",
    "from sklearn.metrics import classification_report, roc_auc_score, accuracy_score, ConfusionMatrixDisplay, confusion_matrix"
   ]
  },
  {
   "cell_type": "markdown",
   "metadata": {
    "id": "Iv5q-ThawKCu"
   },
   "source": [
    "# B. Data Loading\n",
    "*pada data loading akan dilakukan pemuatan data dan mengamatan sederhana*"
   ]
  },
  {
   "cell_type": "code",
   "execution_count": 8,
   "metadata": {
    "id": "rsFl-H8_wKCv"
   },
   "outputs": [],
   "source": [
    "# load dataset\n",
    "data = pd.read_csv('/content/h8dsft_P1M1_rizky_anshari.csv')\n",
    "\n",
    "# mengganti option agar seluruh kolom dapat ditampilkan\n",
    "pd.set_option('display.max_columns', None)"
   ]
  },
  {
   "cell_type": "code",
   "execution_count": 9,
   "metadata": {
    "colab": {
     "base_uri": "https://localhost:8080/",
     "height": 270
    },
    "id": "N1k6DMCZwKCv",
    "outputId": "c635179d-a709-44a2-8b20-7c3a8e07efb9"
   },
   "outputs": [
    {
     "data": {
      "text/html": [
       "\n",
       "  <div id=\"df-b018bd50-13b7-46ef-9bfb-4ac27819681f\">\n",
       "    <div class=\"colab-df-container\">\n",
       "      <div>\n",
       "<style scoped>\n",
       "    .dataframe tbody tr th:only-of-type {\n",
       "        vertical-align: middle;\n",
       "    }\n",
       "\n",
       "    .dataframe tbody tr th {\n",
       "        vertical-align: top;\n",
       "    }\n",
       "\n",
       "    .dataframe thead th {\n",
       "        text-align: right;\n",
       "    }\n",
       "</style>\n",
       "<table border=\"1\" class=\"dataframe\">\n",
       "  <thead>\n",
       "    <tr style=\"text-align: right;\">\n",
       "      <th></th>\n",
       "      <th>limit_balance</th>\n",
       "      <th>sex</th>\n",
       "      <th>education_level</th>\n",
       "      <th>marital_status</th>\n",
       "      <th>age</th>\n",
       "      <th>pay_0</th>\n",
       "      <th>pay_2</th>\n",
       "      <th>pay_3</th>\n",
       "      <th>pay_4</th>\n",
       "      <th>pay_5</th>\n",
       "      <th>pay_6</th>\n",
       "      <th>bill_amt_1</th>\n",
       "      <th>bill_amt_2</th>\n",
       "      <th>bill_amt_3</th>\n",
       "      <th>bill_amt_4</th>\n",
       "      <th>bill_amt_5</th>\n",
       "      <th>bill_amt_6</th>\n",
       "      <th>pay_amt_1</th>\n",
       "      <th>pay_amt_2</th>\n",
       "      <th>pay_amt_3</th>\n",
       "      <th>pay_amt_4</th>\n",
       "      <th>pay_amt_5</th>\n",
       "      <th>pay_amt_6</th>\n",
       "      <th>default_payment_next_month</th>\n",
       "    </tr>\n",
       "  </thead>\n",
       "  <tbody>\n",
       "    <tr>\n",
       "      <th>0</th>\n",
       "      <td>50000.0</td>\n",
       "      <td>1</td>\n",
       "      <td>1</td>\n",
       "      <td>2</td>\n",
       "      <td>39.0</td>\n",
       "      <td>0.0</td>\n",
       "      <td>0.0</td>\n",
       "      <td>0.0</td>\n",
       "      <td>0.0</td>\n",
       "      <td>0</td>\n",
       "      <td>0</td>\n",
       "      <td>47174.0</td>\n",
       "      <td>47974.0</td>\n",
       "      <td>48630.0</td>\n",
       "      <td>50803.0</td>\n",
       "      <td>30789.0</td>\n",
       "      <td>15874.0</td>\n",
       "      <td>1800.0</td>\n",
       "      <td>2000.0</td>\n",
       "      <td>3000.0</td>\n",
       "      <td>2000.0</td>\n",
       "      <td>2000.0</td>\n",
       "      <td>2000.0</td>\n",
       "      <td>0</td>\n",
       "    </tr>\n",
       "    <tr>\n",
       "      <th>1</th>\n",
       "      <td>110000.0</td>\n",
       "      <td>2</td>\n",
       "      <td>1</td>\n",
       "      <td>2</td>\n",
       "      <td>29.0</td>\n",
       "      <td>0.0</td>\n",
       "      <td>0.0</td>\n",
       "      <td>0.0</td>\n",
       "      <td>0.0</td>\n",
       "      <td>0</td>\n",
       "      <td>0</td>\n",
       "      <td>48088.0</td>\n",
       "      <td>45980.0</td>\n",
       "      <td>44231.0</td>\n",
       "      <td>32489.0</td>\n",
       "      <td>26354.0</td>\n",
       "      <td>20221.0</td>\n",
       "      <td>2000.0</td>\n",
       "      <td>2010.0</td>\n",
       "      <td>3000.0</td>\n",
       "      <td>3000.0</td>\n",
       "      <td>3000.0</td>\n",
       "      <td>1000.0</td>\n",
       "      <td>0</td>\n",
       "    </tr>\n",
       "    <tr>\n",
       "      <th>2</th>\n",
       "      <td>270000.0</td>\n",
       "      <td>1</td>\n",
       "      <td>1</td>\n",
       "      <td>2</td>\n",
       "      <td>36.0</td>\n",
       "      <td>0.0</td>\n",
       "      <td>0.0</td>\n",
       "      <td>0.0</td>\n",
       "      <td>2.0</td>\n",
       "      <td>0</td>\n",
       "      <td>0</td>\n",
       "      <td>78630.0</td>\n",
       "      <td>68921.0</td>\n",
       "      <td>46512.0</td>\n",
       "      <td>40335.0</td>\n",
       "      <td>37165.0</td>\n",
       "      <td>22156.0</td>\n",
       "      <td>10076.0</td>\n",
       "      <td>4018.0</td>\n",
       "      <td>14.0</td>\n",
       "      <td>2051.0</td>\n",
       "      <td>2000.0</td>\n",
       "      <td>0.0</td>\n",
       "      <td>0</td>\n",
       "    </tr>\n",
       "    <tr>\n",
       "      <th>3</th>\n",
       "      <td>130000.0</td>\n",
       "      <td>1</td>\n",
       "      <td>1</td>\n",
       "      <td>1</td>\n",
       "      <td>45.0</td>\n",
       "      <td>0.0</td>\n",
       "      <td>0.0</td>\n",
       "      <td>0.0</td>\n",
       "      <td>0.0</td>\n",
       "      <td>0</td>\n",
       "      <td>0</td>\n",
       "      <td>58180.0</td>\n",
       "      <td>59134.0</td>\n",
       "      <td>61156.0</td>\n",
       "      <td>62377.0</td>\n",
       "      <td>63832.0</td>\n",
       "      <td>65099.0</td>\n",
       "      <td>2886.0</td>\n",
       "      <td>2908.0</td>\n",
       "      <td>2129.0</td>\n",
       "      <td>2354.0</td>\n",
       "      <td>2366.0</td>\n",
       "      <td>2291.0</td>\n",
       "      <td>0</td>\n",
       "    </tr>\n",
       "    <tr>\n",
       "      <th>4</th>\n",
       "      <td>50000.0</td>\n",
       "      <td>1</td>\n",
       "      <td>1</td>\n",
       "      <td>2</td>\n",
       "      <td>24.0</td>\n",
       "      <td>0.0</td>\n",
       "      <td>0.0</td>\n",
       "      <td>0.0</td>\n",
       "      <td>0.0</td>\n",
       "      <td>0</td>\n",
       "      <td>0</td>\n",
       "      <td>42058.0</td>\n",
       "      <td>35340.0</td>\n",
       "      <td>22110.0</td>\n",
       "      <td>19837.0</td>\n",
       "      <td>19855.0</td>\n",
       "      <td>20151.0</td>\n",
       "      <td>1367.0</td>\n",
       "      <td>1606.0</td>\n",
       "      <td>692.0</td>\n",
       "      <td>709.0</td>\n",
       "      <td>721.0</td>\n",
       "      <td>692.0</td>\n",
       "      <td>0</td>\n",
       "    </tr>\n",
       "  </tbody>\n",
       "</table>\n",
       "</div>\n",
       "      <button class=\"colab-df-convert\" onclick=\"convertToInteractive('df-b018bd50-13b7-46ef-9bfb-4ac27819681f')\"\n",
       "              title=\"Convert this dataframe to an interactive table.\"\n",
       "              style=\"display:none;\">\n",
       "        \n",
       "  <svg xmlns=\"http://www.w3.org/2000/svg\" height=\"24px\"viewBox=\"0 0 24 24\"\n",
       "       width=\"24px\">\n",
       "    <path d=\"M0 0h24v24H0V0z\" fill=\"none\"/>\n",
       "    <path d=\"M18.56 5.44l.94 2.06.94-2.06 2.06-.94-2.06-.94-.94-2.06-.94 2.06-2.06.94zm-11 1L8.5 8.5l.94-2.06 2.06-.94-2.06-.94L8.5 2.5l-.94 2.06-2.06.94zm10 10l.94 2.06.94-2.06 2.06-.94-2.06-.94-.94-2.06-.94 2.06-2.06.94z\"/><path d=\"M17.41 7.96l-1.37-1.37c-.4-.4-.92-.59-1.43-.59-.52 0-1.04.2-1.43.59L10.3 9.45l-7.72 7.72c-.78.78-.78 2.05 0 2.83L4 21.41c.39.39.9.59 1.41.59.51 0 1.02-.2 1.41-.59l7.78-7.78 2.81-2.81c.8-.78.8-2.07 0-2.86zM5.41 20L4 18.59l7.72-7.72 1.47 1.35L5.41 20z\"/>\n",
       "  </svg>\n",
       "      </button>\n",
       "      \n",
       "  <style>\n",
       "    .colab-df-container {\n",
       "      display:flex;\n",
       "      flex-wrap:wrap;\n",
       "      gap: 12px;\n",
       "    }\n",
       "\n",
       "    .colab-df-convert {\n",
       "      background-color: #E8F0FE;\n",
       "      border: none;\n",
       "      border-radius: 50%;\n",
       "      cursor: pointer;\n",
       "      display: none;\n",
       "      fill: #1967D2;\n",
       "      height: 32px;\n",
       "      padding: 0 0 0 0;\n",
       "      width: 32px;\n",
       "    }\n",
       "\n",
       "    .colab-df-convert:hover {\n",
       "      background-color: #E2EBFA;\n",
       "      box-shadow: 0px 1px 2px rgba(60, 64, 67, 0.3), 0px 1px 3px 1px rgba(60, 64, 67, 0.15);\n",
       "      fill: #174EA6;\n",
       "    }\n",
       "\n",
       "    [theme=dark] .colab-df-convert {\n",
       "      background-color: #3B4455;\n",
       "      fill: #D2E3FC;\n",
       "    }\n",
       "\n",
       "    [theme=dark] .colab-df-convert:hover {\n",
       "      background-color: #434B5C;\n",
       "      box-shadow: 0px 1px 3px 1px rgba(0, 0, 0, 0.15);\n",
       "      filter: drop-shadow(0px 1px 2px rgba(0, 0, 0, 0.3));\n",
       "      fill: #FFFFFF;\n",
       "    }\n",
       "  </style>\n",
       "\n",
       "      <script>\n",
       "        const buttonEl =\n",
       "          document.querySelector('#df-b018bd50-13b7-46ef-9bfb-4ac27819681f button.colab-df-convert');\n",
       "        buttonEl.style.display =\n",
       "          google.colab.kernel.accessAllowed ? 'block' : 'none';\n",
       "\n",
       "        async function convertToInteractive(key) {\n",
       "          const element = document.querySelector('#df-b018bd50-13b7-46ef-9bfb-4ac27819681f');\n",
       "          const dataTable =\n",
       "            await google.colab.kernel.invokeFunction('convertToInteractive',\n",
       "                                                     [key], {});\n",
       "          if (!dataTable) return;\n",
       "\n",
       "          const docLinkHtml = 'Like what you see? Visit the ' +\n",
       "            '<a target=\"_blank\" href=https://colab.research.google.com/notebooks/data_table.ipynb>data table notebook</a>'\n",
       "            + ' to learn more about interactive tables.';\n",
       "          element.innerHTML = '';\n",
       "          dataTable['output_type'] = 'display_data';\n",
       "          await google.colab.output.renderOutput(dataTable, element);\n",
       "          const docLink = document.createElement('div');\n",
       "          docLink.innerHTML = docLinkHtml;\n",
       "          element.appendChild(docLink);\n",
       "        }\n",
       "      </script>\n",
       "    </div>\n",
       "  </div>\n",
       "  "
      ],
      "text/plain": [
       "   limit_balance  sex  education_level  marital_status   age  pay_0  pay_2  \\\n",
       "0        50000.0    1                1               2  39.0    0.0    0.0   \n",
       "1       110000.0    2                1               2  29.0    0.0    0.0   \n",
       "2       270000.0    1                1               2  36.0    0.0    0.0   \n",
       "3       130000.0    1                1               1  45.0    0.0    0.0   \n",
       "4        50000.0    1                1               2  24.0    0.0    0.0   \n",
       "\n",
       "   pay_3  pay_4  pay_5  pay_6  bill_amt_1  bill_amt_2  bill_amt_3  bill_amt_4  \\\n",
       "0    0.0    0.0      0      0     47174.0     47974.0     48630.0     50803.0   \n",
       "1    0.0    0.0      0      0     48088.0     45980.0     44231.0     32489.0   \n",
       "2    0.0    2.0      0      0     78630.0     68921.0     46512.0     40335.0   \n",
       "3    0.0    0.0      0      0     58180.0     59134.0     61156.0     62377.0   \n",
       "4    0.0    0.0      0      0     42058.0     35340.0     22110.0     19837.0   \n",
       "\n",
       "   bill_amt_5  bill_amt_6  pay_amt_1  pay_amt_2  pay_amt_3  pay_amt_4  \\\n",
       "0     30789.0     15874.0     1800.0     2000.0     3000.0     2000.0   \n",
       "1     26354.0     20221.0     2000.0     2010.0     3000.0     3000.0   \n",
       "2     37165.0     22156.0    10076.0     4018.0       14.0     2051.0   \n",
       "3     63832.0     65099.0     2886.0     2908.0     2129.0     2354.0   \n",
       "4     19855.0     20151.0     1367.0     1606.0      692.0      709.0   \n",
       "\n",
       "   pay_amt_5  pay_amt_6  default_payment_next_month  \n",
       "0     2000.0     2000.0                           0  \n",
       "1     3000.0     1000.0                           0  \n",
       "2     2000.0        0.0                           0  \n",
       "3     2366.0     2291.0                           0  \n",
       "4      721.0      692.0                           0  "
      ]
     },
     "execution_count": 9,
     "metadata": {},
     "output_type": "execute_result"
    }
   ],
   "source": [
    "# menampilkan head data\n",
    "data.head()"
   ]
  },
  {
   "cell_type": "code",
   "execution_count": 10,
   "metadata": {
    "colab": {
     "base_uri": "https://localhost:8080/",
     "height": 270
    },
    "id": "a35EBB_zwKCw",
    "outputId": "0e85950d-ca8b-46eb-cb17-48415b1a8524"
   },
   "outputs": [
    {
     "data": {
      "text/html": [
       "\n",
       "  <div id=\"df-d16ed0c5-6eaa-4961-97b3-337a81c0e489\">\n",
       "    <div class=\"colab-df-container\">\n",
       "      <div>\n",
       "<style scoped>\n",
       "    .dataframe tbody tr th:only-of-type {\n",
       "        vertical-align: middle;\n",
       "    }\n",
       "\n",
       "    .dataframe tbody tr th {\n",
       "        vertical-align: top;\n",
       "    }\n",
       "\n",
       "    .dataframe thead th {\n",
       "        text-align: right;\n",
       "    }\n",
       "</style>\n",
       "<table border=\"1\" class=\"dataframe\">\n",
       "  <thead>\n",
       "    <tr style=\"text-align: right;\">\n",
       "      <th></th>\n",
       "      <th>limit_balance</th>\n",
       "      <th>sex</th>\n",
       "      <th>education_level</th>\n",
       "      <th>marital_status</th>\n",
       "      <th>age</th>\n",
       "      <th>pay_0</th>\n",
       "      <th>pay_2</th>\n",
       "      <th>pay_3</th>\n",
       "      <th>pay_4</th>\n",
       "      <th>pay_5</th>\n",
       "      <th>pay_6</th>\n",
       "      <th>bill_amt_1</th>\n",
       "      <th>bill_amt_2</th>\n",
       "      <th>bill_amt_3</th>\n",
       "      <th>bill_amt_4</th>\n",
       "      <th>bill_amt_5</th>\n",
       "      <th>bill_amt_6</th>\n",
       "      <th>pay_amt_1</th>\n",
       "      <th>pay_amt_2</th>\n",
       "      <th>pay_amt_3</th>\n",
       "      <th>pay_amt_4</th>\n",
       "      <th>pay_amt_5</th>\n",
       "      <th>pay_amt_6</th>\n",
       "      <th>default_payment_next_month</th>\n",
       "    </tr>\n",
       "  </thead>\n",
       "  <tbody>\n",
       "    <tr>\n",
       "      <th>2960</th>\n",
       "      <td>210000.0</td>\n",
       "      <td>2</td>\n",
       "      <td>2</td>\n",
       "      <td>1</td>\n",
       "      <td>39.0</td>\n",
       "      <td>-1.0</td>\n",
       "      <td>-1.0</td>\n",
       "      <td>-1.0</td>\n",
       "      <td>-1.0</td>\n",
       "      <td>-2</td>\n",
       "      <td>-1</td>\n",
       "      <td>44100.0</td>\n",
       "      <td>0.0</td>\n",
       "      <td>28428.0</td>\n",
       "      <td>0.0</td>\n",
       "      <td>0.0</td>\n",
       "      <td>12000.0</td>\n",
       "      <td>0.0</td>\n",
       "      <td>28428.0</td>\n",
       "      <td>0.0</td>\n",
       "      <td>0.0</td>\n",
       "      <td>12000.0</td>\n",
       "      <td>33664.0</td>\n",
       "      <td>0</td>\n",
       "    </tr>\n",
       "    <tr>\n",
       "      <th>2961</th>\n",
       "      <td>280000.0</td>\n",
       "      <td>2</td>\n",
       "      <td>1</td>\n",
       "      <td>1</td>\n",
       "      <td>41.0</td>\n",
       "      <td>2.0</td>\n",
       "      <td>-1.0</td>\n",
       "      <td>-1.0</td>\n",
       "      <td>-1.0</td>\n",
       "      <td>-2</td>\n",
       "      <td>-1</td>\n",
       "      <td>280.0</td>\n",
       "      <td>6852.0</td>\n",
       "      <td>486.0</td>\n",
       "      <td>0.0</td>\n",
       "      <td>0.0</td>\n",
       "      <td>244.0</td>\n",
       "      <td>6859.0</td>\n",
       "      <td>486.0</td>\n",
       "      <td>0.0</td>\n",
       "      <td>0.0</td>\n",
       "      <td>244.0</td>\n",
       "      <td>0.0</td>\n",
       "      <td>0</td>\n",
       "    </tr>\n",
       "    <tr>\n",
       "      <th>2962</th>\n",
       "      <td>80000.0</td>\n",
       "      <td>1</td>\n",
       "      <td>1</td>\n",
       "      <td>2</td>\n",
       "      <td>28.0</td>\n",
       "      <td>1.0</td>\n",
       "      <td>-1.0</td>\n",
       "      <td>-1.0</td>\n",
       "      <td>-1.0</td>\n",
       "      <td>-2</td>\n",
       "      <td>-2</td>\n",
       "      <td>0.0</td>\n",
       "      <td>47.0</td>\n",
       "      <td>207.0</td>\n",
       "      <td>0.0</td>\n",
       "      <td>0.0</td>\n",
       "      <td>0.0</td>\n",
       "      <td>47.0</td>\n",
       "      <td>207.0</td>\n",
       "      <td>0.0</td>\n",
       "      <td>0.0</td>\n",
       "      <td>0.0</td>\n",
       "      <td>0.0</td>\n",
       "      <td>0</td>\n",
       "    </tr>\n",
       "    <tr>\n",
       "      <th>2963</th>\n",
       "      <td>200000.0</td>\n",
       "      <td>1</td>\n",
       "      <td>2</td>\n",
       "      <td>1</td>\n",
       "      <td>53.0</td>\n",
       "      <td>1.0</td>\n",
       "      <td>-1.0</td>\n",
       "      <td>-1.0</td>\n",
       "      <td>-2.0</td>\n",
       "      <td>-2</td>\n",
       "      <td>-1</td>\n",
       "      <td>0.0</td>\n",
       "      <td>2920.0</td>\n",
       "      <td>0.0</td>\n",
       "      <td>0.0</td>\n",
       "      <td>0.0</td>\n",
       "      <td>6753.0</td>\n",
       "      <td>2920.0</td>\n",
       "      <td>0.0</td>\n",
       "      <td>0.0</td>\n",
       "      <td>0.0</td>\n",
       "      <td>6753.0</td>\n",
       "      <td>0.0</td>\n",
       "      <td>1</td>\n",
       "    </tr>\n",
       "    <tr>\n",
       "      <th>2964</th>\n",
       "      <td>20000.0</td>\n",
       "      <td>2</td>\n",
       "      <td>1</td>\n",
       "      <td>2</td>\n",
       "      <td>24.0</td>\n",
       "      <td>-1.0</td>\n",
       "      <td>-1.0</td>\n",
       "      <td>-2.0</td>\n",
       "      <td>-2.0</td>\n",
       "      <td>-2</td>\n",
       "      <td>-2</td>\n",
       "      <td>379.0</td>\n",
       "      <td>0.0</td>\n",
       "      <td>0.0</td>\n",
       "      <td>0.0</td>\n",
       "      <td>0.0</td>\n",
       "      <td>0.0</td>\n",
       "      <td>0.0</td>\n",
       "      <td>0.0</td>\n",
       "      <td>0.0</td>\n",
       "      <td>0.0</td>\n",
       "      <td>0.0</td>\n",
       "      <td>0.0</td>\n",
       "      <td>0</td>\n",
       "    </tr>\n",
       "  </tbody>\n",
       "</table>\n",
       "</div>\n",
       "      <button class=\"colab-df-convert\" onclick=\"convertToInteractive('df-d16ed0c5-6eaa-4961-97b3-337a81c0e489')\"\n",
       "              title=\"Convert this dataframe to an interactive table.\"\n",
       "              style=\"display:none;\">\n",
       "        \n",
       "  <svg xmlns=\"http://www.w3.org/2000/svg\" height=\"24px\"viewBox=\"0 0 24 24\"\n",
       "       width=\"24px\">\n",
       "    <path d=\"M0 0h24v24H0V0z\" fill=\"none\"/>\n",
       "    <path d=\"M18.56 5.44l.94 2.06.94-2.06 2.06-.94-2.06-.94-.94-2.06-.94 2.06-2.06.94zm-11 1L8.5 8.5l.94-2.06 2.06-.94-2.06-.94L8.5 2.5l-.94 2.06-2.06.94zm10 10l.94 2.06.94-2.06 2.06-.94-2.06-.94-.94-2.06-.94 2.06-2.06.94z\"/><path d=\"M17.41 7.96l-1.37-1.37c-.4-.4-.92-.59-1.43-.59-.52 0-1.04.2-1.43.59L10.3 9.45l-7.72 7.72c-.78.78-.78 2.05 0 2.83L4 21.41c.39.39.9.59 1.41.59.51 0 1.02-.2 1.41-.59l7.78-7.78 2.81-2.81c.8-.78.8-2.07 0-2.86zM5.41 20L4 18.59l7.72-7.72 1.47 1.35L5.41 20z\"/>\n",
       "  </svg>\n",
       "      </button>\n",
       "      \n",
       "  <style>\n",
       "    .colab-df-container {\n",
       "      display:flex;\n",
       "      flex-wrap:wrap;\n",
       "      gap: 12px;\n",
       "    }\n",
       "\n",
       "    .colab-df-convert {\n",
       "      background-color: #E8F0FE;\n",
       "      border: none;\n",
       "      border-radius: 50%;\n",
       "      cursor: pointer;\n",
       "      display: none;\n",
       "      fill: #1967D2;\n",
       "      height: 32px;\n",
       "      padding: 0 0 0 0;\n",
       "      width: 32px;\n",
       "    }\n",
       "\n",
       "    .colab-df-convert:hover {\n",
       "      background-color: #E2EBFA;\n",
       "      box-shadow: 0px 1px 2px rgba(60, 64, 67, 0.3), 0px 1px 3px 1px rgba(60, 64, 67, 0.15);\n",
       "      fill: #174EA6;\n",
       "    }\n",
       "\n",
       "    [theme=dark] .colab-df-convert {\n",
       "      background-color: #3B4455;\n",
       "      fill: #D2E3FC;\n",
       "    }\n",
       "\n",
       "    [theme=dark] .colab-df-convert:hover {\n",
       "      background-color: #434B5C;\n",
       "      box-shadow: 0px 1px 3px 1px rgba(0, 0, 0, 0.15);\n",
       "      filter: drop-shadow(0px 1px 2px rgba(0, 0, 0, 0.3));\n",
       "      fill: #FFFFFF;\n",
       "    }\n",
       "  </style>\n",
       "\n",
       "      <script>\n",
       "        const buttonEl =\n",
       "          document.querySelector('#df-d16ed0c5-6eaa-4961-97b3-337a81c0e489 button.colab-df-convert');\n",
       "        buttonEl.style.display =\n",
       "          google.colab.kernel.accessAllowed ? 'block' : 'none';\n",
       "\n",
       "        async function convertToInteractive(key) {\n",
       "          const element = document.querySelector('#df-d16ed0c5-6eaa-4961-97b3-337a81c0e489');\n",
       "          const dataTable =\n",
       "            await google.colab.kernel.invokeFunction('convertToInteractive',\n",
       "                                                     [key], {});\n",
       "          if (!dataTable) return;\n",
       "\n",
       "          const docLinkHtml = 'Like what you see? Visit the ' +\n",
       "            '<a target=\"_blank\" href=https://colab.research.google.com/notebooks/data_table.ipynb>data table notebook</a>'\n",
       "            + ' to learn more about interactive tables.';\n",
       "          element.innerHTML = '';\n",
       "          dataTable['output_type'] = 'display_data';\n",
       "          await google.colab.output.renderOutput(dataTable, element);\n",
       "          const docLink = document.createElement('div');\n",
       "          docLink.innerHTML = docLinkHtml;\n",
       "          element.appendChild(docLink);\n",
       "        }\n",
       "      </script>\n",
       "    </div>\n",
       "  </div>\n",
       "  "
      ],
      "text/plain": [
       "      limit_balance  sex  education_level  marital_status   age  pay_0  pay_2  \\\n",
       "2960       210000.0    2                2               1  39.0   -1.0   -1.0   \n",
       "2961       280000.0    2                1               1  41.0    2.0   -1.0   \n",
       "2962        80000.0    1                1               2  28.0    1.0   -1.0   \n",
       "2963       200000.0    1                2               1  53.0    1.0   -1.0   \n",
       "2964        20000.0    2                1               2  24.0   -1.0   -1.0   \n",
       "\n",
       "      pay_3  pay_4  pay_5  pay_6  bill_amt_1  bill_amt_2  bill_amt_3  \\\n",
       "2960   -1.0   -1.0     -2     -1     44100.0         0.0     28428.0   \n",
       "2961   -1.0   -1.0     -2     -1       280.0      6852.0       486.0   \n",
       "2962   -1.0   -1.0     -2     -2         0.0        47.0       207.0   \n",
       "2963   -1.0   -2.0     -2     -1         0.0      2920.0         0.0   \n",
       "2964   -2.0   -2.0     -2     -2       379.0         0.0         0.0   \n",
       "\n",
       "      bill_amt_4  bill_amt_5  bill_amt_6  pay_amt_1  pay_amt_2  pay_amt_3  \\\n",
       "2960         0.0         0.0     12000.0        0.0    28428.0        0.0   \n",
       "2961         0.0         0.0       244.0     6859.0      486.0        0.0   \n",
       "2962         0.0         0.0         0.0       47.0      207.0        0.0   \n",
       "2963         0.0         0.0      6753.0     2920.0        0.0        0.0   \n",
       "2964         0.0         0.0         0.0        0.0        0.0        0.0   \n",
       "\n",
       "      pay_amt_4  pay_amt_5  pay_amt_6  default_payment_next_month  \n",
       "2960        0.0    12000.0    33664.0                           0  \n",
       "2961        0.0      244.0        0.0                           0  \n",
       "2962        0.0        0.0        0.0                           0  \n",
       "2963        0.0     6753.0        0.0                           1  \n",
       "2964        0.0        0.0        0.0                           0  "
      ]
     },
     "execution_count": 10,
     "metadata": {},
     "output_type": "execute_result"
    }
   ],
   "source": [
    "# menapilkan 5 baris data terakhir\n",
    "data.tail()"
   ]
  },
  {
   "cell_type": "markdown",
   "metadata": {
    "id": "TtAUAt_nwKCx"
   },
   "source": [
    "### 1. Data information"
   ]
  },
  {
   "cell_type": "code",
   "execution_count": 11,
   "metadata": {
    "colab": {
     "base_uri": "https://localhost:8080/"
    },
    "id": "Ld65c2srwKCx",
    "outputId": "3986dcf3-1041-4964-92e5-cb2a74111c5f"
   },
   "outputs": [
    {
     "name": "stdout",
     "output_type": "stream",
     "text": [
      "<class 'pandas.core.frame.DataFrame'>\n",
      "RangeIndex: 2965 entries, 0 to 2964\n",
      "Data columns (total 24 columns):\n",
      " #   Column                      Non-Null Count  Dtype  \n",
      "---  ------                      --------------  -----  \n",
      " 0   limit_balance               2965 non-null   float64\n",
      " 1   sex                         2965 non-null   int64  \n",
      " 2   education_level             2965 non-null   int64  \n",
      " 3   marital_status              2965 non-null   int64  \n",
      " 4   age                         2965 non-null   float64\n",
      " 5   pay_0                       2965 non-null   float64\n",
      " 6   pay_2                       2965 non-null   float64\n",
      " 7   pay_3                       2965 non-null   float64\n",
      " 8   pay_4                       2965 non-null   float64\n",
      " 9   pay_5                       2965 non-null   int64  \n",
      " 10  pay_6                       2965 non-null   int64  \n",
      " 11  bill_amt_1                  2965 non-null   float64\n",
      " 12  bill_amt_2                  2965 non-null   float64\n",
      " 13  bill_amt_3                  2965 non-null   float64\n",
      " 14  bill_amt_4                  2965 non-null   float64\n",
      " 15  bill_amt_5                  2965 non-null   float64\n",
      " 16  bill_amt_6                  2965 non-null   float64\n",
      " 17  pay_amt_1                   2965 non-null   float64\n",
      " 18  pay_amt_2                   2965 non-null   float64\n",
      " 19  pay_amt_3                   2965 non-null   float64\n",
      " 20  pay_amt_4                   2965 non-null   float64\n",
      " 21  pay_amt_5                   2965 non-null   float64\n",
      " 22  pay_amt_6                   2965 non-null   float64\n",
      " 23  default_payment_next_month  2965 non-null   int64  \n",
      "dtypes: float64(18), int64(6)\n",
      "memory usage: 556.1 KB\n"
     ]
    }
   ],
   "source": [
    "# menampilkan info data\n",
    "data.info()"
   ]
  },
  {
   "cell_type": "markdown",
   "metadata": {
    "id": "Y6sQiMD8wKCy"
   },
   "source": [
    "Dari basic info ini dapat diketahui datafrane terbentuk dari:\n",
    "- Jumlah baris data 2965\n",
    "- Jumlah kolom 24\n",
    "- 18 kolom dengan tipe **float**\n",
    "- 6 kolom dengan tipe **integer**\n",
    "\n",
    "Jika dilihat dari basic info ini sepertinya tidak ada missing value pada dataframe, tetapi type datanya harus kita perbaiki."
   ]
  },
  {
   "cell_type": "code",
   "execution_count": 12,
   "metadata": {
    "colab": {
     "base_uri": "https://localhost:8080/",
     "height": 866
    },
    "id": "5TnDAKI1wKCy",
    "outputId": "b6abe69f-31c7-4857-a342-d5e2322b37b8"
   },
   "outputs": [
    {
     "data": {
      "text/html": [
       "\n",
       "  <div id=\"df-91cdf25b-4f2a-436e-8f9c-1434bca3f76b\">\n",
       "    <div class=\"colab-df-container\">\n",
       "      <div>\n",
       "<style scoped>\n",
       "    .dataframe tbody tr th:only-of-type {\n",
       "        vertical-align: middle;\n",
       "    }\n",
       "\n",
       "    .dataframe tbody tr th {\n",
       "        vertical-align: top;\n",
       "    }\n",
       "\n",
       "    .dataframe thead th {\n",
       "        text-align: right;\n",
       "    }\n",
       "</style>\n",
       "<table border=\"1\" class=\"dataframe\">\n",
       "  <thead>\n",
       "    <tr style=\"text-align: right;\">\n",
       "      <th></th>\n",
       "      <th>count</th>\n",
       "      <th>mean</th>\n",
       "      <th>std</th>\n",
       "      <th>min</th>\n",
       "      <th>25%</th>\n",
       "      <th>50%</th>\n",
       "      <th>75%</th>\n",
       "      <th>max</th>\n",
       "    </tr>\n",
       "  </thead>\n",
       "  <tbody>\n",
       "    <tr>\n",
       "      <th>limit_balance</th>\n",
       "      <td>2965.0</td>\n",
       "      <td>163369.308600</td>\n",
       "      <td>125030.415472</td>\n",
       "      <td>10000.0</td>\n",
       "      <td>50000.0</td>\n",
       "      <td>140000.0</td>\n",
       "      <td>230000.0</td>\n",
       "      <td>800000.0</td>\n",
       "    </tr>\n",
       "    <tr>\n",
       "      <th>sex</th>\n",
       "      <td>2965.0</td>\n",
       "      <td>1.607757</td>\n",
       "      <td>0.488333</td>\n",
       "      <td>1.0</td>\n",
       "      <td>1.0</td>\n",
       "      <td>2.0</td>\n",
       "      <td>2.0</td>\n",
       "      <td>2.0</td>\n",
       "    </tr>\n",
       "    <tr>\n",
       "      <th>education_level</th>\n",
       "      <td>2965.0</td>\n",
       "      <td>1.849578</td>\n",
       "      <td>0.778184</td>\n",
       "      <td>0.0</td>\n",
       "      <td>1.0</td>\n",
       "      <td>2.0</td>\n",
       "      <td>2.0</td>\n",
       "      <td>6.0</td>\n",
       "    </tr>\n",
       "    <tr>\n",
       "      <th>marital_status</th>\n",
       "      <td>2965.0</td>\n",
       "      <td>1.559865</td>\n",
       "      <td>0.522317</td>\n",
       "      <td>0.0</td>\n",
       "      <td>1.0</td>\n",
       "      <td>2.0</td>\n",
       "      <td>2.0</td>\n",
       "      <td>3.0</td>\n",
       "    </tr>\n",
       "    <tr>\n",
       "      <th>age</th>\n",
       "      <td>2965.0</td>\n",
       "      <td>35.193255</td>\n",
       "      <td>9.109439</td>\n",
       "      <td>21.0</td>\n",
       "      <td>28.0</td>\n",
       "      <td>34.0</td>\n",
       "      <td>41.0</td>\n",
       "      <td>69.0</td>\n",
       "    </tr>\n",
       "    <tr>\n",
       "      <th>pay_0</th>\n",
       "      <td>2965.0</td>\n",
       "      <td>0.005059</td>\n",
       "      <td>1.114395</td>\n",
       "      <td>-2.0</td>\n",
       "      <td>-1.0</td>\n",
       "      <td>0.0</td>\n",
       "      <td>0.0</td>\n",
       "      <td>8.0</td>\n",
       "    </tr>\n",
       "    <tr>\n",
       "      <th>pay_2</th>\n",
       "      <td>2965.0</td>\n",
       "      <td>-0.122428</td>\n",
       "      <td>1.180784</td>\n",
       "      <td>-2.0</td>\n",
       "      <td>-1.0</td>\n",
       "      <td>0.0</td>\n",
       "      <td>0.0</td>\n",
       "      <td>7.0</td>\n",
       "    </tr>\n",
       "    <tr>\n",
       "      <th>pay_3</th>\n",
       "      <td>2965.0</td>\n",
       "      <td>-0.141653</td>\n",
       "      <td>1.183630</td>\n",
       "      <td>-2.0</td>\n",
       "      <td>-1.0</td>\n",
       "      <td>0.0</td>\n",
       "      <td>0.0</td>\n",
       "      <td>7.0</td>\n",
       "    </tr>\n",
       "    <tr>\n",
       "      <th>pay_4</th>\n",
       "      <td>2965.0</td>\n",
       "      <td>-0.185160</td>\n",
       "      <td>1.178322</td>\n",
       "      <td>-2.0</td>\n",
       "      <td>-1.0</td>\n",
       "      <td>0.0</td>\n",
       "      <td>0.0</td>\n",
       "      <td>8.0</td>\n",
       "    </tr>\n",
       "    <tr>\n",
       "      <th>pay_5</th>\n",
       "      <td>2965.0</td>\n",
       "      <td>-0.225295</td>\n",
       "      <td>1.159003</td>\n",
       "      <td>-2.0</td>\n",
       "      <td>-1.0</td>\n",
       "      <td>0.0</td>\n",
       "      <td>0.0</td>\n",
       "      <td>7.0</td>\n",
       "    </tr>\n",
       "    <tr>\n",
       "      <th>pay_6</th>\n",
       "      <td>2965.0</td>\n",
       "      <td>-0.254637</td>\n",
       "      <td>1.167305</td>\n",
       "      <td>-2.0</td>\n",
       "      <td>-1.0</td>\n",
       "      <td>0.0</td>\n",
       "      <td>0.0</td>\n",
       "      <td>7.0</td>\n",
       "    </tr>\n",
       "    <tr>\n",
       "      <th>bill_amt_1</th>\n",
       "      <td>2965.0</td>\n",
       "      <td>52118.305228</td>\n",
       "      <td>72328.670541</td>\n",
       "      <td>-11545.0</td>\n",
       "      <td>3958.0</td>\n",
       "      <td>24257.0</td>\n",
       "      <td>69852.0</td>\n",
       "      <td>613860.0</td>\n",
       "    </tr>\n",
       "    <tr>\n",
       "      <th>bill_amt_2</th>\n",
       "      <td>2965.0</td>\n",
       "      <td>50649.153120</td>\n",
       "      <td>70785.001588</td>\n",
       "      <td>-67526.0</td>\n",
       "      <td>3390.0</td>\n",
       "      <td>23111.0</td>\n",
       "      <td>67827.0</td>\n",
       "      <td>512650.0</td>\n",
       "    </tr>\n",
       "    <tr>\n",
       "      <th>bill_amt_3</th>\n",
       "      <td>2965.0</td>\n",
       "      <td>48239.757504</td>\n",
       "      <td>68145.710745</td>\n",
       "      <td>-25443.0</td>\n",
       "      <td>3302.0</td>\n",
       "      <td>21520.0</td>\n",
       "      <td>63023.0</td>\n",
       "      <td>578971.0</td>\n",
       "    </tr>\n",
       "    <tr>\n",
       "      <th>bill_amt_4</th>\n",
       "      <td>2965.0</td>\n",
       "      <td>44089.683305</td>\n",
       "      <td>61907.454056</td>\n",
       "      <td>-46627.0</td>\n",
       "      <td>2582.0</td>\n",
       "      <td>19894.0</td>\n",
       "      <td>58622.0</td>\n",
       "      <td>488808.0</td>\n",
       "    </tr>\n",
       "    <tr>\n",
       "      <th>bill_amt_5</th>\n",
       "      <td>2965.0</td>\n",
       "      <td>40956.080607</td>\n",
       "      <td>58271.904751</td>\n",
       "      <td>-46627.0</td>\n",
       "      <td>1958.0</td>\n",
       "      <td>18814.0</td>\n",
       "      <td>53373.0</td>\n",
       "      <td>441981.0</td>\n",
       "    </tr>\n",
       "    <tr>\n",
       "      <th>bill_amt_6</th>\n",
       "      <td>2965.0</td>\n",
       "      <td>39773.072513</td>\n",
       "      <td>57303.488981</td>\n",
       "      <td>-73895.0</td>\n",
       "      <td>1430.0</td>\n",
       "      <td>18508.0</td>\n",
       "      <td>52287.0</td>\n",
       "      <td>436172.0</td>\n",
       "    </tr>\n",
       "    <tr>\n",
       "      <th>pay_amt_1</th>\n",
       "      <td>2965.0</td>\n",
       "      <td>6348.902867</td>\n",
       "      <td>20885.735336</td>\n",
       "      <td>0.0</td>\n",
       "      <td>1013.0</td>\n",
       "      <td>2234.0</td>\n",
       "      <td>5087.0</td>\n",
       "      <td>493358.0</td>\n",
       "    </tr>\n",
       "    <tr>\n",
       "      <th>pay_amt_2</th>\n",
       "      <td>2965.0</td>\n",
       "      <td>6272.494435</td>\n",
       "      <td>28879.674534</td>\n",
       "      <td>0.0</td>\n",
       "      <td>990.0</td>\n",
       "      <td>2175.0</td>\n",
       "      <td>5000.0</td>\n",
       "      <td>1227082.0</td>\n",
       "    </tr>\n",
       "    <tr>\n",
       "      <th>pay_amt_3</th>\n",
       "      <td>2965.0</td>\n",
       "      <td>5150.497133</td>\n",
       "      <td>14287.079982</td>\n",
       "      <td>0.0</td>\n",
       "      <td>477.0</td>\n",
       "      <td>1994.0</td>\n",
       "      <td>4500.0</td>\n",
       "      <td>199209.0</td>\n",
       "    </tr>\n",
       "    <tr>\n",
       "      <th>pay_amt_4</th>\n",
       "      <td>2965.0</td>\n",
       "      <td>4561.376054</td>\n",
       "      <td>13281.499599</td>\n",
       "      <td>0.0</td>\n",
       "      <td>313.0</td>\n",
       "      <td>1600.0</td>\n",
       "      <td>4000.0</td>\n",
       "      <td>202076.0</td>\n",
       "    </tr>\n",
       "    <tr>\n",
       "      <th>pay_amt_5</th>\n",
       "      <td>2965.0</td>\n",
       "      <td>4913.286678</td>\n",
       "      <td>16734.340778</td>\n",
       "      <td>0.0</td>\n",
       "      <td>323.0</td>\n",
       "      <td>1646.0</td>\n",
       "      <td>4021.0</td>\n",
       "      <td>388071.0</td>\n",
       "    </tr>\n",
       "    <tr>\n",
       "      <th>pay_amt_6</th>\n",
       "      <td>2965.0</td>\n",
       "      <td>5382.701518</td>\n",
       "      <td>17275.953029</td>\n",
       "      <td>0.0</td>\n",
       "      <td>173.0</td>\n",
       "      <td>1615.0</td>\n",
       "      <td>4081.0</td>\n",
       "      <td>403500.0</td>\n",
       "    </tr>\n",
       "    <tr>\n",
       "      <th>default_payment_next_month</th>\n",
       "      <td>2965.0</td>\n",
       "      <td>0.214165</td>\n",
       "      <td>0.410311</td>\n",
       "      <td>0.0</td>\n",
       "      <td>0.0</td>\n",
       "      <td>0.0</td>\n",
       "      <td>0.0</td>\n",
       "      <td>1.0</td>\n",
       "    </tr>\n",
       "  </tbody>\n",
       "</table>\n",
       "</div>\n",
       "      <button class=\"colab-df-convert\" onclick=\"convertToInteractive('df-91cdf25b-4f2a-436e-8f9c-1434bca3f76b')\"\n",
       "              title=\"Convert this dataframe to an interactive table.\"\n",
       "              style=\"display:none;\">\n",
       "        \n",
       "  <svg xmlns=\"http://www.w3.org/2000/svg\" height=\"24px\"viewBox=\"0 0 24 24\"\n",
       "       width=\"24px\">\n",
       "    <path d=\"M0 0h24v24H0V0z\" fill=\"none\"/>\n",
       "    <path d=\"M18.56 5.44l.94 2.06.94-2.06 2.06-.94-2.06-.94-.94-2.06-.94 2.06-2.06.94zm-11 1L8.5 8.5l.94-2.06 2.06-.94-2.06-.94L8.5 2.5l-.94 2.06-2.06.94zm10 10l.94 2.06.94-2.06 2.06-.94-2.06-.94-.94-2.06-.94 2.06-2.06.94z\"/><path d=\"M17.41 7.96l-1.37-1.37c-.4-.4-.92-.59-1.43-.59-.52 0-1.04.2-1.43.59L10.3 9.45l-7.72 7.72c-.78.78-.78 2.05 0 2.83L4 21.41c.39.39.9.59 1.41.59.51 0 1.02-.2 1.41-.59l7.78-7.78 2.81-2.81c.8-.78.8-2.07 0-2.86zM5.41 20L4 18.59l7.72-7.72 1.47 1.35L5.41 20z\"/>\n",
       "  </svg>\n",
       "      </button>\n",
       "      \n",
       "  <style>\n",
       "    .colab-df-container {\n",
       "      display:flex;\n",
       "      flex-wrap:wrap;\n",
       "      gap: 12px;\n",
       "    }\n",
       "\n",
       "    .colab-df-convert {\n",
       "      background-color: #E8F0FE;\n",
       "      border: none;\n",
       "      border-radius: 50%;\n",
       "      cursor: pointer;\n",
       "      display: none;\n",
       "      fill: #1967D2;\n",
       "      height: 32px;\n",
       "      padding: 0 0 0 0;\n",
       "      width: 32px;\n",
       "    }\n",
       "\n",
       "    .colab-df-convert:hover {\n",
       "      background-color: #E2EBFA;\n",
       "      box-shadow: 0px 1px 2px rgba(60, 64, 67, 0.3), 0px 1px 3px 1px rgba(60, 64, 67, 0.15);\n",
       "      fill: #174EA6;\n",
       "    }\n",
       "\n",
       "    [theme=dark] .colab-df-convert {\n",
       "      background-color: #3B4455;\n",
       "      fill: #D2E3FC;\n",
       "    }\n",
       "\n",
       "    [theme=dark] .colab-df-convert:hover {\n",
       "      background-color: #434B5C;\n",
       "      box-shadow: 0px 1px 3px 1px rgba(0, 0, 0, 0.15);\n",
       "      filter: drop-shadow(0px 1px 2px rgba(0, 0, 0, 0.3));\n",
       "      fill: #FFFFFF;\n",
       "    }\n",
       "  </style>\n",
       "\n",
       "      <script>\n",
       "        const buttonEl =\n",
       "          document.querySelector('#df-91cdf25b-4f2a-436e-8f9c-1434bca3f76b button.colab-df-convert');\n",
       "        buttonEl.style.display =\n",
       "          google.colab.kernel.accessAllowed ? 'block' : 'none';\n",
       "\n",
       "        async function convertToInteractive(key) {\n",
       "          const element = document.querySelector('#df-91cdf25b-4f2a-436e-8f9c-1434bca3f76b');\n",
       "          const dataTable =\n",
       "            await google.colab.kernel.invokeFunction('convertToInteractive',\n",
       "                                                     [key], {});\n",
       "          if (!dataTable) return;\n",
       "\n",
       "          const docLinkHtml = 'Like what you see? Visit the ' +\n",
       "            '<a target=\"_blank\" href=https://colab.research.google.com/notebooks/data_table.ipynb>data table notebook</a>'\n",
       "            + ' to learn more about interactive tables.';\n",
       "          element.innerHTML = '';\n",
       "          dataTable['output_type'] = 'display_data';\n",
       "          await google.colab.output.renderOutput(dataTable, element);\n",
       "          const docLink = document.createElement('div');\n",
       "          docLink.innerHTML = docLinkHtml;\n",
       "          element.appendChild(docLink);\n",
       "        }\n",
       "      </script>\n",
       "    </div>\n",
       "  </div>\n",
       "  "
      ],
      "text/plain": [
       "                             count           mean            std      min  \\\n",
       "limit_balance               2965.0  163369.308600  125030.415472  10000.0   \n",
       "sex                         2965.0       1.607757       0.488333      1.0   \n",
       "education_level             2965.0       1.849578       0.778184      0.0   \n",
       "marital_status              2965.0       1.559865       0.522317      0.0   \n",
       "age                         2965.0      35.193255       9.109439     21.0   \n",
       "pay_0                       2965.0       0.005059       1.114395     -2.0   \n",
       "pay_2                       2965.0      -0.122428       1.180784     -2.0   \n",
       "pay_3                       2965.0      -0.141653       1.183630     -2.0   \n",
       "pay_4                       2965.0      -0.185160       1.178322     -2.0   \n",
       "pay_5                       2965.0      -0.225295       1.159003     -2.0   \n",
       "pay_6                       2965.0      -0.254637       1.167305     -2.0   \n",
       "bill_amt_1                  2965.0   52118.305228   72328.670541 -11545.0   \n",
       "bill_amt_2                  2965.0   50649.153120   70785.001588 -67526.0   \n",
       "bill_amt_3                  2965.0   48239.757504   68145.710745 -25443.0   \n",
       "bill_amt_4                  2965.0   44089.683305   61907.454056 -46627.0   \n",
       "bill_amt_5                  2965.0   40956.080607   58271.904751 -46627.0   \n",
       "bill_amt_6                  2965.0   39773.072513   57303.488981 -73895.0   \n",
       "pay_amt_1                   2965.0    6348.902867   20885.735336      0.0   \n",
       "pay_amt_2                   2965.0    6272.494435   28879.674534      0.0   \n",
       "pay_amt_3                   2965.0    5150.497133   14287.079982      0.0   \n",
       "pay_amt_4                   2965.0    4561.376054   13281.499599      0.0   \n",
       "pay_amt_5                   2965.0    4913.286678   16734.340778      0.0   \n",
       "pay_amt_6                   2965.0    5382.701518   17275.953029      0.0   \n",
       "default_payment_next_month  2965.0       0.214165       0.410311      0.0   \n",
       "\n",
       "                                25%       50%       75%        max  \n",
       "limit_balance               50000.0  140000.0  230000.0   800000.0  \n",
       "sex                             1.0       2.0       2.0        2.0  \n",
       "education_level                 1.0       2.0       2.0        6.0  \n",
       "marital_status                  1.0       2.0       2.0        3.0  \n",
       "age                            28.0      34.0      41.0       69.0  \n",
       "pay_0                          -1.0       0.0       0.0        8.0  \n",
       "pay_2                          -1.0       0.0       0.0        7.0  \n",
       "pay_3                          -1.0       0.0       0.0        7.0  \n",
       "pay_4                          -1.0       0.0       0.0        8.0  \n",
       "pay_5                          -1.0       0.0       0.0        7.0  \n",
       "pay_6                          -1.0       0.0       0.0        7.0  \n",
       "bill_amt_1                   3958.0   24257.0   69852.0   613860.0  \n",
       "bill_amt_2                   3390.0   23111.0   67827.0   512650.0  \n",
       "bill_amt_3                   3302.0   21520.0   63023.0   578971.0  \n",
       "bill_amt_4                   2582.0   19894.0   58622.0   488808.0  \n",
       "bill_amt_5                   1958.0   18814.0   53373.0   441981.0  \n",
       "bill_amt_6                   1430.0   18508.0   52287.0   436172.0  \n",
       "pay_amt_1                    1013.0    2234.0    5087.0   493358.0  \n",
       "pay_amt_2                     990.0    2175.0    5000.0  1227082.0  \n",
       "pay_amt_3                     477.0    1994.0    4500.0   199209.0  \n",
       "pay_amt_4                     313.0    1600.0    4000.0   202076.0  \n",
       "pay_amt_5                     323.0    1646.0    4021.0   388071.0  \n",
       "pay_amt_6                     173.0    1615.0    4081.0   403500.0  \n",
       "default_payment_next_month      0.0       0.0       0.0        1.0  "
      ]
     },
     "execution_count": 12,
     "metadata": {},
     "output_type": "execute_result"
    }
   ],
   "source": [
    "# describe data\n",
    "data.describe().T"
   ]
  },
  {
   "cell_type": "markdown",
   "metadata": {
    "id": "hhvnDjxzwKCz"
   },
   "source": [
    "- tidak ditemukan anomali pada data"
   ]
  },
  {
   "cell_type": "code",
   "execution_count": 13,
   "metadata": {
    "colab": {
     "base_uri": "https://localhost:8080/"
    },
    "id": "v2Sl5xi0wKCz",
    "outputId": "fda61c60-7266-4533-90ae-c49c995be0ff"
   },
   "outputs": [
    {
     "name": "stdout",
     "output_type": "stream",
     "text": [
      "All columns Unique values count\n",
      "limit_balance: 59\n",
      "sex: 2\n",
      "education_level: 7\n",
      "marital_status: 4\n",
      "age: 49\n",
      "pay_0: 11\n",
      "pay_2: 10\n",
      "pay_3: 9\n",
      "pay_4: 10\n",
      "pay_5: 9\n",
      "pay_6: 8\n",
      "bill_amt_1: 2643\n",
      "bill_amt_2: 2592\n",
      "bill_amt_3: 2549\n",
      "bill_amt_4: 2504\n",
      "bill_amt_5: 2482\n",
      "bill_amt_6: 2461\n",
      "pay_amt_1: 1415\n",
      "pay_amt_2: 1372\n",
      "pay_amt_3: 1302\n",
      "pay_amt_4: 1214\n",
      "pay_amt_5: 1194\n",
      "pay_amt_6: 1189\n",
      "default_payment_next_month: 2\n"
     ]
    }
   ],
   "source": [
    "# mendefinisikan value pada masing2 kolom\n",
    "print(\"All columns Unique values count\")\n",
    "for col in data:\n",
    "    print(col, len(data[col].unique()), sep=': ')"
   ]
  },
  {
   "cell_type": "markdown",
   "metadata": {
    "id": "n4V2-HFjwKC0"
   },
   "source": [
    "- ditemukan bahwa beberapa datanya sudah diencoding, seperti kolom sex, education, marital status dan beberapa datanya sudah dikategorikan seperti pada kolom-kolom pay."
   ]
  },
  {
   "cell_type": "markdown",
   "metadata": {
    "id": "nQrIR6yAwKC0"
   },
   "source": [
    "## 2. Data Cleaning\n",
    "*pada bagian ini akan dilakukan pembersihan data*"
   ]
  },
  {
   "cell_type": "markdown",
   "metadata": {
    "id": "W-4ezG4MwKC0"
   },
   "source": [
    "### 2.1 Missing Value\n",
    "*akan dilakukan pengecekan terhadap missing value*"
   ]
  },
  {
   "cell_type": "code",
   "execution_count": 14,
   "metadata": {
    "colab": {
     "base_uri": "https://localhost:8080/"
    },
    "id": "AXWSRFO4wKC1",
    "outputId": "f27e8ace-e80d-43ba-f3b5-90f16e0661e2"
   },
   "outputs": [
    {
     "data": {
      "text/plain": [
       "limit_balance                 0\n",
       "sex                           0\n",
       "education_level               0\n",
       "marital_status                0\n",
       "age                           0\n",
       "pay_0                         0\n",
       "pay_2                         0\n",
       "pay_3                         0\n",
       "pay_4                         0\n",
       "pay_5                         0\n",
       "pay_6                         0\n",
       "bill_amt_1                    0\n",
       "bill_amt_2                    0\n",
       "bill_amt_3                    0\n",
       "bill_amt_4                    0\n",
       "bill_amt_5                    0\n",
       "bill_amt_6                    0\n",
       "pay_amt_1                     0\n",
       "pay_amt_2                     0\n",
       "pay_amt_3                     0\n",
       "pay_amt_4                     0\n",
       "pay_amt_5                     0\n",
       "pay_amt_6                     0\n",
       "default_payment_next_month    0\n",
       "dtype: int64"
      ]
     },
     "execution_count": 14,
     "metadata": {},
     "output_type": "execute_result"
    }
   ],
   "source": [
    "# menjumlahkan missing valaue setiap kolom\n",
    "data.isna().sum()"
   ]
  },
  {
   "cell_type": "markdown",
   "metadata": {
    "id": "CPHFxRWgwKC2"
   },
   "source": [
    "tidak terdapat missing value pada data"
   ]
  },
  {
   "cell_type": "markdown",
   "metadata": {
    "id": "KosTPUiKwKC2"
   },
   "source": [
    "### 2.2 Data duplicated\n",
    "*pada bagian ini akan dilakukan pengecekan terhadap data duplikat.*"
   ]
  },
  {
   "cell_type": "code",
   "execution_count": 15,
   "metadata": {
    "colab": {
     "base_uri": "https://localhost:8080/"
    },
    "id": "ItViPbCWwKC3",
    "outputId": "5d23344a-8d24-48c3-b088-99464b464f3d"
   },
   "outputs": [
    {
     "data": {
      "text/plain": [
       "1"
      ]
     },
     "execution_count": 15,
     "metadata": {},
     "output_type": "execute_result"
    }
   ],
   "source": [
    "# checking duplicated data\n",
    "data.duplicated().sum()"
   ]
  },
  {
   "cell_type": "markdown",
   "metadata": {
    "id": "46FNn7gzwKC3"
   },
   "source": [
    "ditemukan ada 1 data duplicated"
   ]
  },
  {
   "cell_type": "code",
   "execution_count": 16,
   "metadata": {
    "colab": {
     "base_uri": "https://localhost:8080/"
    },
    "id": "ffxbfyrFwKC4",
    "outputId": "c8f38396-d135-4fed-8913-83a9ce966bdf"
   },
   "outputs": [
    {
     "data": {
      "text/plain": [
       "0"
      ]
     },
     "execution_count": 16,
     "metadata": {},
     "output_type": "execute_result"
    }
   ],
   "source": [
    "# drop data duplicated\n",
    "data.drop_duplicates(inplace=True)\n",
    "data.duplicated().sum()"
   ]
  },
  {
   "cell_type": "markdown",
   "metadata": {
    "id": "SVrI2EsgwKC5"
   },
   "source": [
    "data duplicated telah didrop"
   ]
  },
  {
   "cell_type": "code",
   "execution_count": 17,
   "metadata": {
    "colab": {
     "base_uri": "https://localhost:8080/"
    },
    "id": "sdh0SpCdwKC5",
    "outputId": "74365c30-4342-4a25-ca92-d678b565d51d"
   },
   "outputs": [
    {
     "data": {
      "text/plain": [
       "(2964, 24)"
      ]
     },
     "execution_count": 17,
     "metadata": {},
     "output_type": "execute_result"
    }
   ],
   "source": [
    "# shape dataset\n",
    "data.shape"
   ]
  },
  {
   "cell_type": "markdown",
   "metadata": {
    "id": "3ACJDIqCwKC5"
   },
   "source": [
    "# C.Exploratory Data Analysis\n",
    "*exploring data*"
   ]
  },
  {
   "cell_type": "code",
   "execution_count": 18,
   "metadata": {
    "colab": {
     "base_uri": "https://localhost:8080/",
     "height": 380
    },
    "id": "5HhhSbfMwKC6",
    "outputId": "b73b2473-6699-4cdc-d83d-18c928c3186d"
   },
   "outputs": [
    {
     "data": {
      "image/png": "[encoded data removed]",
      "text/plain": [
       "<Figure size 1080x432 with 2 Axes>"
      ]
     },
     "metadata": {
      "needs_background": "light"
     },
     "output_type": "display_data"
    }
   ],
   "source": [
    "# membuat grafik countplot untuk kolom target\n",
    "\n",
    "plt.figure(figsize=(15, 6))\n",
    "plt.subplot(1, 2, 1)\n",
    "sns.countplot(x='default_payment_next_month', data=data)\n",
    "plt.title('default_payment_next_month Count')\n",
    "plt.xlabel('default_payment_next_month')\n",
    "plt.ylabel('Count')\n",
    "plt.subplot(1, 2, 2)\n",
    "plt.pie(data.default_payment_next_month.value_counts(), labels=data.default_payment_next_month.value_counts().index, autopct='%1.1f%%')\n",
    "plt.title('default_payment_next_month Percentage')\n",
    "plt.show()"
   ]
  },
  {
   "cell_type": "markdown",
   "metadata": {
    "id": "VgAyZhPHWtST"
   },
   "source": [
    "secara sederhana dapat langsung terlihat jika default payment next mount untuk nasabah yang tidak default atau 0 adalah 78.6% dan yang default atau 1 yaitu 21.4%. ini artinya ada seperlima nasabah yang card creditnya telah di default"
   ]
  },
  {
   "cell_type": "code",
   "execution_count": 19,
   "metadata": {
    "colab": {
     "base_uri": "https://localhost:8080/",
     "height": 293
    },
    "id": "mnOttnDhyy8-",
    "outputId": "3aa1bdc5-c9f6-4216-8689-4a9a4c8593af"
   },
   "outputs": [
    {
     "data": {
      "image/png": "[encoded data removed]",
      "text/plain": [
       "<Figure size 432x288 with 1 Axes>"
      ]
     },
     "metadata": {
      "needs_background": "light"
     },
     "output_type": "display_data"
    }
   ],
   "source": [
    "pd.crosstab(data['default_payment_next_month'],data['sex']).plot(kind='bar')\n",
    "plt.title('default_payment_next_month vs SEX')\n",
    "plt.xlabel('default_payment_next_month')\n",
    "plt.ylabel('sex')\n",
    "plt.legend(['Male', 'Female'])\n",
    "plt.show()"
   ]
  },
  {
   "cell_type": "markdown",
   "metadata": {
    "id": "mqXkdt2z1LRq"
   },
   "source": [
    "nasabah default didominasi oleh perempuan, tetapi dominasi ini memang dikarenakan major datanya lebih banyak perempuan."
   ]
  },
  {
   "cell_type": "code",
   "execution_count": 20,
   "metadata": {
    "colab": {
     "base_uri": "https://localhost:8080/",
     "height": 293
    },
    "id": "2hUSb1ayzpwU",
    "outputId": "31355571-110d-4962-d406-c75589431865"
   },
   "outputs": [
    {
     "data": {
      "image/png": "[encoded data removed]",
      "text/plain": [
       "<Figure size 432x288 with 1 Axes>"
      ]
     },
     "metadata": {
      "needs_background": "light"
     },
     "output_type": "display_data"
    }
   ],
   "source": [
    "pd.crosstab(data['default_payment_next_month'],data['marital_status']).plot(kind='bar')\n",
    "plt.title('default_payment_next_month vs marital_status')\n",
    "plt.xlabel('default_payment_next_month')\n",
    "plt.ylabel('marital_status')\n",
    "plt.legend(['Unknown', 'Married', 'Single', 'Others'])\n",
    "plt.show()"
   ]
  },
  {
   "cell_type": "markdown",
   "metadata": {
    "id": "NyafcqIf1cN_"
   },
   "source": [
    "untuk status menikah, deketahui bahwa yang banyak default adalah dengan status single, dan maried, untuk nilai yang lain kurang jelas mungkin divorce dsb jadi tidak dapat dibandingkan."
   ]
  },
  {
   "cell_type": "code",
   "execution_count": 21,
   "metadata": {
    "colab": {
     "base_uri": "https://localhost:8080/",
     "height": 401
    },
    "id": "IWy6qzt7z8cT",
    "outputId": "d012f3f5-efa2-4385-9d11-ec512e3c7395"
   },
   "outputs": [
    {
     "data": {
      "image/png": "[encoded data removed]",
      "text/plain": [
       "<Figure size 432x432 with 1 Axes>"
      ]
     },
     "metadata": {
      "needs_background": "light"
     },
     "output_type": "display_data"
    }
   ],
   "source": [
    "pd.crosstab(data['default_payment_next_month'],data['education_level']).plot(kind='bar', figsize=(6,6))\n",
    "plt.title('default_payment_next_month vs education_level')\n",
    "plt.xlabel('default_payment_next_month')\n",
    "plt.ylabel('education_level')\n",
    "plt.legend(['Graduate school','University','High School', 'Others', 'Unknown', 'Unknown'])\n",
    "plt.show()"
   ]
  },
  {
   "cell_type": "markdown",
   "metadata": {
    "id": "hBXF6c4J2Gym"
   },
   "source": [
    "secara grafik hampir sama dengan grafik sebelumnya yaitu nilai default mengikuti major datanya, begitu pula untuk education level, disini ternyata default didominasi pendidikan HighSchool, dan Universitas. ini dapat menjadi pertimbangan untuk lebih memilah nasabah baru jika pendidikannya HighSchool."
   ]
  },
  {
   "cell_type": "markdown",
   "metadata": {
    "id": "ZV9zIlhlwKC8"
   },
   "source": [
    "# D. Data Preprocessing\n",
    "*bagian ini berisi penyiapan data untuk modelling*"
   ]
  },
  {
   "cell_type": "markdown",
   "metadata": {
    "id": "qeaZlsgQwKC8"
   },
   "source": [
    "#### 1. Split Data\n",
    "*akan dilakukan pemisahan data inference, data train dan data test.*"
   ]
  },
  {
   "cell_type": "code",
   "execution_count": 22,
   "metadata": {
    "id": "615aG9jGFHai"
   },
   "outputs": [],
   "source": [
    "# Mengambil data inference\n",
    "df_inf = data.sample(20, random_state=41)\n",
    "\n",
    "# Memisahkan data inf dari dataset\n",
    "df_train_test = data.drop(df_inf.index)\n",
    "\n",
    "# reset index untuk kedua datanya\n",
    "df_train_test.reset_index(drop=True, inplace=True)\n",
    "df_inf.reset_index(drop=True, inplace=True)"
   ]
  },
  {
   "cell_type": "code",
   "execution_count": 23,
   "metadata": {
    "colab": {
     "base_uri": "https://localhost:8080/"
    },
    "id": "TXp04PFNFO1x",
    "outputId": "d85f1947-7c2d-44df-9bfe-700cf6eb14e1"
   },
   "outputs": [
    {
     "name": "stdout",
     "output_type": "stream",
     "text": [
      "Train size:  (2060, 24)\n",
      "Test size:  (884, 24)\n"
     ]
    }
   ],
   "source": [
    "# train_test_split\n",
    "# memisahkan data train dan test\n",
    "train, test = train_test_split(df_train_test, test_size=0.3, random_state=21)\n",
    "\n",
    "print('Train size: ', train.shape)\n",
    "print('Test size: ', test.shape)"
   ]
  },
  {
   "cell_type": "markdown",
   "metadata": {
    "id": "wpe9K81KFTR_"
   },
   "source": [
    "- pengambilan data inference sejumlah 20\n",
    "- data inference didrop untuk dipisahkan dari data\n",
    "- kemudian dilakukan pemisahan data train 70 persen dan data test 30 persen"
   ]
  },
  {
   "cell_type": "markdown",
   "metadata": {
    "id": "qFdTHDErHcto"
   },
   "source": [
    "### 2. Corelation dengan Heatmap\n",
    "*mencari korelasi/hubungan pada tiap kolom/feature dengan target, untuk menentukan feature yang digunakan*"
   ]
  },
  {
   "cell_type": "code",
   "execution_count": 24,
   "metadata": {
    "colab": {
     "base_uri": "https://localhost:8080/",
     "height": 641
    },
    "id": "F2iMbE1VHcJ7",
    "outputId": "609f5de5-077c-4286-e95a-d9d6ee5913ce"
   },
   "outputs": [
    {
     "name": "stdout",
     "output_type": "stream",
     "text": [
      "interval columns not set, guessing: ['limit_balance', 'sex', 'education_level', 'marital_status', 'age', 'pay_0', 'pay_2', 'pay_3', 'pay_4', 'pay_5', 'pay_6', 'bill_amt_1', 'bill_amt_2', 'bill_amt_3', 'bill_amt_4', 'bill_amt_5', 'bill_amt_6', 'pay_amt_1', 'pay_amt_2', 'pay_amt_3', 'pay_amt_4', 'pay_amt_5', 'pay_amt_6', 'default_payment_next_month']\n"
     ]
    },
    {
     "data": {
      "text/plain": [
       "<matplotlib.axes._subplots.AxesSubplot at 0x7f0649b65650>"
      ]
     },
     "execution_count": 24,
     "metadata": {},
     "output_type": "execute_result"
    },
    {
     "data": {
      "image/png": "[encoded data removed]",
      "text/plain": [
       "<Figure size 1224x720 with 2 Axes>"
      ]
     },
     "metadata": {
      "needs_background": "light"
     },
     "output_type": "display_data"
    }
   ],
   "source": [
    "# plot nilai korelasi antar kolom data\n",
    "plt.figure(figsize=(17,10))\n",
    "sns.heatmap(data.phik_matrix(),\n",
    "            vmin=0,\n",
    "            vmax=1,\n",
    "            annot=True,\n",
    "            cmap='YlGnBu')"
   ]
  },
  {
   "cell_type": "markdown",
   "metadata": {
    "id": "x46B_qXiXpcU"
   },
   "source": [
    "pada fungsi korelation hal-hal berpengaruh signifikan dengan default atau tidaknya seorang nasabah yaitu dari segi bagaimana dia melakukan pembayaran dalam 6 kategori kolom pada data yaitu pay_0, pay_2, ... pay,6 dan juga berkorelasi dengan limit balance nya\n",
    "- untuk mengetahui nasabah manakah yang akan default pada data yang akan datang kita akan lakukan modelling dan predict."
   ]
  },
  {
   "cell_type": "markdown",
   "metadata": {
    "id": "S43rnIvZH25l"
   },
   "source": [
    "### 3. Feature Selection\n",
    "*seleksi feature yang digunakan*"
   ]
  },
  {
   "cell_type": "code",
   "execution_count": 25,
   "metadata": {
    "colab": {
     "base_uri": "https://localhost:8080/",
     "height": 424
    },
    "id": "cV2AYh5zHzic",
    "outputId": "ae653e96-b10f-479f-b328-2367d579252a"
   },
   "outputs": [
    {
     "data": {
      "text/html": [
       "\n",
       "  <div id=\"df-7f79e111-3cf6-4301-af4b-83326963b7c3\">\n",
       "    <div class=\"colab-df-container\">\n",
       "      <div>\n",
       "<style scoped>\n",
       "    .dataframe tbody tr th:only-of-type {\n",
       "        vertical-align: middle;\n",
       "    }\n",
       "\n",
       "    .dataframe tbody tr th {\n",
       "        vertical-align: top;\n",
       "    }\n",
       "\n",
       "    .dataframe thead th {\n",
       "        text-align: right;\n",
       "    }\n",
       "</style>\n",
       "<table border=\"1\" class=\"dataframe\">\n",
       "  <thead>\n",
       "    <tr style=\"text-align: right;\">\n",
       "      <th></th>\n",
       "      <th>limit_balance</th>\n",
       "      <th>pay_0</th>\n",
       "      <th>pay_2</th>\n",
       "      <th>pay_3</th>\n",
       "      <th>pay_4</th>\n",
       "      <th>pay_5</th>\n",
       "      <th>pay_6</th>\n",
       "      <th>default_payment_next_month</th>\n",
       "    </tr>\n",
       "  </thead>\n",
       "  <tbody>\n",
       "    <tr>\n",
       "      <th>0</th>\n",
       "      <td>50000.0</td>\n",
       "      <td>0.0</td>\n",
       "      <td>0.0</td>\n",
       "      <td>0.0</td>\n",
       "      <td>0.0</td>\n",
       "      <td>0</td>\n",
       "      <td>0</td>\n",
       "      <td>0</td>\n",
       "    </tr>\n",
       "    <tr>\n",
       "      <th>1</th>\n",
       "      <td>110000.0</td>\n",
       "      <td>0.0</td>\n",
       "      <td>0.0</td>\n",
       "      <td>0.0</td>\n",
       "      <td>0.0</td>\n",
       "      <td>0</td>\n",
       "      <td>0</td>\n",
       "      <td>0</td>\n",
       "    </tr>\n",
       "    <tr>\n",
       "      <th>2</th>\n",
       "      <td>270000.0</td>\n",
       "      <td>0.0</td>\n",
       "      <td>0.0</td>\n",
       "      <td>0.0</td>\n",
       "      <td>2.0</td>\n",
       "      <td>0</td>\n",
       "      <td>0</td>\n",
       "      <td>0</td>\n",
       "    </tr>\n",
       "    <tr>\n",
       "      <th>3</th>\n",
       "      <td>130000.0</td>\n",
       "      <td>0.0</td>\n",
       "      <td>0.0</td>\n",
       "      <td>0.0</td>\n",
       "      <td>0.0</td>\n",
       "      <td>0</td>\n",
       "      <td>0</td>\n",
       "      <td>0</td>\n",
       "    </tr>\n",
       "    <tr>\n",
       "      <th>4</th>\n",
       "      <td>50000.0</td>\n",
       "      <td>0.0</td>\n",
       "      <td>0.0</td>\n",
       "      <td>0.0</td>\n",
       "      <td>0.0</td>\n",
       "      <td>0</td>\n",
       "      <td>0</td>\n",
       "      <td>0</td>\n",
       "    </tr>\n",
       "    <tr>\n",
       "      <th>...</th>\n",
       "      <td>...</td>\n",
       "      <td>...</td>\n",
       "      <td>...</td>\n",
       "      <td>...</td>\n",
       "      <td>...</td>\n",
       "      <td>...</td>\n",
       "      <td>...</td>\n",
       "      <td>...</td>\n",
       "    </tr>\n",
       "    <tr>\n",
       "      <th>2939</th>\n",
       "      <td>210000.0</td>\n",
       "      <td>-1.0</td>\n",
       "      <td>-1.0</td>\n",
       "      <td>-1.0</td>\n",
       "      <td>-1.0</td>\n",
       "      <td>-2</td>\n",
       "      <td>-1</td>\n",
       "      <td>0</td>\n",
       "    </tr>\n",
       "    <tr>\n",
       "      <th>2940</th>\n",
       "      <td>280000.0</td>\n",
       "      <td>2.0</td>\n",
       "      <td>-1.0</td>\n",
       "      <td>-1.0</td>\n",
       "      <td>-1.0</td>\n",
       "      <td>-2</td>\n",
       "      <td>-1</td>\n",
       "      <td>0</td>\n",
       "    </tr>\n",
       "    <tr>\n",
       "      <th>2941</th>\n",
       "      <td>80000.0</td>\n",
       "      <td>1.0</td>\n",
       "      <td>-1.0</td>\n",
       "      <td>-1.0</td>\n",
       "      <td>-1.0</td>\n",
       "      <td>-2</td>\n",
       "      <td>-2</td>\n",
       "      <td>0</td>\n",
       "    </tr>\n",
       "    <tr>\n",
       "      <th>2942</th>\n",
       "      <td>200000.0</td>\n",
       "      <td>1.0</td>\n",
       "      <td>-1.0</td>\n",
       "      <td>-1.0</td>\n",
       "      <td>-2.0</td>\n",
       "      <td>-2</td>\n",
       "      <td>-1</td>\n",
       "      <td>1</td>\n",
       "    </tr>\n",
       "    <tr>\n",
       "      <th>2943</th>\n",
       "      <td>20000.0</td>\n",
       "      <td>-1.0</td>\n",
       "      <td>-1.0</td>\n",
       "      <td>-2.0</td>\n",
       "      <td>-2.0</td>\n",
       "      <td>-2</td>\n",
       "      <td>-2</td>\n",
       "      <td>0</td>\n",
       "    </tr>\n",
       "  </tbody>\n",
       "</table>\n",
       "<p>2944 rows × 8 columns</p>\n",
       "</div>\n",
       "      <button class=\"colab-df-convert\" onclick=\"convertToInteractive('df-7f79e111-3cf6-4301-af4b-83326963b7c3')\"\n",
       "              title=\"Convert this dataframe to an interactive table.\"\n",
       "              style=\"display:none;\">\n",
       "        \n",
       "  <svg xmlns=\"http://www.w3.org/2000/svg\" height=\"24px\"viewBox=\"0 0 24 24\"\n",
       "       width=\"24px\">\n",
       "    <path d=\"M0 0h24v24H0V0z\" fill=\"none\"/>\n",
       "    <path d=\"M18.56 5.44l.94 2.06.94-2.06 2.06-.94-2.06-.94-.94-2.06-.94 2.06-2.06.94zm-11 1L8.5 8.5l.94-2.06 2.06-.94-2.06-.94L8.5 2.5l-.94 2.06-2.06.94zm10 10l.94 2.06.94-2.06 2.06-.94-2.06-.94-.94-2.06-.94 2.06-2.06.94z\"/><path d=\"M17.41 7.96l-1.37-1.37c-.4-.4-.92-.59-1.43-.59-.52 0-1.04.2-1.43.59L10.3 9.45l-7.72 7.72c-.78.78-.78 2.05 0 2.83L4 21.41c.39.39.9.59 1.41.59.51 0 1.02-.2 1.41-.59l7.78-7.78 2.81-2.81c.8-.78.8-2.07 0-2.86zM5.41 20L4 18.59l7.72-7.72 1.47 1.35L5.41 20z\"/>\n",
       "  </svg>\n",
       "      </button>\n",
       "      \n",
       "  <style>\n",
       "    .colab-df-container {\n",
       "      display:flex;\n",
       "      flex-wrap:wrap;\n",
       "      gap: 12px;\n",
       "    }\n",
       "\n",
       "    .colab-df-convert {\n",
       "      background-color: #E8F0FE;\n",
       "      border: none;\n",
       "      border-radius: 50%;\n",
       "      cursor: pointer;\n",
       "      display: none;\n",
       "      fill: #1967D2;\n",
       "      height: 32px;\n",
       "      padding: 0 0 0 0;\n",
       "      width: 32px;\n",
       "    }\n",
       "\n",
       "    .colab-df-convert:hover {\n",
       "      background-color: #E2EBFA;\n",
       "      box-shadow: 0px 1px 2px rgba(60, 64, 67, 0.3), 0px 1px 3px 1px rgba(60, 64, 67, 0.15);\n",
       "      fill: #174EA6;\n",
       "    }\n",
       "\n",
       "    [theme=dark] .colab-df-convert {\n",
       "      background-color: #3B4455;\n",
       "      fill: #D2E3FC;\n",
       "    }\n",
       "\n",
       "    [theme=dark] .colab-df-convert:hover {\n",
       "      background-color: #434B5C;\n",
       "      box-shadow: 0px 1px 3px 1px rgba(0, 0, 0, 0.15);\n",
       "      filter: drop-shadow(0px 1px 2px rgba(0, 0, 0, 0.3));\n",
       "      fill: #FFFFFF;\n",
       "    }\n",
       "  </style>\n",
       "\n",
       "      <script>\n",
       "        const buttonEl =\n",
       "          document.querySelector('#df-7f79e111-3cf6-4301-af4b-83326963b7c3 button.colab-df-convert');\n",
       "        buttonEl.style.display =\n",
       "          google.colab.kernel.accessAllowed ? 'block' : 'none';\n",
       "\n",
       "        async function convertToInteractive(key) {\n",
       "          const element = document.querySelector('#df-7f79e111-3cf6-4301-af4b-83326963b7c3');\n",
       "          const dataTable =\n",
       "            await google.colab.kernel.invokeFunction('convertToInteractive',\n",
       "                                                     [key], {});\n",
       "          if (!dataTable) return;\n",
       "\n",
       "          const docLinkHtml = 'Like what you see? Visit the ' +\n",
       "            '<a target=\"_blank\" href=https://colab.research.google.com/notebooks/data_table.ipynb>data table notebook</a>'\n",
       "            + ' to learn more about interactive tables.';\n",
       "          element.innerHTML = '';\n",
       "          dataTable['output_type'] = 'display_data';\n",
       "          await google.colab.output.renderOutput(dataTable, element);\n",
       "          const docLink = document.createElement('div');\n",
       "          docLink.innerHTML = docLinkHtml;\n",
       "          element.appendChild(docLink);\n",
       "        }\n",
       "      </script>\n",
       "    </div>\n",
       "  </div>\n",
       "  "
      ],
      "text/plain": [
       "      limit_balance  pay_0  pay_2  pay_3  pay_4  pay_5  pay_6  \\\n",
       "0           50000.0    0.0    0.0    0.0    0.0      0      0   \n",
       "1          110000.0    0.0    0.0    0.0    0.0      0      0   \n",
       "2          270000.0    0.0    0.0    0.0    2.0      0      0   \n",
       "3          130000.0    0.0    0.0    0.0    0.0      0      0   \n",
       "4           50000.0    0.0    0.0    0.0    0.0      0      0   \n",
       "...             ...    ...    ...    ...    ...    ...    ...   \n",
       "2939       210000.0   -1.0   -1.0   -1.0   -1.0     -2     -1   \n",
       "2940       280000.0    2.0   -1.0   -1.0   -1.0     -2     -1   \n",
       "2941        80000.0    1.0   -1.0   -1.0   -1.0     -2     -2   \n",
       "2942       200000.0    1.0   -1.0   -1.0   -2.0     -2     -1   \n",
       "2943        20000.0   -1.0   -1.0   -2.0   -2.0     -2     -2   \n",
       "\n",
       "      default_payment_next_month  \n",
       "0                              0  \n",
       "1                              0  \n",
       "2                              0  \n",
       "3                              0  \n",
       "4                              0  \n",
       "...                          ...  \n",
       "2939                           0  \n",
       "2940                           0  \n",
       "2941                           0  \n",
       "2942                           1  \n",
       "2943                           0  \n",
       "\n",
       "[2944 rows x 8 columns]"
      ]
     },
     "execution_count": 25,
     "metadata": {},
     "output_type": "execute_result"
    }
   ],
   "source": [
    "# seleksi feature yang digunakan berdasarkan korelasinya\n",
    "df_train = df_train_test[['limit_balance', 'pay_0', 'pay_2', 'pay_3', 'pay_4', 'pay_5', 'pay_6', 'default_payment_next_month']]\n",
    "df_test = df_train_test[['limit_balance', 'pay_0', 'pay_2', 'pay_3', 'pay_4', 'pay_5', 'pay_6', 'default_payment_next_month']]\n",
    "df_train"
   ]
  },
  {
   "cell_type": "markdown",
   "metadata": {
    "id": "BorhLed_FsHC"
   },
   "source": [
    "### 4. Checking outlier"
   ]
  },
  {
   "cell_type": "code",
   "execution_count": 26,
   "metadata": {
    "id": "8fdarRyXFq_7"
   },
   "outputs": [],
   "source": [
    "# membuat fungsi untuk menampilkan histplot dan boxplot\n",
    "def diagnostic_plots(data, feature):\n",
    "    plt.figure(figsize=(16,4))\n",
    "\n",
    "    plt.subplot(1, 2, 1)\n",
    "    sns.histplot(data[feature])\n",
    "    plt.title('Histogram')\n",
    "\n",
    "    plt.subplot(1, 2, 2)\n",
    "    sns.boxplot(y=data[feature])\n",
    "    plt.title('Boxplot')\n",
    "\n",
    "    plt.show()"
   ]
  },
  {
   "cell_type": "code",
   "execution_count": 27,
   "metadata": {
    "colab": {
     "base_uri": "https://localhost:8080/",
     "height": 292
    },
    "id": "WAjzvFr7GBDF",
    "outputId": "27d200b1-cf59-4799-b098-7b965cef2335"
   },
   "outputs": [
    {
     "data": {
      "image/png": "[encoded data removed]",
      "text/plain": [
       "<Figure size 1152x288 with 2 Axes>"
      ]
     },
     "metadata": {
      "needs_background": "light"
     },
     "output_type": "display_data"
    },
    {
     "name": "stdout",
     "output_type": "stream",
     "text": [
      "\n",
      "Nilai Skewness:  0.9979239127798435\n"
     ]
    }
   ],
   "source": [
    "# histogram dan boxplot kolom limit_balance\n",
    "\n",
    "diagnostic_plots(df_train, 'limit_balance')\n",
    "print('\\nNilai Skewness: ', df_train['limit_balance'].skew())"
   ]
  },
  {
   "cell_type": "code",
   "execution_count": 28,
   "metadata": {
    "colab": {
     "base_uri": "https://localhost:8080/",
     "height": 290
    },
    "id": "h2z8D5XHGCRg",
    "outputId": "ae13ce49-0457-48a5-e474-28a3b525fca5"
   },
   "outputs": [
    {
     "data": {
      "image/png": "[encoded data removed]",
      "text/plain": [
       "<Figure size 1152x288 with 2 Axes>"
      ]
     },
     "metadata": {
      "needs_background": "light"
     },
     "output_type": "display_data"
    },
    {
     "name": "stdout",
     "output_type": "stream",
     "text": [
      "\n",
      "Nilai Skewness:  0.931552416914333\n"
     ]
    }
   ],
   "source": [
    "# histogram dan boxplot kolom pay_1\n",
    "\n",
    "diagnostic_plots(df_train, 'pay_0')\n",
    "print('\\nNilai Skewness: ', df_train['pay_0'].skew())"
   ]
  },
  {
   "cell_type": "code",
   "execution_count": 29,
   "metadata": {
    "colab": {
     "base_uri": "https://localhost:8080/",
     "height": 290
    },
    "id": "9ha6VNQxGIzh",
    "outputId": "fdd01c1b-b6c3-404b-df5e-240ceaca5228"
   },
   "outputs": [
    {
     "data": {
      "image/png": "[encoded data removed]",
      "text/plain": [
       "<Figure size 1152x288 with 2 Axes>"
      ]
     },
     "metadata": {
      "needs_background": "light"
     },
     "output_type": "display_data"
    },
    {
     "name": "stdout",
     "output_type": "stream",
     "text": [
      "\n",
      "Nilai Skewness:  0.8647357717662181\n"
     ]
    }
   ],
   "source": [
    "# histogram dan boxplot kolom pay_2\n",
    "\n",
    "diagnostic_plots(df_train, 'pay_2')\n",
    "print('\\nNilai Skewness: ', df_train['pay_2'].skew())"
   ]
  },
  {
   "cell_type": "code",
   "execution_count": 30,
   "metadata": {
    "colab": {
     "base_uri": "https://localhost:8080/",
     "height": 290
    },
    "id": "YUngwcRsGMoa",
    "outputId": "7e4667bb-2f28-49f1-f04b-268e5dfec4eb"
   },
   "outputs": [
    {
     "data": {
      "image/png": "[encoded data removed]",
      "text/plain": [
       "<Figure size 1152x288 with 2 Axes>"
      ]
     },
     "metadata": {
      "needs_background": "light"
     },
     "output_type": "display_data"
    },
    {
     "name": "stdout",
     "output_type": "stream",
     "text": [
      "\n",
      "Nilai Skewness:  0.9384238040957703\n"
     ]
    }
   ],
   "source": [
    "# histogram dan boxplot kolom pay_3\n",
    "\n",
    "diagnostic_plots(df_train, 'pay_3')\n",
    "print('\\nNilai Skewness: ', df_train['pay_3'].skew())"
   ]
  },
  {
   "cell_type": "code",
   "execution_count": 31,
   "metadata": {
    "colab": {
     "base_uri": "https://localhost:8080/",
     "height": 290
    },
    "id": "ez0rN2whGZpo",
    "outputId": "6df29d78-69f4-4727-ee55-420808b085f3"
   },
   "outputs": [
    {
     "data": {
      "image/png": "[encoded data removed]",
      "text/plain": [
       "<Figure size 1152x288 with 2 Axes>"
      ]
     },
     "metadata": {
      "needs_background": "light"
     },
     "output_type": "display_data"
    },
    {
     "name": "stdout",
     "output_type": "stream",
     "text": [
      "\n",
      "Nilai Skewness:  1.105653421899218\n"
     ]
    }
   ],
   "source": [
    "# histogram dan boxplot kolom pay_4\n",
    "\n",
    "diagnostic_plots(df_train, 'pay_4')\n",
    "print('\\nNilai Skewness: ', df_train['pay_4'].skew())"
   ]
  },
  {
   "cell_type": "code",
   "execution_count": 32,
   "metadata": {
    "colab": {
     "base_uri": "https://localhost:8080/",
     "height": 290
    },
    "id": "gEbYY9MZGapf",
    "outputId": "6d3298d9-7c0c-4c02-e89d-d6bcec930668"
   },
   "outputs": [
    {
     "data": {
      "image/png": "[encoded data removed]",
      "text/plain": [
       "<Figure size 1152x288 with 2 Axes>"
      ]
     },
     "metadata": {
      "needs_background": "light"
     },
     "output_type": "display_data"
    },
    {
     "name": "stdout",
     "output_type": "stream",
     "text": [
      "\n",
      "Nilai Skewness:  1.0625558678311755\n"
     ]
    }
   ],
   "source": [
    "# histogram dan boxplot kolom pay_5\n",
    "\n",
    "diagnostic_plots(df_train, 'pay_5')\n",
    "print('\\nNilai Skewness: ', df_train['pay_5'].skew())"
   ]
  },
  {
   "cell_type": "code",
   "execution_count": 33,
   "metadata": {
    "colab": {
     "base_uri": "https://localhost:8080/",
     "height": 290
    },
    "id": "LxIRF-JvGbTG",
    "outputId": "accdad15-898d-4757-de8a-38cae429c943"
   },
   "outputs": [
    {
     "data": {
      "image/png": "[encoded data removed]",
      "text/plain": [
       "<Figure size 1152x288 with 2 Axes>"
      ]
     },
     "metadata": {
      "needs_background": "light"
     },
     "output_type": "display_data"
    },
    {
     "name": "stdout",
     "output_type": "stream",
     "text": [
      "\n",
      "Nilai Skewness:  0.9818583832035332\n"
     ]
    }
   ],
   "source": [
    "# histogram dan boxplot kolom pay_6\n",
    "\n",
    "diagnostic_plots(df_train, 'pay_6')\n",
    "print('\\nNilai Skewness: ', df_train['pay_6'].skew())"
   ]
  },
  {
   "cell_type": "markdown",
   "metadata": {
    "id": "qHlkiV8cY7DP"
   },
   "source": [
    "data target cenderung berdistribusi skew pada kisaran 0.9,\n",
    "\n",
    "karena distribusi datanya tidak begitu extreme handling outlier tidak dilakukan. pertimbangan selanjutnya yaitu karena data telah diencode/dikategorikan sebelumnya. untuk menghindari model belajar terlalu sederhana dan tidak sesuai dengan reel data kita akan langsung menggunakan data untuk diolah."
   ]
  },
  {
   "cell_type": "markdown",
   "metadata": {
    "id": "_-7A7oYvG9_Y"
   },
   "source": [
    "### 5. Split Feature dan Target"
   ]
  },
  {
   "cell_type": "code",
   "execution_count": 34,
   "metadata": {
    "id": "yAkVfSNyG9B4"
   },
   "outputs": [],
   "source": [
    "# melakukan pemisahan antara data feature dan target predict\n",
    "X_train = df_train.drop(columns='default_payment_next_month')\n",
    "y_train = df_train['default_payment_next_month']\n",
    "\n",
    "X_test = df_test.drop(columns='default_payment_next_month')\n",
    "y_test = df_test['default_payment_next_month']"
   ]
  },
  {
   "cell_type": "markdown",
   "metadata": {
    "id": "sOlTOpVEuslK"
   },
   "source": [
    "### memperbaiki type data\n",
    "sebagaimana keterangan pada kolom data loading kita akan memperbaiki type data pada kolom2 ini"
   ]
  },
  {
   "cell_type": "code",
   "execution_count": 35,
   "metadata": {
    "colab": {
     "base_uri": "https://localhost:8080/"
    },
    "id": "E9mcgZkeusMc",
    "outputId": "0573a288-08d8-40b5-a8a7-97d0f681de76"
   },
   "outputs": [
    {
     "name": "stdout",
     "output_type": "stream",
     "text": [
      "<class 'pandas.core.frame.DataFrame'>\n",
      "RangeIndex: 2944 entries, 0 to 2943\n",
      "Data columns (total 7 columns):\n",
      " #   Column         Non-Null Count  Dtype  \n",
      "---  ------         --------------  -----  \n",
      " 0   limit_balance  2944 non-null   float64\n",
      " 1   pay_0          2944 non-null   float64\n",
      " 2   pay_2          2944 non-null   float64\n",
      " 3   pay_3          2944 non-null   float64\n",
      " 4   pay_4          2944 non-null   float64\n",
      " 5   pay_5          2944 non-null   int64  \n",
      " 6   pay_6          2944 non-null   int64  \n",
      "dtypes: float64(5), int64(2)\n",
      "memory usage: 161.1 KB\n"
     ]
    }
   ],
   "source": [
    "# melihat info data pada X_train\n",
    "X_train.info()"
   ]
  },
  {
   "cell_type": "code",
   "execution_count": 36,
   "metadata": {
    "id": "F5FjcfNJqqRF"
   },
   "outputs": [],
   "source": [
    "# memperbaiki type data\n",
    "X_train = X_train.astype({'limit_balance':'int64'})\n",
    "X_train = X_train.astype({'pay_0':'object'})\n",
    "X_train = X_train.astype({'pay_2':'object'})\n",
    "X_train = X_train.astype({'pay_3':'object'})\n",
    "X_train = X_train.astype({'pay_4':'object'})\n",
    "X_train = X_train.astype({'pay_5':'object'})\n",
    "X_train = X_train.astype({'pay_6':'object'})\n",
    "\n",
    "X_test = X_test.astype({'limit_balance':'int64'})\n",
    "X_test = X_test.astype({'pay_0':'object'})\n",
    "X_test = X_test.astype({'pay_2':'object'})\n",
    "X_test = X_test.astype({'pay_3':'object'})\n",
    "X_test = X_test.astype({'pay_4':'object'})\n",
    "X_test = X_test.astype({'pay_5':'object'})\n",
    "X_test = X_test.astype({'pay_6':'object'})"
   ]
  },
  {
   "cell_type": "code",
   "execution_count": 37,
   "metadata": {
    "colab": {
     "base_uri": "https://localhost:8080/"
    },
    "id": "8rJZBeMgq1yB",
    "outputId": "8bad3e98-9ef0-4ade-e8b6-871f22966887"
   },
   "outputs": [
    {
     "name": "stdout",
     "output_type": "stream",
     "text": [
      "<class 'pandas.core.frame.DataFrame'>\n",
      "RangeIndex: 2944 entries, 0 to 2943\n",
      "Data columns (total 7 columns):\n",
      " #   Column         Non-Null Count  Dtype \n",
      "---  ------         --------------  ----- \n",
      " 0   limit_balance  2944 non-null   int64 \n",
      " 1   pay_0          2944 non-null   object\n",
      " 2   pay_2          2944 non-null   object\n",
      " 3   pay_3          2944 non-null   object\n",
      " 4   pay_4          2944 non-null   object\n",
      " 5   pay_5          2944 non-null   object\n",
      " 6   pay_6          2944 non-null   object\n",
      "dtypes: int64(1), object(6)\n",
      "memory usage: 161.1+ KB\n"
     ]
    }
   ],
   "source": [
    "X_test.info()"
   ]
  },
  {
   "cell_type": "markdown",
   "metadata": {
    "id": "WblTAOWRu3Th"
   },
   "source": [
    "data type telah diperbaiki"
   ]
  },
  {
   "cell_type": "markdown",
   "metadata": {
    "id": "4oZikuO1u49N"
   },
   "source": [
    "### 6. Handling imbalance data"
   ]
  },
  {
   "cell_type": "code",
   "execution_count": 38,
   "metadata": {
    "colab": {
     "base_uri": "https://localhost:8080/",
     "height": 368
    },
    "id": "EjzBM48cV5oL",
    "outputId": "2891349e-3404-44cf-be2b-aada5ec52274"
   },
   "outputs": [
    {
     "name": "stderr",
     "output_type": "stream",
     "text": [
      "/usr/local/lib/python3.7/dist-packages/seaborn/_decorators.py:43: FutureWarning: Pass the following variable as a keyword arg: x. From version 0.12, the only valid positional argument will be `data`, and passing other arguments without an explicit keyword will result in an error or misinterpretation.\n",
      "  FutureWarning\n"
     ]
    },
    {
     "data": {
      "text/plain": [
       "Text(0.5, 1.0, 'Target Imbalanced')"
      ]
     },
     "execution_count": 38,
     "metadata": {},
     "output_type": "execute_result"
    },
    {
     "data": {
      "image/png": "[encoded data removed]",
      "text/plain": [
       "<Figure size 432x288 with 1 Axes>"
      ]
     },
     "metadata": {
      "needs_background": "light"
     },
     "output_type": "display_data"
    }
   ],
   "source": [
    "# menampilkan barplot data target\n",
    "y_train.value_counts()\n",
    "sns.countplot(y_train ,palette='viridis')\n",
    "plt.title('Target Imbalanced')"
   ]
  },
  {
   "cell_type": "code",
   "execution_count": 39,
   "metadata": {
    "colab": {
     "base_uri": "https://localhost:8080/",
     "height": 424
    },
    "id": "A0nCw24iqBXc",
    "outputId": "e67f7711-7380-46a4-c3a0-b4cd702be987"
   },
   "outputs": [
    {
     "data": {
      "text/html": [
       "\n",
       "  <div id=\"df-666a7d4a-45a4-420d-8703-78ee26333bb4\">\n",
       "    <div class=\"colab-df-container\">\n",
       "      <div>\n",
       "<style scoped>\n",
       "    .dataframe tbody tr th:only-of-type {\n",
       "        vertical-align: middle;\n",
       "    }\n",
       "\n",
       "    .dataframe tbody tr th {\n",
       "        vertical-align: top;\n",
       "    }\n",
       "\n",
       "    .dataframe thead th {\n",
       "        text-align: right;\n",
       "    }\n",
       "</style>\n",
       "<table border=\"1\" class=\"dataframe\">\n",
       "  <thead>\n",
       "    <tr style=\"text-align: right;\">\n",
       "      <th></th>\n",
       "      <th>limit_balance</th>\n",
       "      <th>pay_0</th>\n",
       "      <th>pay_2</th>\n",
       "      <th>pay_3</th>\n",
       "      <th>pay_4</th>\n",
       "      <th>pay_5</th>\n",
       "      <th>pay_6</th>\n",
       "    </tr>\n",
       "  </thead>\n",
       "  <tbody>\n",
       "    <tr>\n",
       "      <th>0</th>\n",
       "      <td>50000</td>\n",
       "      <td>0.0</td>\n",
       "      <td>0.0</td>\n",
       "      <td>0.0</td>\n",
       "      <td>0.0</td>\n",
       "      <td>0</td>\n",
       "      <td>0</td>\n",
       "    </tr>\n",
       "    <tr>\n",
       "      <th>1</th>\n",
       "      <td>110000</td>\n",
       "      <td>0.0</td>\n",
       "      <td>0.0</td>\n",
       "      <td>0.0</td>\n",
       "      <td>0.0</td>\n",
       "      <td>0</td>\n",
       "      <td>0</td>\n",
       "    </tr>\n",
       "    <tr>\n",
       "      <th>2</th>\n",
       "      <td>270000</td>\n",
       "      <td>0.0</td>\n",
       "      <td>0.0</td>\n",
       "      <td>0.0</td>\n",
       "      <td>2.0</td>\n",
       "      <td>0</td>\n",
       "      <td>0</td>\n",
       "    </tr>\n",
       "    <tr>\n",
       "      <th>3</th>\n",
       "      <td>130000</td>\n",
       "      <td>0.0</td>\n",
       "      <td>0.0</td>\n",
       "      <td>0.0</td>\n",
       "      <td>0.0</td>\n",
       "      <td>0</td>\n",
       "      <td>0</td>\n",
       "    </tr>\n",
       "    <tr>\n",
       "      <th>4</th>\n",
       "      <td>50000</td>\n",
       "      <td>0.0</td>\n",
       "      <td>0.0</td>\n",
       "      <td>0.0</td>\n",
       "      <td>0.0</td>\n",
       "      <td>0</td>\n",
       "      <td>0</td>\n",
       "    </tr>\n",
       "    <tr>\n",
       "      <th>...</th>\n",
       "      <td>...</td>\n",
       "      <td>...</td>\n",
       "      <td>...</td>\n",
       "      <td>...</td>\n",
       "      <td>...</td>\n",
       "      <td>...</td>\n",
       "      <td>...</td>\n",
       "    </tr>\n",
       "    <tr>\n",
       "      <th>2939</th>\n",
       "      <td>210000</td>\n",
       "      <td>-1.0</td>\n",
       "      <td>-1.0</td>\n",
       "      <td>-1.0</td>\n",
       "      <td>-1.0</td>\n",
       "      <td>-2</td>\n",
       "      <td>-1</td>\n",
       "    </tr>\n",
       "    <tr>\n",
       "      <th>2940</th>\n",
       "      <td>280000</td>\n",
       "      <td>2.0</td>\n",
       "      <td>-1.0</td>\n",
       "      <td>-1.0</td>\n",
       "      <td>-1.0</td>\n",
       "      <td>-2</td>\n",
       "      <td>-1</td>\n",
       "    </tr>\n",
       "    <tr>\n",
       "      <th>2941</th>\n",
       "      <td>80000</td>\n",
       "      <td>1.0</td>\n",
       "      <td>-1.0</td>\n",
       "      <td>-1.0</td>\n",
       "      <td>-1.0</td>\n",
       "      <td>-2</td>\n",
       "      <td>-2</td>\n",
       "    </tr>\n",
       "    <tr>\n",
       "      <th>2942</th>\n",
       "      <td>200000</td>\n",
       "      <td>1.0</td>\n",
       "      <td>-1.0</td>\n",
       "      <td>-1.0</td>\n",
       "      <td>-2.0</td>\n",
       "      <td>-2</td>\n",
       "      <td>-1</td>\n",
       "    </tr>\n",
       "    <tr>\n",
       "      <th>2943</th>\n",
       "      <td>20000</td>\n",
       "      <td>-1.0</td>\n",
       "      <td>-1.0</td>\n",
       "      <td>-2.0</td>\n",
       "      <td>-2.0</td>\n",
       "      <td>-2</td>\n",
       "      <td>-2</td>\n",
       "    </tr>\n",
       "  </tbody>\n",
       "</table>\n",
       "<p>2944 rows × 7 columns</p>\n",
       "</div>\n",
       "      <button class=\"colab-df-convert\" onclick=\"convertToInteractive('df-666a7d4a-45a4-420d-8703-78ee26333bb4')\"\n",
       "              title=\"Convert this dataframe to an interactive table.\"\n",
       "              style=\"display:none;\">\n",
       "        \n",
       "  <svg xmlns=\"http://www.w3.org/2000/svg\" height=\"24px\"viewBox=\"0 0 24 24\"\n",
       "       width=\"24px\">\n",
       "    <path d=\"M0 0h24v24H0V0z\" fill=\"none\"/>\n",
       "    <path d=\"M18.56 5.44l.94 2.06.94-2.06 2.06-.94-2.06-.94-.94-2.06-.94 2.06-2.06.94zm-11 1L8.5 8.5l.94-2.06 2.06-.94-2.06-.94L8.5 2.5l-.94 2.06-2.06.94zm10 10l.94 2.06.94-2.06 2.06-.94-2.06-.94-.94-2.06-.94 2.06-2.06.94z\"/><path d=\"M17.41 7.96l-1.37-1.37c-.4-.4-.92-.59-1.43-.59-.52 0-1.04.2-1.43.59L10.3 9.45l-7.72 7.72c-.78.78-.78 2.05 0 2.83L4 21.41c.39.39.9.59 1.41.59.51 0 1.02-.2 1.41-.59l7.78-7.78 2.81-2.81c.8-.78.8-2.07 0-2.86zM5.41 20L4 18.59l7.72-7.72 1.47 1.35L5.41 20z\"/>\n",
       "  </svg>\n",
       "      </button>\n",
       "      \n",
       "  <style>\n",
       "    .colab-df-container {\n",
       "      display:flex;\n",
       "      flex-wrap:wrap;\n",
       "      gap: 12px;\n",
       "    }\n",
       "\n",
       "    .colab-df-convert {\n",
       "      background-color: #E8F0FE;\n",
       "      border: none;\n",
       "      border-radius: 50%;\n",
       "      cursor: pointer;\n",
       "      display: none;\n",
       "      fill: #1967D2;\n",
       "      height: 32px;\n",
       "      padding: 0 0 0 0;\n",
       "      width: 32px;\n",
       "    }\n",
       "\n",
       "    .colab-df-convert:hover {\n",
       "      background-color: #E2EBFA;\n",
       "      box-shadow: 0px 1px 2px rgba(60, 64, 67, 0.3), 0px 1px 3px 1px rgba(60, 64, 67, 0.15);\n",
       "      fill: #174EA6;\n",
       "    }\n",
       "\n",
       "    [theme=dark] .colab-df-convert {\n",
       "      background-color: #3B4455;\n",
       "      fill: #D2E3FC;\n",
       "    }\n",
       "\n",
       "    [theme=dark] .colab-df-convert:hover {\n",
       "      background-color: #434B5C;\n",
       "      box-shadow: 0px 1px 3px 1px rgba(0, 0, 0, 0.15);\n",
       "      filter: drop-shadow(0px 1px 2px rgba(0, 0, 0, 0.3));\n",
       "      fill: #FFFFFF;\n",
       "    }\n",
       "  </style>\n",
       "\n",
       "      <script>\n",
       "        const buttonEl =\n",
       "          document.querySelector('#df-666a7d4a-45a4-420d-8703-78ee26333bb4 button.colab-df-convert');\n",
       "        buttonEl.style.display =\n",
       "          google.colab.kernel.accessAllowed ? 'block' : 'none';\n",
       "\n",
       "        async function convertToInteractive(key) {\n",
       "          const element = document.querySelector('#df-666a7d4a-45a4-420d-8703-78ee26333bb4');\n",
       "          const dataTable =\n",
       "            await google.colab.kernel.invokeFunction('convertToInteractive',\n",
       "                                                     [key], {});\n",
       "          if (!dataTable) return;\n",
       "\n",
       "          const docLinkHtml = 'Like what you see? Visit the ' +\n",
       "            '<a target=\"_blank\" href=https://colab.research.google.com/notebooks/data_table.ipynb>data table notebook</a>'\n",
       "            + ' to learn more about interactive tables.';\n",
       "          element.innerHTML = '';\n",
       "          dataTable['output_type'] = 'display_data';\n",
       "          await google.colab.output.renderOutput(dataTable, element);\n",
       "          const docLink = document.createElement('div');\n",
       "          docLink.innerHTML = docLinkHtml;\n",
       "          element.appendChild(docLink);\n",
       "        }\n",
       "      </script>\n",
       "    </div>\n",
       "  </div>\n",
       "  "
      ],
      "text/plain": [
       "      limit_balance pay_0 pay_2 pay_3 pay_4 pay_5 pay_6\n",
       "0             50000   0.0   0.0   0.0   0.0     0     0\n",
       "1            110000   0.0   0.0   0.0   0.0     0     0\n",
       "2            270000   0.0   0.0   0.0   2.0     0     0\n",
       "3            130000   0.0   0.0   0.0   0.0     0     0\n",
       "4             50000   0.0   0.0   0.0   0.0     0     0\n",
       "...             ...   ...   ...   ...   ...   ...   ...\n",
       "2939         210000  -1.0  -1.0  -1.0  -1.0    -2    -1\n",
       "2940         280000   2.0  -1.0  -1.0  -1.0    -2    -1\n",
       "2941          80000   1.0  -1.0  -1.0  -1.0    -2    -2\n",
       "2942         200000   1.0  -1.0  -1.0  -2.0    -2    -1\n",
       "2943          20000  -1.0  -1.0  -2.0  -2.0    -2    -2\n",
       "\n",
       "[2944 rows x 7 columns]"
      ]
     },
     "execution_count": 39,
     "metadata": {},
     "output_type": "execute_result"
    }
   ],
   "source": [
    "X_train"
   ]
  },
  {
   "cell_type": "markdown",
   "metadata": {
    "id": "zRSiLJdybV3A"
   },
   "source": [
    "- data train tidak balance, untuk meningkatkan akurasi belajar model akan dilakukan balancing data ini"
   ]
  },
  {
   "cell_type": "code",
   "execution_count": 40,
   "metadata": {
    "colab": {
     "base_uri": "https://localhost:8080/"
    },
    "id": "MJi2-mHLIQw4",
    "outputId": "125d1828-0961-4352-d2ac-e7b05caa42d9"
   },
   "outputs": [
    {
     "name": "stdout",
     "output_type": "stream",
     "text": [
      "(4622, 7) (4622,)\n"
     ]
    }
   ],
   "source": [
    "# handling data imbalance pada data train\n",
    "smote = SMOTENC([1,2,3,4,5,6], sampling_strategy='minority')\n",
    "X_train ,y_train = smote.fit_resample(X_train ,y_train)\n",
    "\n",
    "print(X_train.shape ,y_train.shape)"
   ]
  },
  {
   "cell_type": "markdown",
   "metadata": {
    "id": "NGcvd4ILbw7i"
   },
   "source": [
    "smote adalah metode dalam handling data imbalance, secara prinsip sederhana data terkecil nya akan dinaikan mengikuti data yang besar. data hal ini value 1 akan dinaikan sejumlah value 0\n",
    "- SMOTENC digunakan karena data memiliki categorical kolom"
   ]
  },
  {
   "cell_type": "code",
   "execution_count": 41,
   "metadata": {
    "colab": {
     "base_uri": "https://localhost:8080/",
     "height": 368
    },
    "id": "m5avCuAcIaBI",
    "outputId": "4533e32e-5432-410f-ac7e-8de83550b00f"
   },
   "outputs": [
    {
     "name": "stderr",
     "output_type": "stream",
     "text": [
      "/usr/local/lib/python3.7/dist-packages/seaborn/_decorators.py:43: FutureWarning: Pass the following variable as a keyword arg: x. From version 0.12, the only valid positional argument will be `data`, and passing other arguments without an explicit keyword will result in an error or misinterpretation.\n",
      "  FutureWarning\n"
     ]
    },
    {
     "data": {
      "text/plain": [
       "Text(0.5, 1.0, 'Target Balanced')"
      ]
     },
     "execution_count": 41,
     "metadata": {},
     "output_type": "execute_result"
    },
    {
     "data": {
      "image/png": "[encoded data removed]",
      "text/plain": [
       "<Figure size 432x288 with 1 Axes>"
      ]
     },
     "metadata": {
      "needs_background": "light"
     },
     "output_type": "display_data"
    }
   ],
   "source": [
    "# menampilkan barplot untuk melihat hasil perubahan\n",
    "y_train.value_counts()\n",
    "sns.countplot(y_train ,palette='viridis')\n",
    "plt.title('Target Balanced')"
   ]
  },
  {
   "cell_type": "code",
   "execution_count": 42,
   "metadata": {
    "colab": {
     "base_uri": "https://localhost:8080/",
     "height": 424
    },
    "id": "AnXsTEcyp4QS",
    "outputId": "3722b6d0-3e02-416e-9e5b-30b2e9443b8d"
   },
   "outputs": [
    {
     "data": {
      "text/html": [
       "\n",
       "  <div id=\"df-988864b7-f046-4b30-a9b2-c25044a71274\">\n",
       "    <div class=\"colab-df-container\">\n",
       "      <div>\n",
       "<style scoped>\n",
       "    .dataframe tbody tr th:only-of-type {\n",
       "        vertical-align: middle;\n",
       "    }\n",
       "\n",
       "    .dataframe tbody tr th {\n",
       "        vertical-align: top;\n",
       "    }\n",
       "\n",
       "    .dataframe thead th {\n",
       "        text-align: right;\n",
       "    }\n",
       "</style>\n",
       "<table border=\"1\" class=\"dataframe\">\n",
       "  <thead>\n",
       "    <tr style=\"text-align: right;\">\n",
       "      <th></th>\n",
       "      <th>limit_balance</th>\n",
       "      <th>pay_0</th>\n",
       "      <th>pay_2</th>\n",
       "      <th>pay_3</th>\n",
       "      <th>pay_4</th>\n",
       "      <th>pay_5</th>\n",
       "      <th>pay_6</th>\n",
       "    </tr>\n",
       "  </thead>\n",
       "  <tbody>\n",
       "    <tr>\n",
       "      <th>0</th>\n",
       "      <td>50000</td>\n",
       "      <td>0.0</td>\n",
       "      <td>0.0</td>\n",
       "      <td>0.0</td>\n",
       "      <td>0.0</td>\n",
       "      <td>0</td>\n",
       "      <td>0</td>\n",
       "    </tr>\n",
       "    <tr>\n",
       "      <th>1</th>\n",
       "      <td>110000</td>\n",
       "      <td>0.0</td>\n",
       "      <td>0.0</td>\n",
       "      <td>0.0</td>\n",
       "      <td>0.0</td>\n",
       "      <td>0</td>\n",
       "      <td>0</td>\n",
       "    </tr>\n",
       "    <tr>\n",
       "      <th>2</th>\n",
       "      <td>270000</td>\n",
       "      <td>0.0</td>\n",
       "      <td>0.0</td>\n",
       "      <td>0.0</td>\n",
       "      <td>2.0</td>\n",
       "      <td>0</td>\n",
       "      <td>0</td>\n",
       "    </tr>\n",
       "    <tr>\n",
       "      <th>3</th>\n",
       "      <td>130000</td>\n",
       "      <td>0.0</td>\n",
       "      <td>0.0</td>\n",
       "      <td>0.0</td>\n",
       "      <td>0.0</td>\n",
       "      <td>0</td>\n",
       "      <td>0</td>\n",
       "    </tr>\n",
       "    <tr>\n",
       "      <th>4</th>\n",
       "      <td>50000</td>\n",
       "      <td>0.0</td>\n",
       "      <td>0.0</td>\n",
       "      <td>0.0</td>\n",
       "      <td>0.0</td>\n",
       "      <td>0</td>\n",
       "      <td>0</td>\n",
       "    </tr>\n",
       "    <tr>\n",
       "      <th>...</th>\n",
       "      <td>...</td>\n",
       "      <td>...</td>\n",
       "      <td>...</td>\n",
       "      <td>...</td>\n",
       "      <td>...</td>\n",
       "      <td>...</td>\n",
       "      <td>...</td>\n",
       "    </tr>\n",
       "    <tr>\n",
       "      <th>4617</th>\n",
       "      <td>70000</td>\n",
       "      <td>0.0</td>\n",
       "      <td>0.0</td>\n",
       "      <td>0.0</td>\n",
       "      <td>0.0</td>\n",
       "      <td>0</td>\n",
       "      <td>0</td>\n",
       "    </tr>\n",
       "    <tr>\n",
       "      <th>4618</th>\n",
       "      <td>391770</td>\n",
       "      <td>1.0</td>\n",
       "      <td>-2.0</td>\n",
       "      <td>-2.0</td>\n",
       "      <td>-2.0</td>\n",
       "      <td>-2</td>\n",
       "      <td>-2</td>\n",
       "    </tr>\n",
       "    <tr>\n",
       "      <th>4619</th>\n",
       "      <td>20000</td>\n",
       "      <td>3.0</td>\n",
       "      <td>2.0</td>\n",
       "      <td>2.0</td>\n",
       "      <td>2.0</td>\n",
       "      <td>2</td>\n",
       "      <td>2</td>\n",
       "    </tr>\n",
       "    <tr>\n",
       "      <th>4620</th>\n",
       "      <td>25601</td>\n",
       "      <td>2.0</td>\n",
       "      <td>0.0</td>\n",
       "      <td>0.0</td>\n",
       "      <td>0.0</td>\n",
       "      <td>0</td>\n",
       "      <td>0</td>\n",
       "    </tr>\n",
       "    <tr>\n",
       "      <th>4621</th>\n",
       "      <td>344640</td>\n",
       "      <td>0.0</td>\n",
       "      <td>0.0</td>\n",
       "      <td>0.0</td>\n",
       "      <td>0.0</td>\n",
       "      <td>0</td>\n",
       "      <td>0</td>\n",
       "    </tr>\n",
       "  </tbody>\n",
       "</table>\n",
       "<p>4622 rows × 7 columns</p>\n",
       "</div>\n",
       "      <button class=\"colab-df-convert\" onclick=\"convertToInteractive('df-988864b7-f046-4b30-a9b2-c25044a71274')\"\n",
       "              title=\"Convert this dataframe to an interactive table.\"\n",
       "              style=\"display:none;\">\n",
       "        \n",
       "  <svg xmlns=\"http://www.w3.org/2000/svg\" height=\"24px\"viewBox=\"0 0 24 24\"\n",
       "       width=\"24px\">\n",
       "    <path d=\"M0 0h24v24H0V0z\" fill=\"none\"/>\n",
       "    <path d=\"M18.56 5.44l.94 2.06.94-2.06 2.06-.94-2.06-.94-.94-2.06-.94 2.06-2.06.94zm-11 1L8.5 8.5l.94-2.06 2.06-.94-2.06-.94L8.5 2.5l-.94 2.06-2.06.94zm10 10l.94 2.06.94-2.06 2.06-.94-2.06-.94-.94-2.06-.94 2.06-2.06.94z\"/><path d=\"M17.41 7.96l-1.37-1.37c-.4-.4-.92-.59-1.43-.59-.52 0-1.04.2-1.43.59L10.3 9.45l-7.72 7.72c-.78.78-.78 2.05 0 2.83L4 21.41c.39.39.9.59 1.41.59.51 0 1.02-.2 1.41-.59l7.78-7.78 2.81-2.81c.8-.78.8-2.07 0-2.86zM5.41 20L4 18.59l7.72-7.72 1.47 1.35L5.41 20z\"/>\n",
       "  </svg>\n",
       "      </button>\n",
       "      \n",
       "  <style>\n",
       "    .colab-df-container {\n",
       "      display:flex;\n",
       "      flex-wrap:wrap;\n",
       "      gap: 12px;\n",
       "    }\n",
       "\n",
       "    .colab-df-convert {\n",
       "      background-color: #E8F0FE;\n",
       "      border: none;\n",
       "      border-radius: 50%;\n",
       "      cursor: pointer;\n",
       "      display: none;\n",
       "      fill: #1967D2;\n",
       "      height: 32px;\n",
       "      padding: 0 0 0 0;\n",
       "      width: 32px;\n",
       "    }\n",
       "\n",
       "    .colab-df-convert:hover {\n",
       "      background-color: #E2EBFA;\n",
       "      box-shadow: 0px 1px 2px rgba(60, 64, 67, 0.3), 0px 1px 3px 1px rgba(60, 64, 67, 0.15);\n",
       "      fill: #174EA6;\n",
       "    }\n",
       "\n",
       "    [theme=dark] .colab-df-convert {\n",
       "      background-color: #3B4455;\n",
       "      fill: #D2E3FC;\n",
       "    }\n",
       "\n",
       "    [theme=dark] .colab-df-convert:hover {\n",
       "      background-color: #434B5C;\n",
       "      box-shadow: 0px 1px 3px 1px rgba(0, 0, 0, 0.15);\n",
       "      filter: drop-shadow(0px 1px 2px rgba(0, 0, 0, 0.3));\n",
       "      fill: #FFFFFF;\n",
       "    }\n",
       "  </style>\n",
       "\n",
       "      <script>\n",
       "        const buttonEl =\n",
       "          document.querySelector('#df-988864b7-f046-4b30-a9b2-c25044a71274 button.colab-df-convert');\n",
       "        buttonEl.style.display =\n",
       "          google.colab.kernel.accessAllowed ? 'block' : 'none';\n",
       "\n",
       "        async function convertToInteractive(key) {\n",
       "          const element = document.querySelector('#df-988864b7-f046-4b30-a9b2-c25044a71274');\n",
       "          const dataTable =\n",
       "            await google.colab.kernel.invokeFunction('convertToInteractive',\n",
       "                                                     [key], {});\n",
       "          if (!dataTable) return;\n",
       "\n",
       "          const docLinkHtml = 'Like what you see? Visit the ' +\n",
       "            '<a target=\"_blank\" href=https://colab.research.google.com/notebooks/data_table.ipynb>data table notebook</a>'\n",
       "            + ' to learn more about interactive tables.';\n",
       "          element.innerHTML = '';\n",
       "          dataTable['output_type'] = 'display_data';\n",
       "          await google.colab.output.renderOutput(dataTable, element);\n",
       "          const docLink = document.createElement('div');\n",
       "          docLink.innerHTML = docLinkHtml;\n",
       "          element.appendChild(docLink);\n",
       "        }\n",
       "      </script>\n",
       "    </div>\n",
       "  </div>\n",
       "  "
      ],
      "text/plain": [
       "      limit_balance pay_0 pay_2 pay_3 pay_4 pay_5 pay_6\n",
       "0             50000   0.0   0.0   0.0   0.0     0     0\n",
       "1            110000   0.0   0.0   0.0   0.0     0     0\n",
       "2            270000   0.0   0.0   0.0   2.0     0     0\n",
       "3            130000   0.0   0.0   0.0   0.0     0     0\n",
       "4             50000   0.0   0.0   0.0   0.0     0     0\n",
       "...             ...   ...   ...   ...   ...   ...   ...\n",
       "4617          70000   0.0   0.0   0.0   0.0     0     0\n",
       "4618         391770   1.0  -2.0  -2.0  -2.0    -2    -2\n",
       "4619          20000   3.0   2.0   2.0   2.0     2     2\n",
       "4620          25601   2.0   0.0   0.0   0.0     0     0\n",
       "4621         344640   0.0   0.0   0.0   0.0     0     0\n",
       "\n",
       "[4622 rows x 7 columns]"
      ]
     },
     "execution_count": 42,
     "metadata": {},
     "output_type": "execute_result"
    }
   ],
   "source": [
    "X_train"
   ]
  },
  {
   "cell_type": "markdown",
   "metadata": {
    "id": "PMHwB50TcOvr"
   },
   "source": [
    "- X_train data telah balance\n",
    "\n",
    "- tidak dilakukan balancing data pada X_test dengan tujuan agar model belajar secara nyata pada data test, karena pada kenyataannya data target hampir tidak pernah balance"
   ]
  },
  {
   "cell_type": "markdown",
   "metadata": {
    "id": "ubNGm1nJSD2H"
   },
   "source": [
    "### 7. Split kolom numerikal dan kategorikal"
   ]
  },
  {
   "cell_type": "code",
   "execution_count": 43,
   "metadata": {
    "colab": {
     "base_uri": "https://localhost:8080/"
    },
    "id": "moujN_lgwKDF",
    "outputId": "54365965-43a9-4597-b5c1-9195943bbf05"
   },
   "outputs": [
    {
     "name": "stdout",
     "output_type": "stream",
     "text": [
      "Kolom numerikal: ['limit_balance']\n",
      "Kolom kategorikal: ['pay_0', 'pay_2', 'pay_3', 'pay_4', 'pay_5', 'pay_6']\n"
     ]
    }
   ],
   "source": [
    "# fungsi untuk memisahkan kolom numerik dengan kolom kategori\n",
    "num_columns = X_train.select_dtypes(include=np.number).columns.to_list()\n",
    "cat_columns = X_train.select_dtypes(include=['object']).columns.to_list()\n",
    "\n",
    "print('Kolom numerikal:', num_columns)\n",
    "print('Kolom kategorikal:', cat_columns)"
   ]
  },
  {
   "cell_type": "code",
   "execution_count": 44,
   "metadata": {
    "id": "9Rtj82TiTI0p"
   },
   "outputs": [],
   "source": [
    "# memisahkan data train dan test berdasarkan tipe data\n",
    "X_train_num = X_train[num_columns]\n",
    "X_train_cat = X_train[cat_columns]\n",
    "\n",
    "X_test_num = X_test[num_columns]\n",
    "X_test_cat = X_test[cat_columns]"
   ]
  },
  {
   "cell_type": "markdown",
   "metadata": {
    "id": "OzuPUcA9wKDF"
   },
   "source": [
    "### 8. Feature Scalling"
   ]
  },
  {
   "cell_type": "code",
   "execution_count": 45,
   "metadata": {
    "colab": {
     "base_uri": "https://localhost:8080/"
    },
    "id": "0o6tPb2zUSNK",
    "outputId": "ec304907-4667-4136-8334-0530053b00bd"
   },
   "outputs": [
    {
     "data": {
      "text/plain": [
       "array([[-0.82450445],\n",
       "       [-0.32345986],\n",
       "       [ 1.01265904],\n",
       "       ...,\n",
       "       [-1.07502674],\n",
       "       [-1.02825423],\n",
       "       [ 1.63595851]])"
      ]
     },
     "execution_count": 45,
     "metadata": {},
     "output_type": "execute_result"
    }
   ],
   "source": [
    "# scaling data X_train, X_test pada kolom num menggunakan StandardScaler\n",
    "scaler = StandardScaler()\n",
    "scaler.fit(X_train_num)\n",
    "\n",
    "X_train_num_scaled = scaler.transform(X_train_num)\n",
    "X_test_num_scaled = scaler.transform(X_test_num)\n",
    "\n",
    "X_train_num_scaled"
   ]
  },
  {
   "cell_type": "code",
   "execution_count": 46,
   "metadata": {
    "colab": {
     "base_uri": "https://localhost:8080/"
    },
    "id": "UoyNSh4pwKDG",
    "outputId": "31e461ae-8aa0-41e5-f361-8c578eeb4907"
   },
   "outputs": [
    {
     "data": {
      "text/plain": [
       "array([[-0.8245044495080173, 0.0, 0.0, ..., 0.0, 0, 0],\n",
       "       [-0.3234598615917763, 0.0, 0.0, ..., 0.0, 0, 0],\n",
       "       [1.0126590395181996, 0.0, 0.0, ..., 2.0, 0, 0],\n",
       "       ...,\n",
       "       [-1.0750267434661378, 3.0, 2.0, ..., 2.0, 2, 2],\n",
       "       [-1.0282542311841567, 2.0, 0.0, ..., 0.0, 0, 0],\n",
       "       [1.6359585068860034, 0.0, 0.0, ..., 0.0, 0, 0]], dtype=object)"
      ]
     },
     "execution_count": 46,
     "metadata": {},
     "output_type": "execute_result"
    }
   ],
   "source": [
    "# menggabungkan kolom yang discalling dan kolom categorinya\n",
    "X_train_final = np.concatenate([X_train_num_scaled, X_train_cat], axis=1)\n",
    "X_test_final = np.concatenate([X_test_num_scaled, X_test_cat], axis=1)\n",
    "\n",
    "X_train_final"
   ]
  },
  {
   "cell_type": "code",
   "execution_count": 47,
   "metadata": {
    "colab": {
     "base_uri": "https://localhost:8080/",
     "height": 424
    },
    "id": "tLPTdLjIemFk",
    "outputId": "1cb04956-828b-4276-e81d-7ef0c1b8ca58"
   },
   "outputs": [
    {
     "data": {
      "text/html": [
       "\n",
       "  <div id=\"df-61e2ee5a-07ac-4e85-bccb-40d235008df1\">\n",
       "    <div class=\"colab-df-container\">\n",
       "      <div>\n",
       "<style scoped>\n",
       "    .dataframe tbody tr th:only-of-type {\n",
       "        vertical-align: middle;\n",
       "    }\n",
       "\n",
       "    .dataframe tbody tr th {\n",
       "        vertical-align: top;\n",
       "    }\n",
       "\n",
       "    .dataframe thead th {\n",
       "        text-align: right;\n",
       "    }\n",
       "</style>\n",
       "<table border=\"1\" class=\"dataframe\">\n",
       "  <thead>\n",
       "    <tr style=\"text-align: right;\">\n",
       "      <th></th>\n",
       "      <th>0</th>\n",
       "      <th>1</th>\n",
       "      <th>2</th>\n",
       "      <th>3</th>\n",
       "      <th>4</th>\n",
       "      <th>5</th>\n",
       "      <th>6</th>\n",
       "    </tr>\n",
       "  </thead>\n",
       "  <tbody>\n",
       "    <tr>\n",
       "      <th>0</th>\n",
       "      <td>-0.824504</td>\n",
       "      <td>0.0</td>\n",
       "      <td>0.0</td>\n",
       "      <td>0.0</td>\n",
       "      <td>0.0</td>\n",
       "      <td>0</td>\n",
       "      <td>0</td>\n",
       "    </tr>\n",
       "    <tr>\n",
       "      <th>1</th>\n",
       "      <td>-0.32346</td>\n",
       "      <td>0.0</td>\n",
       "      <td>0.0</td>\n",
       "      <td>0.0</td>\n",
       "      <td>0.0</td>\n",
       "      <td>0</td>\n",
       "      <td>0</td>\n",
       "    </tr>\n",
       "    <tr>\n",
       "      <th>2</th>\n",
       "      <td>1.012659</td>\n",
       "      <td>0.0</td>\n",
       "      <td>0.0</td>\n",
       "      <td>0.0</td>\n",
       "      <td>2.0</td>\n",
       "      <td>0</td>\n",
       "      <td>0</td>\n",
       "    </tr>\n",
       "    <tr>\n",
       "      <th>3</th>\n",
       "      <td>-0.156445</td>\n",
       "      <td>0.0</td>\n",
       "      <td>0.0</td>\n",
       "      <td>0.0</td>\n",
       "      <td>0.0</td>\n",
       "      <td>0</td>\n",
       "      <td>0</td>\n",
       "    </tr>\n",
       "    <tr>\n",
       "      <th>4</th>\n",
       "      <td>-0.824504</td>\n",
       "      <td>0.0</td>\n",
       "      <td>0.0</td>\n",
       "      <td>0.0</td>\n",
       "      <td>0.0</td>\n",
       "      <td>0</td>\n",
       "      <td>0</td>\n",
       "    </tr>\n",
       "    <tr>\n",
       "      <th>...</th>\n",
       "      <td>...</td>\n",
       "      <td>...</td>\n",
       "      <td>...</td>\n",
       "      <td>...</td>\n",
       "      <td>...</td>\n",
       "      <td>...</td>\n",
       "      <td>...</td>\n",
       "    </tr>\n",
       "    <tr>\n",
       "      <th>4617</th>\n",
       "      <td>-0.65749</td>\n",
       "      <td>0.0</td>\n",
       "      <td>0.0</td>\n",
       "      <td>0.0</td>\n",
       "      <td>0.0</td>\n",
       "      <td>0</td>\n",
       "      <td>0</td>\n",
       "    </tr>\n",
       "    <tr>\n",
       "      <th>4618</th>\n",
       "      <td>2.029529</td>\n",
       "      <td>1.0</td>\n",
       "      <td>-2.0</td>\n",
       "      <td>-2.0</td>\n",
       "      <td>-2.0</td>\n",
       "      <td>-2</td>\n",
       "      <td>-2</td>\n",
       "    </tr>\n",
       "    <tr>\n",
       "      <th>4619</th>\n",
       "      <td>-1.075027</td>\n",
       "      <td>3.0</td>\n",
       "      <td>2.0</td>\n",
       "      <td>2.0</td>\n",
       "      <td>2.0</td>\n",
       "      <td>2</td>\n",
       "      <td>2</td>\n",
       "    </tr>\n",
       "    <tr>\n",
       "      <th>4620</th>\n",
       "      <td>-1.028254</td>\n",
       "      <td>2.0</td>\n",
       "      <td>0.0</td>\n",
       "      <td>0.0</td>\n",
       "      <td>0.0</td>\n",
       "      <td>0</td>\n",
       "      <td>0</td>\n",
       "    </tr>\n",
       "    <tr>\n",
       "      <th>4621</th>\n",
       "      <td>1.635959</td>\n",
       "      <td>0.0</td>\n",
       "      <td>0.0</td>\n",
       "      <td>0.0</td>\n",
       "      <td>0.0</td>\n",
       "      <td>0</td>\n",
       "      <td>0</td>\n",
       "    </tr>\n",
       "  </tbody>\n",
       "</table>\n",
       "<p>4622 rows × 7 columns</p>\n",
       "</div>\n",
       "      <button class=\"colab-df-convert\" onclick=\"convertToInteractive('df-61e2ee5a-07ac-4e85-bccb-40d235008df1')\"\n",
       "              title=\"Convert this dataframe to an interactive table.\"\n",
       "              style=\"display:none;\">\n",
       "        \n",
       "  <svg xmlns=\"http://www.w3.org/2000/svg\" height=\"24px\"viewBox=\"0 0 24 24\"\n",
       "       width=\"24px\">\n",
       "    <path d=\"M0 0h24v24H0V0z\" fill=\"none\"/>\n",
       "    <path d=\"M18.56 5.44l.94 2.06.94-2.06 2.06-.94-2.06-.94-.94-2.06-.94 2.06-2.06.94zm-11 1L8.5 8.5l.94-2.06 2.06-.94-2.06-.94L8.5 2.5l-.94 2.06-2.06.94zm10 10l.94 2.06.94-2.06 2.06-.94-2.06-.94-.94-2.06-.94 2.06-2.06.94z\"/><path d=\"M17.41 7.96l-1.37-1.37c-.4-.4-.92-.59-1.43-.59-.52 0-1.04.2-1.43.59L10.3 9.45l-7.72 7.72c-.78.78-.78 2.05 0 2.83L4 21.41c.39.39.9.59 1.41.59.51 0 1.02-.2 1.41-.59l7.78-7.78 2.81-2.81c.8-.78.8-2.07 0-2.86zM5.41 20L4 18.59l7.72-7.72 1.47 1.35L5.41 20z\"/>\n",
       "  </svg>\n",
       "      </button>\n",
       "      \n",
       "  <style>\n",
       "    .colab-df-container {\n",
       "      display:flex;\n",
       "      flex-wrap:wrap;\n",
       "      gap: 12px;\n",
       "    }\n",
       "\n",
       "    .colab-df-convert {\n",
       "      background-color: #E8F0FE;\n",
       "      border: none;\n",
       "      border-radius: 50%;\n",
       "      cursor: pointer;\n",
       "      display: none;\n",
       "      fill: #1967D2;\n",
       "      height: 32px;\n",
       "      padding: 0 0 0 0;\n",
       "      width: 32px;\n",
       "    }\n",
       "\n",
       "    .colab-df-convert:hover {\n",
       "      background-color: #E2EBFA;\n",
       "      box-shadow: 0px 1px 2px rgba(60, 64, 67, 0.3), 0px 1px 3px 1px rgba(60, 64, 67, 0.15);\n",
       "      fill: #174EA6;\n",
       "    }\n",
       "\n",
       "    [theme=dark] .colab-df-convert {\n",
       "      background-color: #3B4455;\n",
       "      fill: #D2E3FC;\n",
       "    }\n",
       "\n",
       "    [theme=dark] .colab-df-convert:hover {\n",
       "      background-color: #434B5C;\n",
       "      box-shadow: 0px 1px 3px 1px rgba(0, 0, 0, 0.15);\n",
       "      filter: drop-shadow(0px 1px 2px rgba(0, 0, 0, 0.3));\n",
       "      fill: #FFFFFF;\n",
       "    }\n",
       "  </style>\n",
       "\n",
       "      <script>\n",
       "        const buttonEl =\n",
       "          document.querySelector('#df-61e2ee5a-07ac-4e85-bccb-40d235008df1 button.colab-df-convert');\n",
       "        buttonEl.style.display =\n",
       "          google.colab.kernel.accessAllowed ? 'block' : 'none';\n",
       "\n",
       "        async function convertToInteractive(key) {\n",
       "          const element = document.querySelector('#df-61e2ee5a-07ac-4e85-bccb-40d235008df1');\n",
       "          const dataTable =\n",
       "            await google.colab.kernel.invokeFunction('convertToInteractive',\n",
       "                                                     [key], {});\n",
       "          if (!dataTable) return;\n",
       "\n",
       "          const docLinkHtml = 'Like what you see? Visit the ' +\n",
       "            '<a target=\"_blank\" href=https://colab.research.google.com/notebooks/data_table.ipynb>data table notebook</a>'\n",
       "            + ' to learn more about interactive tables.';\n",
       "          element.innerHTML = '';\n",
       "          dataTable['output_type'] = 'display_data';\n",
       "          await google.colab.output.renderOutput(dataTable, element);\n",
       "          const docLink = document.createElement('div');\n",
       "          docLink.innerHTML = docLinkHtml;\n",
       "          element.appendChild(docLink);\n",
       "        }\n",
       "      </script>\n",
       "    </div>\n",
       "  </div>\n",
       "  "
      ],
      "text/plain": [
       "             0    1    2    3    4   5   6\n",
       "0    -0.824504  0.0  0.0  0.0  0.0   0   0\n",
       "1     -0.32346  0.0  0.0  0.0  0.0   0   0\n",
       "2     1.012659  0.0  0.0  0.0  2.0   0   0\n",
       "3    -0.156445  0.0  0.0  0.0  0.0   0   0\n",
       "4    -0.824504  0.0  0.0  0.0  0.0   0   0\n",
       "...        ...  ...  ...  ...  ...  ..  ..\n",
       "4617  -0.65749  0.0  0.0  0.0  0.0   0   0\n",
       "4618  2.029529  1.0 -2.0 -2.0 -2.0  -2  -2\n",
       "4619 -1.075027  3.0  2.0  2.0  2.0   2   2\n",
       "4620 -1.028254  2.0  0.0  0.0  0.0   0   0\n",
       "4621  1.635959  0.0  0.0  0.0  0.0   0   0\n",
       "\n",
       "[4622 rows x 7 columns]"
      ]
     },
     "execution_count": 47,
     "metadata": {},
     "output_type": "execute_result"
    }
   ],
   "source": [
    "# membuat dataframe untuk X_train_final\n",
    "\n",
    "X_train_final_df = pd.DataFrame(X_train_final)\n",
    "X_train_final_df"
   ]
  },
  {
   "cell_type": "markdown",
   "metadata": {
    "id": "vX2yKrQbGtsA"
   },
   "source": [
    "- sekilas inilah feature yang digunakan dan feature telah siap digunakan untuk modeling"
   ]
  },
  {
   "cell_type": "markdown",
   "metadata": {
    "id": "O2wXGR6fwKDG"
   },
   "source": [
    "# E. Modelling\n",
    "*dilakukan modelling dengan default parameternya*"
   ]
  },
  {
   "cell_type": "code",
   "execution_count": 48,
   "metadata": {
    "colab": {
     "base_uri": "https://localhost:8080/"
    },
    "id": "PwMJrhaHwKDI",
    "outputId": "f45d63b1-478d-4c67-93f0-708fb6c6cee3"
   },
   "outputs": [
    {
     "data": {
      "text/plain": [
       "XGBClassifier()"
      ]
     },
     "execution_count": 48,
     "metadata": {},
     "output_type": "execute_result"
    }
   ],
   "source": [
    "# Logistic Regression\n",
    "logreg = LogisticRegression()\n",
    "logreg.fit(X_train_final,y_train)\n",
    "\n",
    "# SVC\n",
    "svc = SVC(probability=True)\n",
    "svc.fit(X_train_final,y_train)\n",
    "\n",
    "# Decision Tree\n",
    "dt = DecisionTreeClassifier()\n",
    "dt.fit(X_train_final,y_train)\n",
    "\n",
    "# Random Forest\n",
    "rf= RandomForestClassifier()\n",
    "rf.fit(X_train_final,y_train)\n",
    "\n",
    "# KNN\n",
    "knn = KNeighborsClassifier()\n",
    "knn.fit(X_train_final,y_train)\n",
    "\n",
    "# Naive Bayes\n",
    "gnb = GaussianNB()\n",
    "gnb.fit(X_train_final,y_train)\n",
    "\n",
    "# XGBoost\n",
    "xgb = XGBClassifier()\n",
    "xgb.fit(X_train_final,y_train)"
   ]
  },
  {
   "cell_type": "markdown",
   "metadata": {
    "id": "bCnS7TitHEtB"
   },
   "source": [
    "- mendeskripsikan model-model yang digunakan\n",
    "- pada model ketujuh digunakan xgboost, dengan pertimbangan ini adalah salah satu model terbaik."
   ]
  },
  {
   "cell_type": "markdown",
   "metadata": {
    "id": "KmRO3AzLHtvD"
   },
   "source": [
    "# F. Model Training Test"
   ]
  },
  {
   "cell_type": "code",
   "execution_count": 49,
   "metadata": {
    "id": "FgKeldsu35wS"
   },
   "outputs": [],
   "source": [
    "# proses prediksi pada data train dan data test\n",
    "\n",
    "# Logistic Regression\n",
    "y_pred_train_logreg = logreg.predict(X_train_final)\n",
    "y_pred_test_logreg = logreg.predict(X_test_final)\n",
    "\n",
    "# SVC\n",
    "y_pred_train_svc = svc.predict(X_train_final)\n",
    "y_pred_test_svc = svc.predict(X_test_final)\n",
    "\n",
    "# Decision Tree\n",
    "y_pred_train_dt = dt.predict(X_train_final)\n",
    "y_pred_test_dt = dt.predict(X_test_final)\n",
    "\n",
    "# Random Forest\n",
    "y_pred_train_rf = rf.predict(X_train_final)\n",
    "y_pred_test_rf = rf.predict(X_test_final)\n",
    "\n",
    "# KNN\n",
    "y_pred_train_knn = knn.predict(X_train_final)\n",
    "y_pred_test_knn = knn.predict(X_test_final)\n",
    "\n",
    "# Naive Bayes\n",
    "y_pred_train_gnb = gnb.predict(X_train_final)\n",
    "y_pred_test_gnb = gnb.predict(X_test_final)\n",
    "\n",
    "# XGBoost\n",
    "y_pred_train_xgb = xgb.predict(X_train_final)\n",
    "y_pred_test_xgb = xgb.predict(X_test_final)"
   ]
  },
  {
   "cell_type": "markdown",
   "metadata": {
    "id": "RFRGbPvEHghR"
   },
   "source": [
    "- proses belajar model-model pada train dan juga pada testnya"
   ]
  },
  {
   "cell_type": "markdown",
   "metadata": {
    "id": "-wO8sZILcKUB"
   },
   "source": [
    "jika terlihat ada warning pada bagian bawah running model, berdasarkan informasi dari mentor saya warning ini dikarenakan label kolomnya yang hilag saat proses prep data, tetapi hal ini tidak berpengaruh pada modelling dan hasil scoringnya."
   ]
  },
  {
   "cell_type": "markdown",
   "metadata": {
    "id": "n5xSwaQ3H2Mv"
   },
   "source": [
    "# G. Model Evaluation"
   ]
  },
  {
   "cell_type": "markdown",
   "metadata": {
    "id": "E1hlM8xtPMTN"
   },
   "source": [
    "### 1. Linear Regression evaluation"
   ]
  },
  {
   "cell_type": "code",
   "execution_count": 50,
   "metadata": {
    "colab": {
     "base_uri": "https://localhost:8080/"
    },
    "id": "KyVC5Z_hyhO7",
    "outputId": "99ee9e0b-e1c2-4a37-c752-657d73742501"
   },
   "outputs": [
    {
     "name": "stdout",
     "output_type": "stream",
     "text": [
      "==================== LogisticRegression ====================\n",
      "\n",
      "\n",
      "========== TRAINING ==========\n",
      "              precision    recall  f1-score   support\n",
      "\n",
      "           0       0.68      0.70      0.69      2311\n",
      "           1       0.69      0.68      0.68      2311\n",
      "\n",
      "    accuracy                           0.69      4622\n",
      "   macro avg       0.69      0.69      0.69      4622\n",
      "weighted avg       0.69      0.69      0.69      4622\n",
      "\n",
      "ROC-AUC Score Train: 0.740019465536582\n",
      "\n",
      "\n",
      "========== TEST ==========\n",
      "              precision    recall  f1-score   support\n",
      "\n",
      "           0       0.89      0.70      0.78      2311\n",
      "           1       0.38      0.69      0.49       633\n",
      "\n",
      "    accuracy                           0.69      2944\n",
      "   macro avg       0.64      0.69      0.64      2944\n",
      "weighted avg       0.78      0.69      0.72      2944\n",
      "\n",
      "ROC-AUC Score Test: 0.7478759118249625\n"
     ]
    }
   ],
   "source": [
    "# Evaluasi model LogisticRegression\n",
    "print(\"=\"*20,\"LogisticRegression\",\"=\"*20)\n",
    "print(\"\\n\")\n",
    "\n",
    "y_prob_train = logreg.predict_proba(X_train_final)[:,1]\n",
    "y_prob_test = logreg.predict_proba(X_test_final)[:,1]\n",
    "\n",
    "print(\"=\"*10,\"TRAINING\",\"=\"*10)\n",
    "print(classification_report(y_train, y_pred_train_logreg, zero_division=0))\n",
    "print('ROC-AUC Score Train:',roc_auc_score(y_train, y_prob_train))\n",
    "print(\"\\n\")\n",
    "print(\"=\"*10,\"TEST\",\"=\"*10)\n",
    "print(classification_report(y_test, y_pred_test_logreg, zero_division=0))\n",
    "print('ROC-AUC Score Test:',roc_auc_score(y_test, y_prob_test))"
   ]
  },
  {
   "cell_type": "markdown",
   "metadata": {
    "id": "diuStlUePVOR"
   },
   "source": [
    "### 2. SVC evaluation"
   ]
  },
  {
   "cell_type": "code",
   "execution_count": 51,
   "metadata": {
    "colab": {
     "base_uri": "https://localhost:8080/"
    },
    "id": "ChSUtp7KwKDJ",
    "outputId": "5e6d4127-03c9-40ee-f59c-39509986da76"
   },
   "outputs": [
    {
     "name": "stdout",
     "output_type": "stream",
     "text": [
      "==================== SVC ====================\n",
      "\n",
      "\n",
      "========== TRAINING ==========\n",
      "              precision    recall  f1-score   support\n",
      "\n",
      "           0       0.68      0.87      0.76      2311\n",
      "           1       0.82      0.58      0.68      2311\n",
      "\n",
      "    accuracy                           0.73      4622\n",
      "   macro avg       0.75      0.73      0.72      4622\n",
      "weighted avg       0.75      0.73      0.72      4622\n",
      "\n",
      "ROC-AUC Score Train: 0.7987591937493084\n",
      "\n",
      "\n",
      "========== TEST ==========\n",
      "              precision    recall  f1-score   support\n",
      "\n",
      "           0       0.89      0.87      0.88      2311\n",
      "           1       0.56      0.59      0.57       633\n",
      "\n",
      "    accuracy                           0.81      2944\n",
      "   macro avg       0.72      0.73      0.73      2944\n",
      "weighted avg       0.82      0.81      0.81      2944\n",
      "\n",
      "ROC-AUC Score Test: 0.7858808377818017\n"
     ]
    }
   ],
   "source": [
    "# Evaluasi model SVC\n",
    "print(\"=\"*20,\"SVC\",\"=\"*20)\n",
    "print(\"\\n\")\n",
    "\n",
    "y_prob_train = svc.predict_proba(X_train_final)[:,1]\n",
    "y_prob_test = svc.predict_proba(X_test_final)[:,1]\n",
    "\n",
    "print(\"=\"*10,\"TRAINING\",\"=\"*10)\n",
    "print(classification_report(y_train, y_pred_train_svc, zero_division=0))\n",
    "print('ROC-AUC Score Train:',roc_auc_score(y_train, y_prob_train))\n",
    "print(\"\\n\")\n",
    "print(\"=\"*10,\"TEST\",\"=\"*10)\n",
    "print(classification_report(y_test, y_pred_test_svc, zero_division=0))\n",
    "print('ROC-AUC Score Test:',roc_auc_score(y_test, y_prob_test))"
   ]
  },
  {
   "cell_type": "markdown",
   "metadata": {
    "id": "DQU6Cj8BPcZp"
   },
   "source": [
    "### 3. Decition Tree evaluation"
   ]
  },
  {
   "cell_type": "code",
   "execution_count": 52,
   "metadata": {
    "colab": {
     "base_uri": "https://localhost:8080/"
    },
    "id": "OGrNiIylyqV8",
    "outputId": "57b3f468-846e-4e91-d52e-f1e7b5198caf"
   },
   "outputs": [
    {
     "name": "stdout",
     "output_type": "stream",
     "text": [
      "==================== DecisionTree ====================\n",
      "\n",
      "\n",
      "========== TRAINING ==========\n",
      "              precision    recall  f1-score   support\n",
      "\n",
      "           0       0.87      0.95      0.91      2311\n",
      "           1       0.95      0.85      0.90      2311\n",
      "\n",
      "    accuracy                           0.90      4622\n",
      "   macro avg       0.91      0.90      0.90      4622\n",
      "weighted avg       0.91      0.90      0.90      4622\n",
      "\n",
      "ROC-AUC Score Train: 0.9730845329684886\n",
      "\n",
      "\n",
      "========== TEST ==========\n",
      "              precision    recall  f1-score   support\n",
      "\n",
      "           0       0.93      0.95      0.94      2311\n",
      "           1       0.80      0.73      0.76       633\n",
      "\n",
      "    accuracy                           0.90      2944\n",
      "   macro avg       0.86      0.84      0.85      2944\n",
      "weighted avg       0.90      0.90      0.90      2944\n",
      "\n",
      "ROC-AUC Score Test: 0.9466296570492246\n"
     ]
    }
   ],
   "source": [
    "# Evaluasi model DecisionTree\n",
    "print(\"=\"*20,\"DecisionTree\",\"=\"*20)\n",
    "print(\"\\n\")\n",
    "\n",
    "y_prob_train = dt.predict_proba(X_train_final)[:,1]\n",
    "y_prob_test = dt.predict_proba(X_test_final)[:,1]\n",
    "\n",
    "print(\"=\"*10,\"TRAINING\",\"=\"*10)\n",
    "print(classification_report(y_train, y_pred_train_dt, zero_division=0))\n",
    "print('ROC-AUC Score Train:',roc_auc_score(y_train, y_prob_train))\n",
    "print(\"\\n\")\n",
    "print(\"=\"*10,\"TEST\",\"=\"*10)\n",
    "print(classification_report(y_test, y_pred_test_dt, zero_division=0))\n",
    "print('ROC-AUC Score Test:',roc_auc_score(y_test, y_prob_test))"
   ]
  },
  {
   "cell_type": "markdown",
   "metadata": {
    "id": "vOWmFY0WPssu"
   },
   "source": [
    "### 4. Random Forest evaluation"
   ]
  },
  {
   "cell_type": "code",
   "execution_count": 53,
   "metadata": {
    "colab": {
     "base_uri": "https://localhost:8080/"
    },
    "id": "CoKNgYXQ0Y0M",
    "outputId": "cedbbafb-076d-4a9a-8ef1-4b36c16abc0c"
   },
   "outputs": [
    {
     "name": "stdout",
     "output_type": "stream",
     "text": [
      "==================== Random Forest ====================\n",
      "\n",
      "\n",
      "========== TRAINING ==========\n",
      "              precision    recall  f1-score   support\n",
      "\n",
      "           0       0.88      0.94      0.91      2311\n",
      "           1       0.93      0.87      0.90      2311\n",
      "\n",
      "    accuracy                           0.90      4622\n",
      "   macro avg       0.90      0.90      0.90      4622\n",
      "weighted avg       0.90      0.90      0.90      4622\n",
      "\n",
      "ROC-AUC Score Train: 0.9663150349924663\n",
      "\n",
      "\n",
      "========== TEST ==========\n",
      "              precision    recall  f1-score   support\n",
      "\n",
      "           0       0.94      0.94      0.94      2311\n",
      "           1       0.76      0.76      0.76       633\n",
      "\n",
      "    accuracy                           0.90      2944\n",
      "   macro avg       0.85      0.85      0.85      2944\n",
      "weighted avg       0.90      0.90      0.90      2944\n",
      "\n",
      "ROC-AUC Score Test: 0.9335829807712683\n"
     ]
    }
   ],
   "source": [
    "# Evaluasi model Random Forest\n",
    "print(\"=\"*20,\"Random Forest\",\"=\"*20)\n",
    "print(\"\\n\")\n",
    "\n",
    "y_prob_train = rf.predict_proba(X_train_final)[:,1]\n",
    "y_prob_test = rf.predict_proba(X_test_final)[:,1]\n",
    "\n",
    "print(\"=\"*10,\"TRAINING\",\"=\"*10)\n",
    "print(classification_report(y_train, y_pred_train_rf, zero_division=0))\n",
    "print('ROC-AUC Score Train:',roc_auc_score(y_train, y_prob_train))\n",
    "print(\"\\n\")\n",
    "print(\"=\"*10,\"TEST\",\"=\"*10)\n",
    "print(classification_report(y_test, y_pred_test_rf, zero_division=0))\n",
    "print('ROC-AUC Score Test:',roc_auc_score(y_test, y_prob_test))"
   ]
  },
  {
   "cell_type": "markdown",
   "metadata": {
    "id": "eeWq-LBLPxfs"
   },
   "source": [
    "### 5. KNN evaluation"
   ]
  },
  {
   "cell_type": "code",
   "execution_count": 54,
   "metadata": {
    "colab": {
     "base_uri": "https://localhost:8080/"
    },
    "id": "19k1d4Oq1yqz",
    "outputId": "f870f089-f4a5-401e-e8cf-5a765808d71f"
   },
   "outputs": [
    {
     "name": "stdout",
     "output_type": "stream",
     "text": [
      "==================== KNN ====================\n",
      "\n",
      "\n",
      "========== TRAINING ==========\n",
      "              precision    recall  f1-score   support\n",
      "\n",
      "           0       0.78      0.88      0.82      2311\n",
      "           1       0.86      0.75      0.80      2311\n",
      "\n",
      "    accuracy                           0.81      4622\n",
      "   macro avg       0.82      0.81      0.81      4622\n",
      "weighted avg       0.82      0.81      0.81      4622\n",
      "\n",
      "ROC-AUC Score Train: 0.8842502725755568\n",
      "\n",
      "\n",
      "========== TEST ==========\n",
      "              precision    recall  f1-score   support\n",
      "\n",
      "           0       0.90      0.88      0.89      2311\n",
      "           1       0.59      0.65      0.62       633\n",
      "\n",
      "    accuracy                           0.83      2944\n",
      "   macro avg       0.75      0.76      0.75      2944\n",
      "weighted avg       0.83      0.83      0.83      2944\n",
      "\n",
      "ROC-AUC Score Test: 0.8421906220883295\n"
     ]
    }
   ],
   "source": [
    "# Evaluasi model KNN\n",
    "print(\"=\"*20,\"KNN\",\"=\"*20)\n",
    "print(\"\\n\")\n",
    "\n",
    "y_prob_train = knn.predict_proba(X_train_final)[:,1]\n",
    "y_prob_test = knn.predict_proba(X_test_final)[:,1]\n",
    "\n",
    "print(\"=\"*10,\"TRAINING\",\"=\"*10)\n",
    "print(classification_report(y_train, y_pred_train_knn, zero_division=0))\n",
    "print('ROC-AUC Score Train:',roc_auc_score(y_train, y_prob_train))\n",
    "print(\"\\n\")\n",
    "print(\"=\"*10,\"TEST\",\"=\"*10)\n",
    "print(classification_report(y_test, y_pred_test_knn, zero_division=0))\n",
    "print('ROC-AUC Score Test:',roc_auc_score(y_test, y_prob_test))"
   ]
  },
  {
   "cell_type": "markdown",
   "metadata": {
    "id": "9FssrzOsP3mQ"
   },
   "source": [
    "### 6. Gaussian Naive Bayes evaluation"
   ]
  },
  {
   "cell_type": "code",
   "execution_count": 55,
   "metadata": {
    "colab": {
     "base_uri": "https://localhost:8080/"
    },
    "id": "1P28GLa0176b",
    "outputId": "5fac20ad-c558-474d-fc9c-70486e9f1ea3"
   },
   "outputs": [
    {
     "name": "stdout",
     "output_type": "stream",
     "text": [
      "==================== NaiveBayes ====================\n",
      "\n",
      "\n",
      "========== TRAINING ==========\n",
      "              precision    recall  f1-score   support\n",
      "\n",
      "           0       0.66      0.85      0.74      2311\n",
      "           1       0.79      0.56      0.66      2311\n",
      "\n",
      "    accuracy                           0.71      4622\n",
      "   macro avg       0.72      0.71      0.70      4622\n",
      "weighted avg       0.72      0.71      0.70      4622\n",
      "\n",
      "ROC-AUC Score Train: 0.7337071155748447\n",
      "\n",
      "\n",
      "========== TEST ==========\n",
      "              precision    recall  f1-score   support\n",
      "\n",
      "           0       0.88      0.85      0.87      2311\n",
      "           1       0.52      0.58      0.54       633\n",
      "\n",
      "    accuracy                           0.79      2944\n",
      "   macro avg       0.70      0.71      0.70      2944\n",
      "weighted avg       0.80      0.79      0.80      2944\n",
      "\n",
      "ROC-AUC Score Test: 0.7553711454866244\n"
     ]
    }
   ],
   "source": [
    "# Evaluasi model NaiveBayes\n",
    "print(\"=\"*20,\"NaiveBayes\",\"=\"*20)\n",
    "print(\"\\n\")\n",
    "\n",
    "y_prob_train = gnb.predict_proba(X_train_final)[:,1]\n",
    "y_prob_test = gnb.predict_proba(X_test_final)[:,1]\n",
    "\n",
    "print(\"=\"*10,\"TRAINING\",\"=\"*10)\n",
    "print(classification_report(y_train, y_pred_train_gnb, zero_division=0))\n",
    "print('ROC-AUC Score Train:',roc_auc_score(y_train, y_prob_train))\n",
    "print(\"\\n\")\n",
    "print(\"=\"*10,\"TEST\",\"=\"*10)\n",
    "print(classification_report(y_test, y_pred_test_gnb, zero_division=0))\n",
    "print('ROC-AUC Score Test:',roc_auc_score(y_test, y_prob_test))"
   ]
  },
  {
   "cell_type": "markdown",
   "metadata": {
    "id": "Rh3EBBLvP-_j"
   },
   "source": [
    "### 7. XGBoost evaluation"
   ]
  },
  {
   "cell_type": "code",
   "execution_count": 56,
   "metadata": {
    "colab": {
     "base_uri": "https://localhost:8080/"
    },
    "id": "6XOvW-HW2GZU",
    "outputId": "f002dedf-06d3-423a-b429-e60c530e9540"
   },
   "outputs": [
    {
     "name": "stdout",
     "output_type": "stream",
     "text": [
      "==================== XGBoost ====================\n",
      "\n",
      "\n",
      "========== TRAINING ==========\n",
      "              precision    recall  f1-score   support\n",
      "\n",
      "           0       0.71      0.90      0.80      2311\n",
      "           1       0.86      0.64      0.74      2311\n",
      "\n",
      "    accuracy                           0.77      4622\n",
      "   macro avg       0.79      0.77      0.77      4622\n",
      "weighted avg       0.79      0.77      0.77      4622\n",
      "\n",
      "ROC-AUC Score Train: 0.8608259072136515\n",
      "\n",
      "\n",
      "========== TEST ==========\n",
      "              precision    recall  f1-score   support\n",
      "\n",
      "           0       0.88      0.90      0.89      2311\n",
      "           1       0.60      0.57      0.58       633\n",
      "\n",
      "    accuracy                           0.83      2944\n",
      "   macro avg       0.74      0.73      0.74      2944\n",
      "weighted avg       0.82      0.83      0.82      2944\n",
      "\n",
      "ROC-AUC Score Test: 0.812012813229947\n"
     ]
    }
   ],
   "source": [
    "# Evaluasi model XGBoost\n",
    "print(\"=\"*20,\"XGBoost\",\"=\"*20)\n",
    "print(\"\\n\")\n",
    "\n",
    "y_prob_train = xgb.predict_proba(X_train_final)[:,1]\n",
    "y_prob_test = xgb.predict_proba(X_test_final)[:,1]\n",
    "\n",
    "print(\"=\"*10,\"TRAINING\",\"=\"*10)\n",
    "print(classification_report(y_train, y_pred_train_xgb, zero_division=0))\n",
    "print('ROC-AUC Score Train:',roc_auc_score(y_train, y_prob_train))\n",
    "print(\"\\n\")\n",
    "print(\"=\"*10,\"TEST\",\"=\"*10)\n",
    "print(classification_report(y_test, y_pred_test_xgb, zero_division=0))\n",
    "print('ROC-AUC Score Test:',roc_auc_score(y_test, y_prob_test))"
   ]
  },
  {
   "cell_type": "markdown",
   "metadata": {
    "id": "zZTYFKEVIBwc"
   },
   "source": [
    "- menentukan model terbaik,\n",
    "pada model evaluation ini dapat terlihat bahwa nilai **ROC-AUC** terbaiknya yaitu pada model **Decison Tree** dengan **presentase train 0.97 dan test 0.94**\n",
    "\n",
    "- pada nilai evaluation nilai **Accuracy dan F1 Score** tidak sepenuhnya benar untuk digunakan karena data yang imbalance membuat nilai ini menjadi bias.\n",
    "\n",
    "- untuk **recall dan precision** akan dijelaskan pada evaluation matrik"
   ]
  },
  {
   "cell_type": "markdown",
   "metadata": {
    "id": "so37ZkARMmh9"
   },
   "source": [
    "## Cross Validation"
   ]
  },
  {
   "cell_type": "code",
   "execution_count": 57,
   "metadata": {
    "colab": {
     "base_uri": "https://localhost:8080/"
    },
    "id": "801dYHkmMSqp",
    "outputId": "5a6f62fe-c957-4814-d9a0-1211590695f2"
   },
   "outputs": [
    {
     "name": "stdout",
     "output_type": "stream",
     "text": [
      "LogisticRegression\n",
      "train mean accuracy : 0.665 | train std accuracy : 0.081\n",
      "\n",
      "SVC\n",
      "train mean accuracy : 0.612 | train std accuracy : 0.158\n",
      "\n",
      "DecisionTreeClassifier\n",
      "train mean accuracy : 0.701 | train std accuracy : 0.093\n",
      "\n",
      "RandomForestClassifier\n",
      "train mean accuracy : 0.691 | train std accuracy : 0.112\n",
      "\n",
      "KNeighborsClassifier\n",
      "train mean accuracy : 0.676 | train std accuracy : 0.102\n",
      "\n",
      "GaussianNB\n",
      "train mean accuracy : 0.673 | train std accuracy : 0.127\n",
      "\n",
      "XGBClassifier\n",
      "train mean accuracy : 0.664 | train std accuracy : 0.136\n",
      "\n"
     ]
    }
   ],
   "source": [
    "skfold = StratifiedKFold(n_splits=10)\n",
    "\n",
    "for model in [logreg, svc, dt, rf, knn, gnb, xgb]:\n",
    "    scores_train = cross_val_score(model, X_train_final, y_train, cv=skfold, scoring=\"accuracy\")\n",
    "    scores_test = cross_val_score(model, X_test_final, y_test, cv=skfold, scoring=\"accuracy\")\n",
    "\n",
    "    print((f'{model}').split('(')[0])\n",
    "    print(f'train mean accuracy :', '{:.3f}'.format(np.mean(scores_train)), '| train std accuracy :', '{:.3f}'.format(np.std(scores_train)))\n",
    "    #print(f'test mean accuracy :', '{:.3f}'.format(np.mean(scores_test)), ' | test std accuracy :', '{:.3f}'.format(np.std(scores_test)))\n",
    "    print()"
   ]
  },
  {
   "cell_type": "markdown",
   "metadata": {
    "id": "_SL5IEUCQXwP"
   },
   "source": [
    "- untuk nilai **Mean Accuracy** didapatkan model terbaik adalah **Decision Tree**\n",
    "- dan nilai **Standard Deviasi** juga menunjukan **Decison Tree** adalah model terbaik\n",
    "- pada tulisan sebelumnya penulis mengatakan jika accuracy tidak dapat digunakan nilainya untuk menentukan model terbaik karena data imbalance, oleh karena itu penulis membandingkan berbagai evaluation model untuk menentukan model terbaik."
   ]
  },
  {
   "cell_type": "markdown",
   "metadata": {
    "id": "IZ7GerMlNyPj"
   },
   "source": [
    "- disini terlihat ada warning pada bagian bawah tiap2 model, berdasarkan informasi dari mentor saya warning ini dikarenakan label kolomnya yang hilag saat proses prep data, tetapi hal ini tidak berpengaruh pada modelling dan hasil scoringnya."
   ]
  },
  {
   "cell_type": "markdown",
   "metadata": {
    "id": "Um8-1ssxAaFp"
   },
   "source": [
    "## Confusion Matrix"
   ]
  },
  {
   "cell_type": "markdown",
   "metadata": {
    "id": "0e4PtU2PRfft"
   },
   "source": [
    "### 1. Linear Regression"
   ]
  },
  {
   "cell_type": "code",
   "execution_count": 58,
   "metadata": {
    "colab": {
     "base_uri": "https://localhost:8080/",
     "height": 281
    },
    "id": "h-rMpURwN4GM",
    "outputId": "aa8febc9-0987-43f6-9539-b0decf4942e5"
   },
   "outputs": [
    {
     "data": {
      "image/png": "[encoded data removed]",
      "text/plain": [
       "<Figure size 432x288 with 2 Axes>"
      ]
     },
     "metadata": {
      "needs_background": "light"
     },
     "output_type": "display_data"
    }
   ],
   "source": [
    "cm = confusion_matrix(y_train, y_pred_train_logreg, labels=logreg.classes_)\n",
    "disp = ConfusionMatrixDisplay(confusion_matrix=cm, display_labels=logreg.classes_)\n",
    "\n",
    "disp.plot()\n",
    "plt.show()"
   ]
  },
  {
   "cell_type": "markdown",
   "metadata": {
    "id": "O1AafaHVRkhp"
   },
   "source": [
    "### 2. SVC"
   ]
  },
  {
   "cell_type": "code",
   "execution_count": 59,
   "metadata": {
    "colab": {
     "base_uri": "https://localhost:8080/",
     "height": 281
    },
    "id": "LMSdCs8TTQgu",
    "outputId": "e1078a1f-b5e6-4581-fa06-334859858999"
   },
   "outputs": [
    {
     "data": {
      "image/png": "[encoded data removed]",
      "text/plain": [
       "<Figure size 432x288 with 2 Axes>"
      ]
     },
     "metadata": {
      "needs_background": "light"
     },
     "output_type": "display_data"
    }
   ],
   "source": [
    "cm = confusion_matrix(y_train, y_pred_train_svc, labels=svc.classes_)\n",
    "disp = ConfusionMatrixDisplay(confusion_matrix=cm, display_labels=svc.classes_)\n",
    "\n",
    "disp.plot()\n",
    "plt.show()"
   ]
  },
  {
   "cell_type": "markdown",
   "metadata": {
    "id": "dVX--w3yRpol"
   },
   "source": [
    "### 3. Decision Tree"
   ]
  },
  {
   "cell_type": "code",
   "execution_count": 60,
   "metadata": {
    "colab": {
     "base_uri": "https://localhost:8080/",
     "height": 279
    },
    "id": "DgGIXxkwuzks",
    "outputId": "1f7ff46b-5252-4719-fa0f-d61db6db83d9"
   },
   "outputs": [
    {
     "data": {
      "image/png": "[encoded data removed]",
      "text/plain": [
       "<Figure size 432x288 with 2 Axes>"
      ]
     },
     "metadata": {
      "needs_background": "light"
     },
     "output_type": "display_data"
    }
   ],
   "source": [
    "cm = confusion_matrix(y_train, y_pred_train_dt, labels=dt.classes_)\n",
    "disp = ConfusionMatrixDisplay(confusion_matrix=cm, display_labels=dt.classes_)\n",
    "\n",
    "disp.plot()\n",
    "plt.show()"
   ]
  },
  {
   "cell_type": "markdown",
   "metadata": {
    "id": "WPMNTlHGRzkE"
   },
   "source": [
    "### 4. Random Forest"
   ]
  },
  {
   "cell_type": "code",
   "execution_count": 61,
   "metadata": {
    "colab": {
     "base_uri": "https://localhost:8080/",
     "height": 279
    },
    "id": "g3Uwp4Yf-ufd",
    "outputId": "a336bace-7bf2-492d-8a4e-39b5f9f79d91"
   },
   "outputs": [
    {
     "data": {
      "image/png": "[encoded data removed]",
      "text/plain": [
       "<Figure size 432x288 with 2 Axes>"
      ]
     },
     "metadata": {
      "needs_background": "light"
     },
     "output_type": "display_data"
    }
   ],
   "source": [
    "cm = confusion_matrix(y_train, y_pred_train_rf, labels=rf.classes_)\n",
    "disp = ConfusionMatrixDisplay(confusion_matrix=cm, display_labels=rf.classes_)\n",
    "\n",
    "disp.plot()\n",
    "plt.show()"
   ]
  },
  {
   "cell_type": "markdown",
   "metadata": {
    "id": "b4aOsrkiSKTi"
   },
   "source": [
    "### 5. KNN"
   ]
  },
  {
   "cell_type": "code",
   "execution_count": 62,
   "metadata": {
    "colab": {
     "base_uri": "https://localhost:8080/",
     "height": 280
    },
    "id": "F74hnuMn-yn6",
    "outputId": "2ad6a4ab-5980-4df3-f962-545cb1760ee4"
   },
   "outputs": [
    {
     "data": {
      "image/png": "[encoded data removed]",
      "text/plain": [
       "<Figure size 432x288 with 2 Axes>"
      ]
     },
     "metadata": {
      "needs_background": "light"
     },
     "output_type": "display_data"
    }
   ],
   "source": [
    "cm = confusion_matrix(y_train, y_pred_train_knn, labels=knn.classes_)\n",
    "disp = ConfusionMatrixDisplay(confusion_matrix=cm, display_labels=knn.classes_)\n",
    "\n",
    "disp.plot()\n",
    "plt.show()"
   ]
  },
  {
   "cell_type": "markdown",
   "metadata": {
    "id": "Hvgvs_1hSNGm"
   },
   "source": [
    "### 6. Gaussian Naive Bayes"
   ]
  },
  {
   "cell_type": "code",
   "execution_count": 63,
   "metadata": {
    "colab": {
     "base_uri": "https://localhost:8080/",
     "height": 279
    },
    "id": "yQ2GG80M-6c_",
    "outputId": "bce9d685-2527-4358-dda6-4d534cdefab4"
   },
   "outputs": [
    {
     "data": {
      "image/png": "[encoded data removed]",
      "text/plain": [
       "<Figure size 432x288 with 2 Axes>"
      ]
     },
     "metadata": {
      "needs_background": "light"
     },
     "output_type": "display_data"
    }
   ],
   "source": [
    "cm = confusion_matrix(y_train, y_pred_train_gnb, labels=gnb.classes_)\n",
    "disp = ConfusionMatrixDisplay(confusion_matrix=cm, display_labels=gnb.classes_)\n",
    "\n",
    "disp.plot()\n",
    "plt.show()"
   ]
  },
  {
   "cell_type": "markdown",
   "metadata": {
    "id": "Q8RIw-PgSTWI"
   },
   "source": [
    "### 7. XGBoost"
   ]
  },
  {
   "cell_type": "code",
   "execution_count": 64,
   "metadata": {
    "colab": {
     "base_uri": "https://localhost:8080/",
     "height": 279
    },
    "id": "Y23fA9Ul--Yq",
    "outputId": "2eebeff8-0e89-4e15-9825-093185bc22c8"
   },
   "outputs": [
    {
     "data": {
      "image/png": "[encoded data removed]",
      "text/plain": [
       "<Figure size 432x288 with 2 Axes>"
      ]
     },
     "metadata": {
      "needs_background": "light"
     },
     "output_type": "display_data"
    }
   ],
   "source": [
    "cm = confusion_matrix(y_train, y_pred_train_xgb, labels=xgb.classes_)\n",
    "disp = ConfusionMatrixDisplay(confusion_matrix=cm, display_labels=xgb.classes_)\n",
    "\n",
    "disp.plot()\n",
    "plt.show()"
   ]
  },
  {
   "cell_type": "markdown",
   "metadata": {
    "id": "dakQA8AHSgYL"
   },
   "source": [
    "- dari **confussion matrix evaluation** juga tergambarkan bahwa model terbaik adalah **Decision Tree** dengan nilai recall erorr terkecil data yang salah prediksi\n",
    "- penentuan model terbaik dengan motede ini dilihat dari nilai model prediksi benar dan salah dan pemilahan datanya.\n",
    "- kita akan berfokus pada nilai **recall dan precision**, dimana **recall berarti nasabah yang tidak default tetapi diprediksi default artinya kemungkinan bank akan kehilangan nasabah** dan **precision berarti nasabah default diprediksi tidak default artinya bank akan mengalami kerugian.**\n",
    "- pada kedua kasus ini manakah yang lebih baik ini adalah **keputusan yang sulit** tetapi lebih baik bank kehilangan nasabah dari pada bank akan rugi. yang artinya kita akan memilih nilai recall terkecil dari **confussion matrix evaluation** \n"
   ]
  },
  {
   "cell_type": "markdown",
   "metadata": {
    "id": "FpZvwDbIoMV9"
   },
   "source": [
    "## GridSearch CV"
   ]
  },
  {
   "cell_type": "code",
   "execution_count": 65,
   "metadata": {
    "id": "MCpjnCtuXGEY"
   },
   "outputs": [],
   "source": [
    "params = {\n",
    "    'criterion': ['gini', 'entropy'],       # 2\n",
    "    'max_depth': np.arange(2,9),            # 6\n",
    "    'min_samples_split': np.arange(2,9)     # 6\n",
    "}                                           # 2 x 6 x 6 = 24 pasangan kombinasi"
   ]
  },
  {
   "cell_type": "code",
   "execution_count": 66,
   "metadata": {
    "colab": {
     "base_uri": "https://localhost:8080/"
    },
    "id": "BtbayTCzlh7I",
    "outputId": "6287a503-66d2-4833-90c1-8b6931fa38a4"
   },
   "outputs": [
    {
     "data": {
      "text/plain": [
       "GridSearchCV(cv=10, estimator=DecisionTreeClassifier(random_state=1),\n",
       "             param_grid={'criterion': ['gini', 'entropy'],\n",
       "                         'max_depth': array([2, 3, 4, 5, 6, 7, 8]),\n",
       "                         'min_samples_split': array([2, 3, 4, 5, 6, 7, 8])},\n",
       "             return_train_score=True, scoring='recall')"
      ]
     },
     "execution_count": 66,
     "metadata": {},
     "output_type": "execute_result"
    }
   ],
   "source": [
    "from sklearn.model_selection import GridSearchCV\n",
    "dt= DecisionTreeClassifier(random_state=1)\n",
    "dt_grid = GridSearchCV(dt, params, cv=10, scoring='recall', return_train_score=True)\n",
    "dt_grid.fit(X_train_final, y_train)"
   ]
  },
  {
   "cell_type": "code",
   "execution_count": 67,
   "metadata": {
    "colab": {
     "base_uri": "https://localhost:8080/"
    },
    "id": "WsVjx7tbmpuG",
    "outputId": "aa75c2f5-8c5c-4e4c-9af8-bf896977f3d5"
   },
   "outputs": [
    {
     "name": "stdout",
     "output_type": "stream",
     "text": [
      "best params: {'criterion': 'gini', 'max_depth': 8, 'min_samples_split': 8}\n",
      "best score: 0.6113561725630691\n"
     ]
    }
   ],
   "source": [
    "print('best params:', dt_grid.best_params_)\n",
    "print('best score:', dt_grid.best_score_)"
   ]
  },
  {
   "cell_type": "markdown",
   "metadata": {
    "id": "55R5LuY1djaA"
   },
   "source": [
    "- pada grid search cv di tunning beberapa kriteria untuk mendapatkan best score, **menurut penulis rentang kriteria ini masih jauh dari sempurna.** karena hanya memuat sejumlah kecil hyperparameter dari decision tree.\n",
    "- pemilihan ini dengan pertimbangan **waktu yang singkat** untuk mendapatkannya.\n",
    "- **best params : criterion:gini, max_depth:8, min_samples_split:7**"
   ]
  },
  {
   "cell_type": "code",
   "execution_count": 68,
   "metadata": {
    "colab": {
     "base_uri": "https://localhost:8080/"
    },
    "id": "YfYPhxU4mu_N",
    "outputId": "b29fed58-5a06-4d94-d739-9dc1b22cf83d"
   },
   "outputs": [
    {
     "name": "stdout",
     "output_type": "stream",
     "text": [
      "DecisionTreeClassifier(max_depth=8, min_samples_split=8, random_state=1)\n"
     ]
    }
   ],
   "source": [
    "dt_best = dt_grid.best_estimator_\n",
    "print(dt_best)"
   ]
  },
  {
   "cell_type": "code",
   "execution_count": 69,
   "metadata": {
    "colab": {
     "base_uri": "https://localhost:8080/"
    },
    "id": "wFQd4RpQm_Ue",
    "outputId": "d17480cd-56e4-4c59-fd3b-0af3488b06b9"
   },
   "outputs": [
    {
     "data": {
      "text/plain": [
       "DecisionTreeClassifier()"
      ]
     },
     "execution_count": 69,
     "metadata": {},
     "output_type": "execute_result"
    }
   ],
   "source": [
    "dt = DecisionTreeClassifier()\n",
    "dt.fit(X_train_final,y_train)"
   ]
  },
  {
   "cell_type": "code",
   "execution_count": 70,
   "metadata": {
    "colab": {
     "base_uri": "https://localhost:8080/"
    },
    "id": "6s_9QV-UnWTn",
    "outputId": "d970318b-ff53-4a5d-f826-6e47a96f5bb0"
   },
   "outputs": [
    {
     "name": "stdout",
     "output_type": "stream",
     "text": [
      "roc_auc train:  0.7721765469493727\n",
      "roc_auc test:  0.7523982081712368\n"
     ]
    }
   ],
   "source": [
    "y_pred_train2 = dt_best.predict(X_train_final)\n",
    "print('roc_auc train: ', roc_auc_score(y_train, y_pred_train2))\n",
    "\n",
    "y_pred_test2 = dt_best.predict(X_test_final)\n",
    "print('roc_auc test: ', roc_auc_score(y_test, y_pred_test2))"
   ]
  },
  {
   "cell_type": "markdown",
   "metadata": {
    "id": "dHthHZb6easZ"
   },
   "source": [
    "- best param predict train test data, didapatkan **model best fit**\n",
    "- dengan **performa yang masih sangat dapat ditingkatkan**\n",
    "- apalagi jika dilihat dari nilai default model sebelumnya yang memiliki nilai **roc_auc train 0.97 dan test 0.94.**"
   ]
  },
  {
   "cell_type": "markdown",
   "metadata": {
    "id": "1xd89EHZoSTj"
   },
   "source": [
    "# Data Inference"
   ]
  },
  {
   "cell_type": "code",
   "execution_count": 71,
   "metadata": {
    "colab": {
     "base_uri": "https://localhost:8080/",
     "height": 741
    },
    "id": "j3h0hvlKobRt",
    "outputId": "1614e975-5fcd-41af-f1f0-1e77f0bf9720"
   },
   "outputs": [
    {
     "data": {
      "text/html": [
       "\n",
       "  <div id=\"df-57b17a51-9aa6-4bac-b7bf-498cbf9a4947\">\n",
       "    <div class=\"colab-df-container\">\n",
       "      <div>\n",
       "<style scoped>\n",
       "    .dataframe tbody tr th:only-of-type {\n",
       "        vertical-align: middle;\n",
       "    }\n",
       "\n",
       "    .dataframe tbody tr th {\n",
       "        vertical-align: top;\n",
       "    }\n",
       "\n",
       "    .dataframe thead th {\n",
       "        text-align: right;\n",
       "    }\n",
       "</style>\n",
       "<table border=\"1\" class=\"dataframe\">\n",
       "  <thead>\n",
       "    <tr style=\"text-align: right;\">\n",
       "      <th></th>\n",
       "      <th>limit_balance</th>\n",
       "      <th>sex</th>\n",
       "      <th>education_level</th>\n",
       "      <th>marital_status</th>\n",
       "      <th>age</th>\n",
       "      <th>pay_0</th>\n",
       "      <th>pay_2</th>\n",
       "      <th>pay_3</th>\n",
       "      <th>pay_4</th>\n",
       "      <th>pay_5</th>\n",
       "      <th>pay_6</th>\n",
       "      <th>bill_amt_1</th>\n",
       "      <th>bill_amt_2</th>\n",
       "      <th>bill_amt_3</th>\n",
       "      <th>bill_amt_4</th>\n",
       "      <th>bill_amt_5</th>\n",
       "      <th>bill_amt_6</th>\n",
       "      <th>pay_amt_1</th>\n",
       "      <th>pay_amt_2</th>\n",
       "      <th>pay_amt_3</th>\n",
       "      <th>pay_amt_4</th>\n",
       "      <th>pay_amt_5</th>\n",
       "      <th>pay_amt_6</th>\n",
       "      <th>default_payment_next_month</th>\n",
       "    </tr>\n",
       "  </thead>\n",
       "  <tbody>\n",
       "    <tr>\n",
       "      <th>0</th>\n",
       "      <td>20000.0</td>\n",
       "      <td>1</td>\n",
       "      <td>2</td>\n",
       "      <td>2</td>\n",
       "      <td>25.0</td>\n",
       "      <td>0.0</td>\n",
       "      <td>0.0</td>\n",
       "      <td>0.0</td>\n",
       "      <td>0.0</td>\n",
       "      <td>0</td>\n",
       "      <td>0</td>\n",
       "      <td>13429.0</td>\n",
       "      <td>14502.0</td>\n",
       "      <td>15564.0</td>\n",
       "      <td>16600.0</td>\n",
       "      <td>17025.0</td>\n",
       "      <td>17381.0</td>\n",
       "      <td>1300.0</td>\n",
       "      <td>1300.0</td>\n",
       "      <td>1300.0</td>\n",
       "      <td>700.0</td>\n",
       "      <td>630.0</td>\n",
       "      <td>650.0</td>\n",
       "      <td>0</td>\n",
       "    </tr>\n",
       "    <tr>\n",
       "      <th>1</th>\n",
       "      <td>30000.0</td>\n",
       "      <td>1</td>\n",
       "      <td>1</td>\n",
       "      <td>2</td>\n",
       "      <td>35.0</td>\n",
       "      <td>2.0</td>\n",
       "      <td>2.0</td>\n",
       "      <td>2.0</td>\n",
       "      <td>2.0</td>\n",
       "      <td>2</td>\n",
       "      <td>2</td>\n",
       "      <td>14489.0</td>\n",
       "      <td>15460.0</td>\n",
       "      <td>15514.0</td>\n",
       "      <td>14968.0</td>\n",
       "      <td>16026.0</td>\n",
       "      <td>15619.0</td>\n",
       "      <td>1500.0</td>\n",
       "      <td>600.0</td>\n",
       "      <td>0.0</td>\n",
       "      <td>1300.0</td>\n",
       "      <td>0.0</td>\n",
       "      <td>1300.0</td>\n",
       "      <td>0</td>\n",
       "    </tr>\n",
       "    <tr>\n",
       "      <th>2</th>\n",
       "      <td>240000.0</td>\n",
       "      <td>1</td>\n",
       "      <td>2</td>\n",
       "      <td>1</td>\n",
       "      <td>36.0</td>\n",
       "      <td>0.0</td>\n",
       "      <td>0.0</td>\n",
       "      <td>0.0</td>\n",
       "      <td>0.0</td>\n",
       "      <td>0</td>\n",
       "      <td>0</td>\n",
       "      <td>239003.0</td>\n",
       "      <td>227962.0</td>\n",
       "      <td>231284.0</td>\n",
       "      <td>239410.0</td>\n",
       "      <td>184094.0</td>\n",
       "      <td>101776.0</td>\n",
       "      <td>9700.0</td>\n",
       "      <td>8500.0</td>\n",
       "      <td>12036.0</td>\n",
       "      <td>8300.0</td>\n",
       "      <td>5000.0</td>\n",
       "      <td>5000.0</td>\n",
       "      <td>0</td>\n",
       "    </tr>\n",
       "    <tr>\n",
       "      <th>3</th>\n",
       "      <td>210000.0</td>\n",
       "      <td>2</td>\n",
       "      <td>2</td>\n",
       "      <td>2</td>\n",
       "      <td>35.0</td>\n",
       "      <td>0.0</td>\n",
       "      <td>0.0</td>\n",
       "      <td>0.0</td>\n",
       "      <td>0.0</td>\n",
       "      <td>0</td>\n",
       "      <td>0</td>\n",
       "      <td>147812.0</td>\n",
       "      <td>135624.0</td>\n",
       "      <td>125469.0</td>\n",
       "      <td>103409.0</td>\n",
       "      <td>75498.0</td>\n",
       "      <td>72020.0</td>\n",
       "      <td>5000.0</td>\n",
       "      <td>7000.0</td>\n",
       "      <td>5000.0</td>\n",
       "      <td>4000.0</td>\n",
       "      <td>2447.0</td>\n",
       "      <td>3000.0</td>\n",
       "      <td>0</td>\n",
       "    </tr>\n",
       "    <tr>\n",
       "      <th>4</th>\n",
       "      <td>10000.0</td>\n",
       "      <td>1</td>\n",
       "      <td>1</td>\n",
       "      <td>2</td>\n",
       "      <td>25.0</td>\n",
       "      <td>0.0</td>\n",
       "      <td>0.0</td>\n",
       "      <td>0.0</td>\n",
       "      <td>0.0</td>\n",
       "      <td>0</td>\n",
       "      <td>0</td>\n",
       "      <td>5642.0</td>\n",
       "      <td>6652.0</td>\n",
       "      <td>7683.0</td>\n",
       "      <td>9040.0</td>\n",
       "      <td>9222.0</td>\n",
       "      <td>9580.0</td>\n",
       "      <td>1112.0</td>\n",
       "      <td>1143.0</td>\n",
       "      <td>1500.0</td>\n",
       "      <td>324.0</td>\n",
       "      <td>500.0</td>\n",
       "      <td>377.0</td>\n",
       "      <td>0</td>\n",
       "    </tr>\n",
       "    <tr>\n",
       "      <th>5</th>\n",
       "      <td>50000.0</td>\n",
       "      <td>2</td>\n",
       "      <td>3</td>\n",
       "      <td>2</td>\n",
       "      <td>22.0</td>\n",
       "      <td>0.0</td>\n",
       "      <td>0.0</td>\n",
       "      <td>0.0</td>\n",
       "      <td>0.0</td>\n",
       "      <td>0</td>\n",
       "      <td>0</td>\n",
       "      <td>36926.0</td>\n",
       "      <td>52845.0</td>\n",
       "      <td>52148.0</td>\n",
       "      <td>32718.0</td>\n",
       "      <td>32096.0</td>\n",
       "      <td>30563.0</td>\n",
       "      <td>20007.0</td>\n",
       "      <td>3014.0</td>\n",
       "      <td>1309.0</td>\n",
       "      <td>5009.0</td>\n",
       "      <td>2008.0</td>\n",
       "      <td>4622.0</td>\n",
       "      <td>0</td>\n",
       "    </tr>\n",
       "    <tr>\n",
       "      <th>6</th>\n",
       "      <td>10000.0</td>\n",
       "      <td>1</td>\n",
       "      <td>3</td>\n",
       "      <td>2</td>\n",
       "      <td>21.0</td>\n",
       "      <td>0.0</td>\n",
       "      <td>0.0</td>\n",
       "      <td>2.0</td>\n",
       "      <td>0.0</td>\n",
       "      <td>0</td>\n",
       "      <td>0</td>\n",
       "      <td>4797.0</td>\n",
       "      <td>6457.0</td>\n",
       "      <td>6154.0</td>\n",
       "      <td>6154.0</td>\n",
       "      <td>6280.0</td>\n",
       "      <td>0.0</td>\n",
       "      <td>2400.0</td>\n",
       "      <td>0.0</td>\n",
       "      <td>0.0</td>\n",
       "      <td>126.0</td>\n",
       "      <td>0.0</td>\n",
       "      <td>0.0</td>\n",
       "      <td>0</td>\n",
       "    </tr>\n",
       "    <tr>\n",
       "      <th>7</th>\n",
       "      <td>120000.0</td>\n",
       "      <td>2</td>\n",
       "      <td>3</td>\n",
       "      <td>2</td>\n",
       "      <td>50.0</td>\n",
       "      <td>0.0</td>\n",
       "      <td>-1.0</td>\n",
       "      <td>0.0</td>\n",
       "      <td>0.0</td>\n",
       "      <td>0</td>\n",
       "      <td>0</td>\n",
       "      <td>149540.0</td>\n",
       "      <td>118675.0</td>\n",
       "      <td>120047.0</td>\n",
       "      <td>100637.0</td>\n",
       "      <td>79613.0</td>\n",
       "      <td>79286.0</td>\n",
       "      <td>125000.0</td>\n",
       "      <td>4065.0</td>\n",
       "      <td>4000.0</td>\n",
       "      <td>3000.0</td>\n",
       "      <td>3000.0</td>\n",
       "      <td>3000.0</td>\n",
       "      <td>1</td>\n",
       "    </tr>\n",
       "    <tr>\n",
       "      <th>8</th>\n",
       "      <td>20000.0</td>\n",
       "      <td>2</td>\n",
       "      <td>2</td>\n",
       "      <td>1</td>\n",
       "      <td>42.0</td>\n",
       "      <td>1.0</td>\n",
       "      <td>2.0</td>\n",
       "      <td>2.0</td>\n",
       "      <td>2.0</td>\n",
       "      <td>0</td>\n",
       "      <td>0</td>\n",
       "      <td>8395.0</td>\n",
       "      <td>8114.0</td>\n",
       "      <td>10293.0</td>\n",
       "      <td>9979.0</td>\n",
       "      <td>10329.0</td>\n",
       "      <td>10391.0</td>\n",
       "      <td>0.0</td>\n",
       "      <td>2479.0</td>\n",
       "      <td>0.0</td>\n",
       "      <td>515.0</td>\n",
       "      <td>377.0</td>\n",
       "      <td>617.0</td>\n",
       "      <td>0</td>\n",
       "    </tr>\n",
       "    <tr>\n",
       "      <th>9</th>\n",
       "      <td>140000.0</td>\n",
       "      <td>2</td>\n",
       "      <td>1</td>\n",
       "      <td>2</td>\n",
       "      <td>34.0</td>\n",
       "      <td>-1.0</td>\n",
       "      <td>-1.0</td>\n",
       "      <td>-2.0</td>\n",
       "      <td>-2.0</td>\n",
       "      <td>-1</td>\n",
       "      <td>0</td>\n",
       "      <td>1500.0</td>\n",
       "      <td>0.0</td>\n",
       "      <td>0.0</td>\n",
       "      <td>0.0</td>\n",
       "      <td>6400.0</td>\n",
       "      <td>11400.0</td>\n",
       "      <td>0.0</td>\n",
       "      <td>0.0</td>\n",
       "      <td>0.0</td>\n",
       "      <td>6400.0</td>\n",
       "      <td>5000.0</td>\n",
       "      <td>1000.0</td>\n",
       "      <td>0</td>\n",
       "    </tr>\n",
       "    <tr>\n",
       "      <th>10</th>\n",
       "      <td>240000.0</td>\n",
       "      <td>2</td>\n",
       "      <td>3</td>\n",
       "      <td>1</td>\n",
       "      <td>55.0</td>\n",
       "      <td>0.0</td>\n",
       "      <td>0.0</td>\n",
       "      <td>0.0</td>\n",
       "      <td>0.0</td>\n",
       "      <td>0</td>\n",
       "      <td>0</td>\n",
       "      <td>216170.0</td>\n",
       "      <td>218809.0</td>\n",
       "      <td>226013.0</td>\n",
       "      <td>229014.0</td>\n",
       "      <td>178852.0</td>\n",
       "      <td>182547.0</td>\n",
       "      <td>8000.0</td>\n",
       "      <td>11000.0</td>\n",
       "      <td>9000.0</td>\n",
       "      <td>7000.0</td>\n",
       "      <td>7000.0</td>\n",
       "      <td>7200.0</td>\n",
       "      <td>0</td>\n",
       "    </tr>\n",
       "    <tr>\n",
       "      <th>11</th>\n",
       "      <td>210000.0</td>\n",
       "      <td>2</td>\n",
       "      <td>2</td>\n",
       "      <td>1</td>\n",
       "      <td>50.0</td>\n",
       "      <td>-1.0</td>\n",
       "      <td>-1.0</td>\n",
       "      <td>-1.0</td>\n",
       "      <td>-1.0</td>\n",
       "      <td>-1</td>\n",
       "      <td>-1</td>\n",
       "      <td>390.0</td>\n",
       "      <td>390.0</td>\n",
       "      <td>390.0</td>\n",
       "      <td>390.0</td>\n",
       "      <td>390.0</td>\n",
       "      <td>150.0</td>\n",
       "      <td>390.0</td>\n",
       "      <td>390.0</td>\n",
       "      <td>390.0</td>\n",
       "      <td>390.0</td>\n",
       "      <td>150.0</td>\n",
       "      <td>780.0</td>\n",
       "      <td>1</td>\n",
       "    </tr>\n",
       "    <tr>\n",
       "      <th>12</th>\n",
       "      <td>120000.0</td>\n",
       "      <td>1</td>\n",
       "      <td>2</td>\n",
       "      <td>1</td>\n",
       "      <td>40.0</td>\n",
       "      <td>0.0</td>\n",
       "      <td>0.0</td>\n",
       "      <td>0.0</td>\n",
       "      <td>0.0</td>\n",
       "      <td>0</td>\n",
       "      <td>0</td>\n",
       "      <td>94166.0</td>\n",
       "      <td>73086.0</td>\n",
       "      <td>62511.0</td>\n",
       "      <td>36996.0</td>\n",
       "      <td>30311.0</td>\n",
       "      <td>26414.0</td>\n",
       "      <td>3500.0</td>\n",
       "      <td>2347.0</td>\n",
       "      <td>5000.0</td>\n",
       "      <td>3000.0</td>\n",
       "      <td>2000.0</td>\n",
       "      <td>10000.0</td>\n",
       "      <td>0</td>\n",
       "    </tr>\n",
       "    <tr>\n",
       "      <th>13</th>\n",
       "      <td>130000.0</td>\n",
       "      <td>2</td>\n",
       "      <td>1</td>\n",
       "      <td>2</td>\n",
       "      <td>23.0</td>\n",
       "      <td>0.0</td>\n",
       "      <td>0.0</td>\n",
       "      <td>0.0</td>\n",
       "      <td>0.0</td>\n",
       "      <td>0</td>\n",
       "      <td>0</td>\n",
       "      <td>102087.0</td>\n",
       "      <td>101079.0</td>\n",
       "      <td>93977.0</td>\n",
       "      <td>94427.0</td>\n",
       "      <td>89041.0</td>\n",
       "      <td>89833.0</td>\n",
       "      <td>4500.0</td>\n",
       "      <td>4363.0</td>\n",
       "      <td>3300.0</td>\n",
       "      <td>3178.0</td>\n",
       "      <td>3178.0</td>\n",
       "      <td>3424.0</td>\n",
       "      <td>0</td>\n",
       "    </tr>\n",
       "    <tr>\n",
       "      <th>14</th>\n",
       "      <td>20000.0</td>\n",
       "      <td>1</td>\n",
       "      <td>2</td>\n",
       "      <td>2</td>\n",
       "      <td>36.0</td>\n",
       "      <td>2.0</td>\n",
       "      <td>2.0</td>\n",
       "      <td>2.0</td>\n",
       "      <td>0.0</td>\n",
       "      <td>0</td>\n",
       "      <td>0</td>\n",
       "      <td>18458.0</td>\n",
       "      <td>17334.0</td>\n",
       "      <td>16768.0</td>\n",
       "      <td>17539.0</td>\n",
       "      <td>18775.0</td>\n",
       "      <td>18586.0</td>\n",
       "      <td>1450.0</td>\n",
       "      <td>0.0</td>\n",
       "      <td>1134.0</td>\n",
       "      <td>1370.0</td>\n",
       "      <td>1000.0</td>\n",
       "      <td>424.0</td>\n",
       "      <td>0</td>\n",
       "    </tr>\n",
       "    <tr>\n",
       "      <th>15</th>\n",
       "      <td>50000.0</td>\n",
       "      <td>1</td>\n",
       "      <td>3</td>\n",
       "      <td>1</td>\n",
       "      <td>41.0</td>\n",
       "      <td>2.0</td>\n",
       "      <td>2.0</td>\n",
       "      <td>2.0</td>\n",
       "      <td>0.0</td>\n",
       "      <td>0</td>\n",
       "      <td>0</td>\n",
       "      <td>26184.0</td>\n",
       "      <td>29261.0</td>\n",
       "      <td>28444.0</td>\n",
       "      <td>28878.0</td>\n",
       "      <td>27655.0</td>\n",
       "      <td>24480.0</td>\n",
       "      <td>3500.0</td>\n",
       "      <td>0.0</td>\n",
       "      <td>1100.0</td>\n",
       "      <td>1100.0</td>\n",
       "      <td>2000.0</td>\n",
       "      <td>1000.0</td>\n",
       "      <td>0</td>\n",
       "    </tr>\n",
       "    <tr>\n",
       "      <th>16</th>\n",
       "      <td>70000.0</td>\n",
       "      <td>1</td>\n",
       "      <td>2</td>\n",
       "      <td>2</td>\n",
       "      <td>30.0</td>\n",
       "      <td>1.0</td>\n",
       "      <td>-1.0</td>\n",
       "      <td>0.0</td>\n",
       "      <td>0.0</td>\n",
       "      <td>0</td>\n",
       "      <td>0</td>\n",
       "      <td>0.0</td>\n",
       "      <td>11609.0</td>\n",
       "      <td>13411.0</td>\n",
       "      <td>14470.0</td>\n",
       "      <td>18070.0</td>\n",
       "      <td>15000.0</td>\n",
       "      <td>11609.0</td>\n",
       "      <td>2000.0</td>\n",
       "      <td>1400.0</td>\n",
       "      <td>5000.0</td>\n",
       "      <td>300.0</td>\n",
       "      <td>4220.0</td>\n",
       "      <td>0</td>\n",
       "    </tr>\n",
       "    <tr>\n",
       "      <th>17</th>\n",
       "      <td>170000.0</td>\n",
       "      <td>1</td>\n",
       "      <td>1</td>\n",
       "      <td>2</td>\n",
       "      <td>27.0</td>\n",
       "      <td>0.0</td>\n",
       "      <td>0.0</td>\n",
       "      <td>0.0</td>\n",
       "      <td>0.0</td>\n",
       "      <td>0</td>\n",
       "      <td>0</td>\n",
       "      <td>127902.0</td>\n",
       "      <td>131631.0</td>\n",
       "      <td>133090.0</td>\n",
       "      <td>130937.0</td>\n",
       "      <td>134043.0</td>\n",
       "      <td>137023.0</td>\n",
       "      <td>5631.0</td>\n",
       "      <td>5090.0</td>\n",
       "      <td>4937.0</td>\n",
       "      <td>5043.0</td>\n",
       "      <td>5023.0</td>\n",
       "      <td>11939.0</td>\n",
       "      <td>0</td>\n",
       "    </tr>\n",
       "    <tr>\n",
       "      <th>18</th>\n",
       "      <td>30000.0</td>\n",
       "      <td>2</td>\n",
       "      <td>3</td>\n",
       "      <td>1</td>\n",
       "      <td>47.0</td>\n",
       "      <td>-2.0</td>\n",
       "      <td>-2.0</td>\n",
       "      <td>-2.0</td>\n",
       "      <td>-2.0</td>\n",
       "      <td>-2</td>\n",
       "      <td>-2</td>\n",
       "      <td>6911.0</td>\n",
       "      <td>10507.0</td>\n",
       "      <td>4785.0</td>\n",
       "      <td>4567.0</td>\n",
       "      <td>11762.0</td>\n",
       "      <td>4209.0</td>\n",
       "      <td>10523.0</td>\n",
       "      <td>4790.0</td>\n",
       "      <td>4736.0</td>\n",
       "      <td>55762.0</td>\n",
       "      <td>4209.0</td>\n",
       "      <td>22815.0</td>\n",
       "      <td>0</td>\n",
       "    </tr>\n",
       "    <tr>\n",
       "      <th>19</th>\n",
       "      <td>160000.0</td>\n",
       "      <td>2</td>\n",
       "      <td>3</td>\n",
       "      <td>1</td>\n",
       "      <td>35.0</td>\n",
       "      <td>-1.0</td>\n",
       "      <td>-1.0</td>\n",
       "      <td>-1.0</td>\n",
       "      <td>-1.0</td>\n",
       "      <td>0</td>\n",
       "      <td>0</td>\n",
       "      <td>335.0</td>\n",
       "      <td>0.0</td>\n",
       "      <td>312.0</td>\n",
       "      <td>7736.0</td>\n",
       "      <td>7278.0</td>\n",
       "      <td>7278.0</td>\n",
       "      <td>0.0</td>\n",
       "      <td>312.0</td>\n",
       "      <td>7736.0</td>\n",
       "      <td>0.0</td>\n",
       "      <td>0.0</td>\n",
       "      <td>1470.0</td>\n",
       "      <td>0</td>\n",
       "    </tr>\n",
       "  </tbody>\n",
       "</table>\n",
       "</div>\n",
       "      <button class=\"colab-df-convert\" onclick=\"convertToInteractive('df-57b17a51-9aa6-4bac-b7bf-498cbf9a4947')\"\n",
       "              title=\"Convert this dataframe to an interactive table.\"\n",
       "              style=\"display:none;\">\n",
       "        \n",
       "  <svg xmlns=\"http://www.w3.org/2000/svg\" height=\"24px\"viewBox=\"0 0 24 24\"\n",
       "       width=\"24px\">\n",
       "    <path d=\"M0 0h24v24H0V0z\" fill=\"none\"/>\n",
       "    <path d=\"M18.56 5.44l.94 2.06.94-2.06 2.06-.94-2.06-.94-.94-2.06-.94 2.06-2.06.94zm-11 1L8.5 8.5l.94-2.06 2.06-.94-2.06-.94L8.5 2.5l-.94 2.06-2.06.94zm10 10l.94 2.06.94-2.06 2.06-.94-2.06-.94-.94-2.06-.94 2.06-2.06.94z\"/><path d=\"M17.41 7.96l-1.37-1.37c-.4-.4-.92-.59-1.43-.59-.52 0-1.04.2-1.43.59L10.3 9.45l-7.72 7.72c-.78.78-.78 2.05 0 2.83L4 21.41c.39.39.9.59 1.41.59.51 0 1.02-.2 1.41-.59l7.78-7.78 2.81-2.81c.8-.78.8-2.07 0-2.86zM5.41 20L4 18.59l7.72-7.72 1.47 1.35L5.41 20z\"/>\n",
       "  </svg>\n",
       "      </button>\n",
       "      \n",
       "  <style>\n",
       "    .colab-df-container {\n",
       "      display:flex;\n",
       "      flex-wrap:wrap;\n",
       "      gap: 12px;\n",
       "    }\n",
       "\n",
       "    .colab-df-convert {\n",
       "      background-color: #E8F0FE;\n",
       "      border: none;\n",
       "      border-radius: 50%;\n",
       "      cursor: pointer;\n",
       "      display: none;\n",
       "      fill: #1967D2;\n",
       "      height: 32px;\n",
       "      padding: 0 0 0 0;\n",
       "      width: 32px;\n",
       "    }\n",
       "\n",
       "    .colab-df-convert:hover {\n",
       "      background-color: #E2EBFA;\n",
       "      box-shadow: 0px 1px 2px rgba(60, 64, 67, 0.3), 0px 1px 3px 1px rgba(60, 64, 67, 0.15);\n",
       "      fill: #174EA6;\n",
       "    }\n",
       "\n",
       "    [theme=dark] .colab-df-convert {\n",
       "      background-color: #3B4455;\n",
       "      fill: #D2E3FC;\n",
       "    }\n",
       "\n",
       "    [theme=dark] .colab-df-convert:hover {\n",
       "      background-color: #434B5C;\n",
       "      box-shadow: 0px 1px 3px 1px rgba(0, 0, 0, 0.15);\n",
       "      filter: drop-shadow(0px 1px 2px rgba(0, 0, 0, 0.3));\n",
       "      fill: #FFFFFF;\n",
       "    }\n",
       "  </style>\n",
       "\n",
       "      <script>\n",
       "        const buttonEl =\n",
       "          document.querySelector('#df-57b17a51-9aa6-4bac-b7bf-498cbf9a4947 button.colab-df-convert');\n",
       "        buttonEl.style.display =\n",
       "          google.colab.kernel.accessAllowed ? 'block' : 'none';\n",
       "\n",
       "        async function convertToInteractive(key) {\n",
       "          const element = document.querySelector('#df-57b17a51-9aa6-4bac-b7bf-498cbf9a4947');\n",
       "          const dataTable =\n",
       "            await google.colab.kernel.invokeFunction('convertToInteractive',\n",
       "                                                     [key], {});\n",
       "          if (!dataTable) return;\n",
       "\n",
       "          const docLinkHtml = 'Like what you see? Visit the ' +\n",
       "            '<a target=\"_blank\" href=https://colab.research.google.com/notebooks/data_table.ipynb>data table notebook</a>'\n",
       "            + ' to learn more about interactive tables.';\n",
       "          element.innerHTML = '';\n",
       "          dataTable['output_type'] = 'display_data';\n",
       "          await google.colab.output.renderOutput(dataTable, element);\n",
       "          const docLink = document.createElement('div');\n",
       "          docLink.innerHTML = docLinkHtml;\n",
       "          element.appendChild(docLink);\n",
       "        }\n",
       "      </script>\n",
       "    </div>\n",
       "  </div>\n",
       "  "
      ],
      "text/plain": [
       "    limit_balance  sex  education_level  marital_status   age  pay_0  pay_2  \\\n",
       "0         20000.0    1                2               2  25.0    0.0    0.0   \n",
       "1         30000.0    1                1               2  35.0    2.0    2.0   \n",
       "2        240000.0    1                2               1  36.0    0.0    0.0   \n",
       "3        210000.0    2                2               2  35.0    0.0    0.0   \n",
       "4         10000.0    1                1               2  25.0    0.0    0.0   \n",
       "5         50000.0    2                3               2  22.0    0.0    0.0   \n",
       "6         10000.0    1                3               2  21.0    0.0    0.0   \n",
       "7        120000.0    2                3               2  50.0    0.0   -1.0   \n",
       "8         20000.0    2                2               1  42.0    1.0    2.0   \n",
       "9        140000.0    2                1               2  34.0   -1.0   -1.0   \n",
       "10       240000.0    2                3               1  55.0    0.0    0.0   \n",
       "11       210000.0    2                2               1  50.0   -1.0   -1.0   \n",
       "12       120000.0    1                2               1  40.0    0.0    0.0   \n",
       "13       130000.0    2                1               2  23.0    0.0    0.0   \n",
       "14        20000.0    1                2               2  36.0    2.0    2.0   \n",
       "15        50000.0    1                3               1  41.0    2.0    2.0   \n",
       "16        70000.0    1                2               2  30.0    1.0   -1.0   \n",
       "17       170000.0    1                1               2  27.0    0.0    0.0   \n",
       "18        30000.0    2                3               1  47.0   -2.0   -2.0   \n",
       "19       160000.0    2                3               1  35.0   -1.0   -1.0   \n",
       "\n",
       "    pay_3  pay_4  pay_5  pay_6  bill_amt_1  bill_amt_2  bill_amt_3  \\\n",
       "0     0.0    0.0      0      0     13429.0     14502.0     15564.0   \n",
       "1     2.0    2.0      2      2     14489.0     15460.0     15514.0   \n",
       "2     0.0    0.0      0      0    239003.0    227962.0    231284.0   \n",
       "3     0.0    0.0      0      0    147812.0    135624.0    125469.0   \n",
       "4     0.0    0.0      0      0      5642.0      6652.0      7683.0   \n",
       "5     0.0    0.0      0      0     36926.0     52845.0     52148.0   \n",
       "6     2.0    0.0      0      0      4797.0      6457.0      6154.0   \n",
       "7     0.0    0.0      0      0    149540.0    118675.0    120047.0   \n",
       "8     2.0    2.0      0      0      8395.0      8114.0     10293.0   \n",
       "9    -2.0   -2.0     -1      0      1500.0         0.0         0.0   \n",
       "10    0.0    0.0      0      0    216170.0    218809.0    226013.0   \n",
       "11   -1.0   -1.0     -1     -1       390.0       390.0       390.0   \n",
       "12    0.0    0.0      0      0     94166.0     73086.0     62511.0   \n",
       "13    0.0    0.0      0      0    102087.0    101079.0     93977.0   \n",
       "14    2.0    0.0      0      0     18458.0     17334.0     16768.0   \n",
       "15    2.0    0.0      0      0     26184.0     29261.0     28444.0   \n",
       "16    0.0    0.0      0      0         0.0     11609.0     13411.0   \n",
       "17    0.0    0.0      0      0    127902.0    131631.0    133090.0   \n",
       "18   -2.0   -2.0     -2     -2      6911.0     10507.0      4785.0   \n",
       "19   -1.0   -1.0      0      0       335.0         0.0       312.0   \n",
       "\n",
       "    bill_amt_4  bill_amt_5  bill_amt_6  pay_amt_1  pay_amt_2  pay_amt_3  \\\n",
       "0      16600.0     17025.0     17381.0     1300.0     1300.0     1300.0   \n",
       "1      14968.0     16026.0     15619.0     1500.0      600.0        0.0   \n",
       "2     239410.0    184094.0    101776.0     9700.0     8500.0    12036.0   \n",
       "3     103409.0     75498.0     72020.0     5000.0     7000.0     5000.0   \n",
       "4       9040.0      9222.0      9580.0     1112.0     1143.0     1500.0   \n",
       "5      32718.0     32096.0     30563.0    20007.0     3014.0     1309.0   \n",
       "6       6154.0      6280.0         0.0     2400.0        0.0        0.0   \n",
       "7     100637.0     79613.0     79286.0   125000.0     4065.0     4000.0   \n",
       "8       9979.0     10329.0     10391.0        0.0     2479.0        0.0   \n",
       "9          0.0      6400.0     11400.0        0.0        0.0        0.0   \n",
       "10    229014.0    178852.0    182547.0     8000.0    11000.0     9000.0   \n",
       "11       390.0       390.0       150.0      390.0      390.0      390.0   \n",
       "12     36996.0     30311.0     26414.0     3500.0     2347.0     5000.0   \n",
       "13     94427.0     89041.0     89833.0     4500.0     4363.0     3300.0   \n",
       "14     17539.0     18775.0     18586.0     1450.0        0.0     1134.0   \n",
       "15     28878.0     27655.0     24480.0     3500.0        0.0     1100.0   \n",
       "16     14470.0     18070.0     15000.0    11609.0     2000.0     1400.0   \n",
       "17    130937.0    134043.0    137023.0     5631.0     5090.0     4937.0   \n",
       "18      4567.0     11762.0      4209.0    10523.0     4790.0     4736.0   \n",
       "19      7736.0      7278.0      7278.0        0.0      312.0     7736.0   \n",
       "\n",
       "    pay_amt_4  pay_amt_5  pay_amt_6  default_payment_next_month  \n",
       "0       700.0      630.0      650.0                           0  \n",
       "1      1300.0        0.0     1300.0                           0  \n",
       "2      8300.0     5000.0     5000.0                           0  \n",
       "3      4000.0     2447.0     3000.0                           0  \n",
       "4       324.0      500.0      377.0                           0  \n",
       "5      5009.0     2008.0     4622.0                           0  \n",
       "6       126.0        0.0        0.0                           0  \n",
       "7      3000.0     3000.0     3000.0                           1  \n",
       "8       515.0      377.0      617.0                           0  \n",
       "9      6400.0     5000.0     1000.0                           0  \n",
       "10     7000.0     7000.0     7200.0                           0  \n",
       "11      390.0      150.0      780.0                           1  \n",
       "12     3000.0     2000.0    10000.0                           0  \n",
       "13     3178.0     3178.0     3424.0                           0  \n",
       "14     1370.0     1000.0      424.0                           0  \n",
       "15     1100.0     2000.0     1000.0                           0  \n",
       "16     5000.0      300.0     4220.0                           0  \n",
       "17     5043.0     5023.0    11939.0                           0  \n",
       "18    55762.0     4209.0    22815.0                           0  \n",
       "19        0.0        0.0     1470.0                           0  "
      ]
     },
     "execution_count": 71,
     "metadata": {},
     "output_type": "execute_result"
    }
   ],
   "source": [
    "df_inf"
   ]
  },
  {
   "cell_type": "code",
   "execution_count": 72,
   "metadata": {
    "id": "yC92vKAJvW6c"
   },
   "outputs": [],
   "source": [
    "data_inf_num = df_inf[num_columns]\n",
    "data_inf_cat = df_inf[cat_columns]"
   ]
  },
  {
   "cell_type": "code",
   "execution_count": 73,
   "metadata": {
    "colab": {
     "base_uri": "https://localhost:8080/"
    },
    "id": "E5GqYcyTwTdn",
    "outputId": "ad92d3a1-a11e-42f6-9e6b-1e820140bdb7"
   },
   "outputs": [
    {
     "data": {
      "text/plain": [
       "array([[-1.07502674],\n",
       "       [-0.99151931],\n",
       "       [ 0.76213675],\n",
       "       [ 0.51161445],\n",
       "       [-1.15853417],\n",
       "       [-0.82450445],\n",
       "       [-1.15853417],\n",
       "       [-0.23995243],\n",
       "       [-1.07502674],\n",
       "       [-0.07293757],\n",
       "       [ 0.76213675],\n",
       "       [ 0.51161445],\n",
       "       [-0.23995243],\n",
       "       [-0.156445  ],\n",
       "       [-1.07502674],\n",
       "       [-0.82450445],\n",
       "       [-0.65748959],\n",
       "       [ 0.17758473],\n",
       "       [-0.99151931],\n",
       "       [ 0.0940773 ]])"
      ]
     },
     "execution_count": 73,
     "metadata": {},
     "output_type": "execute_result"
    }
   ],
   "source": [
    "data_inf_num_scaled = scaler.transform(data_inf_num)\n",
    "data_inf_num_scaled"
   ]
  },
  {
   "cell_type": "code",
   "execution_count": 74,
   "metadata": {
    "colab": {
     "base_uri": "https://localhost:8080/"
    },
    "id": "j8aJuz4ywjBo",
    "outputId": "00671149-f1fa-4fe1-a47a-c0cb1c9ee193"
   },
   "outputs": [
    {
     "data": {
      "text/plain": [
       "array([[-1.07502674,  0.        ,  0.        ,  0.        ,  0.        ,\n",
       "         0.        ,  0.        ],\n",
       "       [-0.99151931,  2.        ,  2.        ,  2.        ,  2.        ,\n",
       "         2.        ,  2.        ],\n",
       "       [ 0.76213675,  0.        ,  0.        ,  0.        ,  0.        ,\n",
       "         0.        ,  0.        ],\n",
       "       [ 0.51161445,  0.        ,  0.        ,  0.        ,  0.        ,\n",
       "         0.        ,  0.        ],\n",
       "       [-1.15853417,  0.        ,  0.        ,  0.        ,  0.        ,\n",
       "         0.        ,  0.        ],\n",
       "       [-0.82450445,  0.        ,  0.        ,  0.        ,  0.        ,\n",
       "         0.        ,  0.        ],\n",
       "       [-1.15853417,  0.        ,  0.        ,  2.        ,  0.        ,\n",
       "         0.        ,  0.        ],\n",
       "       [-0.23995243,  0.        , -1.        ,  0.        ,  0.        ,\n",
       "         0.        ,  0.        ],\n",
       "       [-1.07502674,  1.        ,  2.        ,  2.        ,  2.        ,\n",
       "         0.        ,  0.        ],\n",
       "       [-0.07293757, -1.        , -1.        , -2.        , -2.        ,\n",
       "        -1.        ,  0.        ],\n",
       "       [ 0.76213675,  0.        ,  0.        ,  0.        ,  0.        ,\n",
       "         0.        ,  0.        ],\n",
       "       [ 0.51161445, -1.        , -1.        , -1.        , -1.        ,\n",
       "        -1.        , -1.        ],\n",
       "       [-0.23995243,  0.        ,  0.        ,  0.        ,  0.        ,\n",
       "         0.        ,  0.        ],\n",
       "       [-0.156445  ,  0.        ,  0.        ,  0.        ,  0.        ,\n",
       "         0.        ,  0.        ],\n",
       "       [-1.07502674,  2.        ,  2.        ,  2.        ,  0.        ,\n",
       "         0.        ,  0.        ],\n",
       "       [-0.82450445,  2.        ,  2.        ,  2.        ,  0.        ,\n",
       "         0.        ,  0.        ],\n",
       "       [-0.65748959,  1.        , -1.        ,  0.        ,  0.        ,\n",
       "         0.        ,  0.        ],\n",
       "       [ 0.17758473,  0.        ,  0.        ,  0.        ,  0.        ,\n",
       "         0.        ,  0.        ],\n",
       "       [-0.99151931, -2.        , -2.        , -2.        , -2.        ,\n",
       "        -2.        , -2.        ],\n",
       "       [ 0.0940773 , -1.        , -1.        , -1.        , -1.        ,\n",
       "         0.        ,  0.        ]])"
      ]
     },
     "execution_count": 74,
     "metadata": {},
     "output_type": "execute_result"
    }
   ],
   "source": [
    "# menggabungkan kolom numerikal yang sudah di-scaled dan kolom kategorikal yang sudah di-encoded\n",
    "\n",
    "data_inf_final = np.concatenate([data_inf_num_scaled, data_inf_cat], axis=1)\n",
    "data_inf_final"
   ]
  },
  {
   "cell_type": "code",
   "execution_count": 75,
   "metadata": {
    "colab": {
     "base_uri": "https://localhost:8080/",
     "height": 677
    },
    "id": "Nfmc2Ktgwt0y",
    "outputId": "50cfbc2d-7286-4f66-8e2c-a3526c54f9e3"
   },
   "outputs": [
    {
     "data": {
      "text/html": [
       "\n",
       "  <div id=\"df-dab8e6f2-ef18-48dc-aca8-0b7fcb92a955\">\n",
       "    <div class=\"colab-df-container\">\n",
       "      <div>\n",
       "<style scoped>\n",
       "    .dataframe tbody tr th:only-of-type {\n",
       "        vertical-align: middle;\n",
       "    }\n",
       "\n",
       "    .dataframe tbody tr th {\n",
       "        vertical-align: top;\n",
       "    }\n",
       "\n",
       "    .dataframe thead th {\n",
       "        text-align: right;\n",
       "    }\n",
       "</style>\n",
       "<table border=\"1\" class=\"dataframe\">\n",
       "  <thead>\n",
       "    <tr style=\"text-align: right;\">\n",
       "      <th></th>\n",
       "      <th>Predict_Default_PaymentNM</th>\n",
       "    </tr>\n",
       "  </thead>\n",
       "  <tbody>\n",
       "    <tr>\n",
       "      <th>0</th>\n",
       "      <td>1</td>\n",
       "    </tr>\n",
       "    <tr>\n",
       "      <th>1</th>\n",
       "      <td>1</td>\n",
       "    </tr>\n",
       "    <tr>\n",
       "      <th>2</th>\n",
       "      <td>0</td>\n",
       "    </tr>\n",
       "    <tr>\n",
       "      <th>3</th>\n",
       "      <td>0</td>\n",
       "    </tr>\n",
       "    <tr>\n",
       "      <th>4</th>\n",
       "      <td>1</td>\n",
       "    </tr>\n",
       "    <tr>\n",
       "      <th>5</th>\n",
       "      <td>0</td>\n",
       "    </tr>\n",
       "    <tr>\n",
       "      <th>6</th>\n",
       "      <td>1</td>\n",
       "    </tr>\n",
       "    <tr>\n",
       "      <th>7</th>\n",
       "      <td>0</td>\n",
       "    </tr>\n",
       "    <tr>\n",
       "      <th>8</th>\n",
       "      <td>1</td>\n",
       "    </tr>\n",
       "    <tr>\n",
       "      <th>9</th>\n",
       "      <td>0</td>\n",
       "    </tr>\n",
       "    <tr>\n",
       "      <th>10</th>\n",
       "      <td>0</td>\n",
       "    </tr>\n",
       "    <tr>\n",
       "      <th>11</th>\n",
       "      <td>0</td>\n",
       "    </tr>\n",
       "    <tr>\n",
       "      <th>12</th>\n",
       "      <td>0</td>\n",
       "    </tr>\n",
       "    <tr>\n",
       "      <th>13</th>\n",
       "      <td>0</td>\n",
       "    </tr>\n",
       "    <tr>\n",
       "      <th>14</th>\n",
       "      <td>1</td>\n",
       "    </tr>\n",
       "    <tr>\n",
       "      <th>15</th>\n",
       "      <td>1</td>\n",
       "    </tr>\n",
       "    <tr>\n",
       "      <th>16</th>\n",
       "      <td>0</td>\n",
       "    </tr>\n",
       "    <tr>\n",
       "      <th>17</th>\n",
       "      <td>0</td>\n",
       "    </tr>\n",
       "    <tr>\n",
       "      <th>18</th>\n",
       "      <td>0</td>\n",
       "    </tr>\n",
       "    <tr>\n",
       "      <th>19</th>\n",
       "      <td>0</td>\n",
       "    </tr>\n",
       "  </tbody>\n",
       "</table>\n",
       "</div>\n",
       "      <button class=\"colab-df-convert\" onclick=\"convertToInteractive('df-dab8e6f2-ef18-48dc-aca8-0b7fcb92a955')\"\n",
       "              title=\"Convert this dataframe to an interactive table.\"\n",
       "              style=\"display:none;\">\n",
       "        \n",
       "  <svg xmlns=\"http://www.w3.org/2000/svg\" height=\"24px\"viewBox=\"0 0 24 24\"\n",
       "       width=\"24px\">\n",
       "    <path d=\"M0 0h24v24H0V0z\" fill=\"none\"/>\n",
       "    <path d=\"M18.56 5.44l.94 2.06.94-2.06 2.06-.94-2.06-.94-.94-2.06-.94 2.06-2.06.94zm-11 1L8.5 8.5l.94-2.06 2.06-.94-2.06-.94L8.5 2.5l-.94 2.06-2.06.94zm10 10l.94 2.06.94-2.06 2.06-.94-2.06-.94-.94-2.06-.94 2.06-2.06.94z\"/><path d=\"M17.41 7.96l-1.37-1.37c-.4-.4-.92-.59-1.43-.59-.52 0-1.04.2-1.43.59L10.3 9.45l-7.72 7.72c-.78.78-.78 2.05 0 2.83L4 21.41c.39.39.9.59 1.41.59.51 0 1.02-.2 1.41-.59l7.78-7.78 2.81-2.81c.8-.78.8-2.07 0-2.86zM5.41 20L4 18.59l7.72-7.72 1.47 1.35L5.41 20z\"/>\n",
       "  </svg>\n",
       "      </button>\n",
       "      \n",
       "  <style>\n",
       "    .colab-df-container {\n",
       "      display:flex;\n",
       "      flex-wrap:wrap;\n",
       "      gap: 12px;\n",
       "    }\n",
       "\n",
       "    .colab-df-convert {\n",
       "      background-color: #E8F0FE;\n",
       "      border: none;\n",
       "      border-radius: 50%;\n",
       "      cursor: pointer;\n",
       "      display: none;\n",
       "      fill: #1967D2;\n",
       "      height: 32px;\n",
       "      padding: 0 0 0 0;\n",
       "      width: 32px;\n",
       "    }\n",
       "\n",
       "    .colab-df-convert:hover {\n",
       "      background-color: #E2EBFA;\n",
       "      box-shadow: 0px 1px 2px rgba(60, 64, 67, 0.3), 0px 1px 3px 1px rgba(60, 64, 67, 0.15);\n",
       "      fill: #174EA6;\n",
       "    }\n",
       "\n",
       "    [theme=dark] .colab-df-convert {\n",
       "      background-color: #3B4455;\n",
       "      fill: #D2E3FC;\n",
       "    }\n",
       "\n",
       "    [theme=dark] .colab-df-convert:hover {\n",
       "      background-color: #434B5C;\n",
       "      box-shadow: 0px 1px 3px 1px rgba(0, 0, 0, 0.15);\n",
       "      filter: drop-shadow(0px 1px 2px rgba(0, 0, 0, 0.3));\n",
       "      fill: #FFFFFF;\n",
       "    }\n",
       "  </style>\n",
       "\n",
       "      <script>\n",
       "        const buttonEl =\n",
       "          document.querySelector('#df-dab8e6f2-ef18-48dc-aca8-0b7fcb92a955 button.colab-df-convert');\n",
       "        buttonEl.style.display =\n",
       "          google.colab.kernel.accessAllowed ? 'block' : 'none';\n",
       "\n",
       "        async function convertToInteractive(key) {\n",
       "          const element = document.querySelector('#df-dab8e6f2-ef18-48dc-aca8-0b7fcb92a955');\n",
       "          const dataTable =\n",
       "            await google.colab.kernel.invokeFunction('convertToInteractive',\n",
       "                                                     [key], {});\n",
       "          if (!dataTable) return;\n",
       "\n",
       "          const docLinkHtml = 'Like what you see? Visit the ' +\n",
       "            '<a target=\"_blank\" href=https://colab.research.google.com/notebooks/data_table.ipynb>data table notebook</a>'\n",
       "            + ' to learn more about interactive tables.';\n",
       "          element.innerHTML = '';\n",
       "          dataTable['output_type'] = 'display_data';\n",
       "          await google.colab.output.renderOutput(dataTable, element);\n",
       "          const docLink = document.createElement('div');\n",
       "          docLink.innerHTML = docLinkHtml;\n",
       "          element.appendChild(docLink);\n",
       "        }\n",
       "      </script>\n",
       "    </div>\n",
       "  </div>\n",
       "  "
      ],
      "text/plain": [
       "    Predict_Default_PaymentNM \n",
       "0                            1\n",
       "1                            1\n",
       "2                            0\n",
       "3                            0\n",
       "4                            1\n",
       "5                            0\n",
       "6                            1\n",
       "7                            0\n",
       "8                            1\n",
       "9                            0\n",
       "10                           0\n",
       "11                           0\n",
       "12                           0\n",
       "13                           0\n",
       "14                           1\n",
       "15                           1\n",
       "16                           0\n",
       "17                           0\n",
       "18                           0\n",
       "19                           0"
      ]
     },
     "execution_count": 75,
     "metadata": {},
     "output_type": "execute_result"
    }
   ],
   "source": [
    "# melakukan prediksi terhadap data inference dengan model decision tree\n",
    "\n",
    "y_pred_inf_dt = dt_best.predict(data_inf_final)\n",
    "y_pred_inf_df_dt = pd.DataFrame(y_pred_inf_dt, columns=['Predict_Default_PaymentNM '])\n",
    "y_pred_inf_df_dt"
   ]
  },
  {
   "cell_type": "code",
   "execution_count": 76,
   "metadata": {
    "colab": {
     "base_uri": "https://localhost:8080/",
     "height": 741
    },
    "id": "MZXw1aYgxgWA",
    "outputId": "2c3cd8c1-2779-455f-d7e4-d2f97d67c204"
   },
   "outputs": [
    {
     "data": {
      "text/html": [
       "\n",
       "  <div id=\"df-a8172cbe-9acc-484c-96da-d0bda57a472f\">\n",
       "    <div class=\"colab-df-container\">\n",
       "      <div>\n",
       "<style scoped>\n",
       "    .dataframe tbody tr th:only-of-type {\n",
       "        vertical-align: middle;\n",
       "    }\n",
       "\n",
       "    .dataframe tbody tr th {\n",
       "        vertical-align: top;\n",
       "    }\n",
       "\n",
       "    .dataframe thead th {\n",
       "        text-align: right;\n",
       "    }\n",
       "</style>\n",
       "<table border=\"1\" class=\"dataframe\">\n",
       "  <thead>\n",
       "    <tr style=\"text-align: right;\">\n",
       "      <th></th>\n",
       "      <th>limit_balance</th>\n",
       "      <th>sex</th>\n",
       "      <th>education_level</th>\n",
       "      <th>marital_status</th>\n",
       "      <th>age</th>\n",
       "      <th>pay_0</th>\n",
       "      <th>pay_2</th>\n",
       "      <th>pay_3</th>\n",
       "      <th>pay_4</th>\n",
       "      <th>pay_5</th>\n",
       "      <th>pay_6</th>\n",
       "      <th>bill_amt_1</th>\n",
       "      <th>bill_amt_2</th>\n",
       "      <th>bill_amt_3</th>\n",
       "      <th>bill_amt_4</th>\n",
       "      <th>bill_amt_5</th>\n",
       "      <th>bill_amt_6</th>\n",
       "      <th>pay_amt_1</th>\n",
       "      <th>pay_amt_2</th>\n",
       "      <th>pay_amt_3</th>\n",
       "      <th>pay_amt_4</th>\n",
       "      <th>pay_amt_5</th>\n",
       "      <th>pay_amt_6</th>\n",
       "      <th>default_payment_next_month</th>\n",
       "      <th>Predict_Default_PaymentNM</th>\n",
       "    </tr>\n",
       "  </thead>\n",
       "  <tbody>\n",
       "    <tr>\n",
       "      <th>0</th>\n",
       "      <td>20000.0</td>\n",
       "      <td>1</td>\n",
       "      <td>2</td>\n",
       "      <td>2</td>\n",
       "      <td>25.0</td>\n",
       "      <td>0.0</td>\n",
       "      <td>0.0</td>\n",
       "      <td>0.0</td>\n",
       "      <td>0.0</td>\n",
       "      <td>0</td>\n",
       "      <td>0</td>\n",
       "      <td>13429.0</td>\n",
       "      <td>14502.0</td>\n",
       "      <td>15564.0</td>\n",
       "      <td>16600.0</td>\n",
       "      <td>17025.0</td>\n",
       "      <td>17381.0</td>\n",
       "      <td>1300.0</td>\n",
       "      <td>1300.0</td>\n",
       "      <td>1300.0</td>\n",
       "      <td>700.0</td>\n",
       "      <td>630.0</td>\n",
       "      <td>650.0</td>\n",
       "      <td>0</td>\n",
       "      <td>1</td>\n",
       "    </tr>\n",
       "    <tr>\n",
       "      <th>1</th>\n",
       "      <td>30000.0</td>\n",
       "      <td>1</td>\n",
       "      <td>1</td>\n",
       "      <td>2</td>\n",
       "      <td>35.0</td>\n",
       "      <td>2.0</td>\n",
       "      <td>2.0</td>\n",
       "      <td>2.0</td>\n",
       "      <td>2.0</td>\n",
       "      <td>2</td>\n",
       "      <td>2</td>\n",
       "      <td>14489.0</td>\n",
       "      <td>15460.0</td>\n",
       "      <td>15514.0</td>\n",
       "      <td>14968.0</td>\n",
       "      <td>16026.0</td>\n",
       "      <td>15619.0</td>\n",
       "      <td>1500.0</td>\n",
       "      <td>600.0</td>\n",
       "      <td>0.0</td>\n",
       "      <td>1300.0</td>\n",
       "      <td>0.0</td>\n",
       "      <td>1300.0</td>\n",
       "      <td>0</td>\n",
       "      <td>1</td>\n",
       "    </tr>\n",
       "    <tr>\n",
       "      <th>2</th>\n",
       "      <td>240000.0</td>\n",
       "      <td>1</td>\n",
       "      <td>2</td>\n",
       "      <td>1</td>\n",
       "      <td>36.0</td>\n",
       "      <td>0.0</td>\n",
       "      <td>0.0</td>\n",
       "      <td>0.0</td>\n",
       "      <td>0.0</td>\n",
       "      <td>0</td>\n",
       "      <td>0</td>\n",
       "      <td>239003.0</td>\n",
       "      <td>227962.0</td>\n",
       "      <td>231284.0</td>\n",
       "      <td>239410.0</td>\n",
       "      <td>184094.0</td>\n",
       "      <td>101776.0</td>\n",
       "      <td>9700.0</td>\n",
       "      <td>8500.0</td>\n",
       "      <td>12036.0</td>\n",
       "      <td>8300.0</td>\n",
       "      <td>5000.0</td>\n",
       "      <td>5000.0</td>\n",
       "      <td>0</td>\n",
       "      <td>0</td>\n",
       "    </tr>\n",
       "    <tr>\n",
       "      <th>3</th>\n",
       "      <td>210000.0</td>\n",
       "      <td>2</td>\n",
       "      <td>2</td>\n",
       "      <td>2</td>\n",
       "      <td>35.0</td>\n",
       "      <td>0.0</td>\n",
       "      <td>0.0</td>\n",
       "      <td>0.0</td>\n",
       "      <td>0.0</td>\n",
       "      <td>0</td>\n",
       "      <td>0</td>\n",
       "      <td>147812.0</td>\n",
       "      <td>135624.0</td>\n",
       "      <td>125469.0</td>\n",
       "      <td>103409.0</td>\n",
       "      <td>75498.0</td>\n",
       "      <td>72020.0</td>\n",
       "      <td>5000.0</td>\n",
       "      <td>7000.0</td>\n",
       "      <td>5000.0</td>\n",
       "      <td>4000.0</td>\n",
       "      <td>2447.0</td>\n",
       "      <td>3000.0</td>\n",
       "      <td>0</td>\n",
       "      <td>0</td>\n",
       "    </tr>\n",
       "    <tr>\n",
       "      <th>4</th>\n",
       "      <td>10000.0</td>\n",
       "      <td>1</td>\n",
       "      <td>1</td>\n",
       "      <td>2</td>\n",
       "      <td>25.0</td>\n",
       "      <td>0.0</td>\n",
       "      <td>0.0</td>\n",
       "      <td>0.0</td>\n",
       "      <td>0.0</td>\n",
       "      <td>0</td>\n",
       "      <td>0</td>\n",
       "      <td>5642.0</td>\n",
       "      <td>6652.0</td>\n",
       "      <td>7683.0</td>\n",
       "      <td>9040.0</td>\n",
       "      <td>9222.0</td>\n",
       "      <td>9580.0</td>\n",
       "      <td>1112.0</td>\n",
       "      <td>1143.0</td>\n",
       "      <td>1500.0</td>\n",
       "      <td>324.0</td>\n",
       "      <td>500.0</td>\n",
       "      <td>377.0</td>\n",
       "      <td>0</td>\n",
       "      <td>1</td>\n",
       "    </tr>\n",
       "    <tr>\n",
       "      <th>5</th>\n",
       "      <td>50000.0</td>\n",
       "      <td>2</td>\n",
       "      <td>3</td>\n",
       "      <td>2</td>\n",
       "      <td>22.0</td>\n",
       "      <td>0.0</td>\n",
       "      <td>0.0</td>\n",
       "      <td>0.0</td>\n",
       "      <td>0.0</td>\n",
       "      <td>0</td>\n",
       "      <td>0</td>\n",
       "      <td>36926.0</td>\n",
       "      <td>52845.0</td>\n",
       "      <td>52148.0</td>\n",
       "      <td>32718.0</td>\n",
       "      <td>32096.0</td>\n",
       "      <td>30563.0</td>\n",
       "      <td>20007.0</td>\n",
       "      <td>3014.0</td>\n",
       "      <td>1309.0</td>\n",
       "      <td>5009.0</td>\n",
       "      <td>2008.0</td>\n",
       "      <td>4622.0</td>\n",
       "      <td>0</td>\n",
       "      <td>0</td>\n",
       "    </tr>\n",
       "    <tr>\n",
       "      <th>6</th>\n",
       "      <td>10000.0</td>\n",
       "      <td>1</td>\n",
       "      <td>3</td>\n",
       "      <td>2</td>\n",
       "      <td>21.0</td>\n",
       "      <td>0.0</td>\n",
       "      <td>0.0</td>\n",
       "      <td>2.0</td>\n",
       "      <td>0.0</td>\n",
       "      <td>0</td>\n",
       "      <td>0</td>\n",
       "      <td>4797.0</td>\n",
       "      <td>6457.0</td>\n",
       "      <td>6154.0</td>\n",
       "      <td>6154.0</td>\n",
       "      <td>6280.0</td>\n",
       "      <td>0.0</td>\n",
       "      <td>2400.0</td>\n",
       "      <td>0.0</td>\n",
       "      <td>0.0</td>\n",
       "      <td>126.0</td>\n",
       "      <td>0.0</td>\n",
       "      <td>0.0</td>\n",
       "      <td>0</td>\n",
       "      <td>1</td>\n",
       "    </tr>\n",
       "    <tr>\n",
       "      <th>7</th>\n",
       "      <td>120000.0</td>\n",
       "      <td>2</td>\n",
       "      <td>3</td>\n",
       "      <td>2</td>\n",
       "      <td>50.0</td>\n",
       "      <td>0.0</td>\n",
       "      <td>-1.0</td>\n",
       "      <td>0.0</td>\n",
       "      <td>0.0</td>\n",
       "      <td>0</td>\n",
       "      <td>0</td>\n",
       "      <td>149540.0</td>\n",
       "      <td>118675.0</td>\n",
       "      <td>120047.0</td>\n",
       "      <td>100637.0</td>\n",
       "      <td>79613.0</td>\n",
       "      <td>79286.0</td>\n",
       "      <td>125000.0</td>\n",
       "      <td>4065.0</td>\n",
       "      <td>4000.0</td>\n",
       "      <td>3000.0</td>\n",
       "      <td>3000.0</td>\n",
       "      <td>3000.0</td>\n",
       "      <td>1</td>\n",
       "      <td>0</td>\n",
       "    </tr>\n",
       "    <tr>\n",
       "      <th>8</th>\n",
       "      <td>20000.0</td>\n",
       "      <td>2</td>\n",
       "      <td>2</td>\n",
       "      <td>1</td>\n",
       "      <td>42.0</td>\n",
       "      <td>1.0</td>\n",
       "      <td>2.0</td>\n",
       "      <td>2.0</td>\n",
       "      <td>2.0</td>\n",
       "      <td>0</td>\n",
       "      <td>0</td>\n",
       "      <td>8395.0</td>\n",
       "      <td>8114.0</td>\n",
       "      <td>10293.0</td>\n",
       "      <td>9979.0</td>\n",
       "      <td>10329.0</td>\n",
       "      <td>10391.0</td>\n",
       "      <td>0.0</td>\n",
       "      <td>2479.0</td>\n",
       "      <td>0.0</td>\n",
       "      <td>515.0</td>\n",
       "      <td>377.0</td>\n",
       "      <td>617.0</td>\n",
       "      <td>0</td>\n",
       "      <td>1</td>\n",
       "    </tr>\n",
       "    <tr>\n",
       "      <th>9</th>\n",
       "      <td>140000.0</td>\n",
       "      <td>2</td>\n",
       "      <td>1</td>\n",
       "      <td>2</td>\n",
       "      <td>34.0</td>\n",
       "      <td>-1.0</td>\n",
       "      <td>-1.0</td>\n",
       "      <td>-2.0</td>\n",
       "      <td>-2.0</td>\n",
       "      <td>-1</td>\n",
       "      <td>0</td>\n",
       "      <td>1500.0</td>\n",
       "      <td>0.0</td>\n",
       "      <td>0.0</td>\n",
       "      <td>0.0</td>\n",
       "      <td>6400.0</td>\n",
       "      <td>11400.0</td>\n",
       "      <td>0.0</td>\n",
       "      <td>0.0</td>\n",
       "      <td>0.0</td>\n",
       "      <td>6400.0</td>\n",
       "      <td>5000.0</td>\n",
       "      <td>1000.0</td>\n",
       "      <td>0</td>\n",
       "      <td>0</td>\n",
       "    </tr>\n",
       "    <tr>\n",
       "      <th>10</th>\n",
       "      <td>240000.0</td>\n",
       "      <td>2</td>\n",
       "      <td>3</td>\n",
       "      <td>1</td>\n",
       "      <td>55.0</td>\n",
       "      <td>0.0</td>\n",
       "      <td>0.0</td>\n",
       "      <td>0.0</td>\n",
       "      <td>0.0</td>\n",
       "      <td>0</td>\n",
       "      <td>0</td>\n",
       "      <td>216170.0</td>\n",
       "      <td>218809.0</td>\n",
       "      <td>226013.0</td>\n",
       "      <td>229014.0</td>\n",
       "      <td>178852.0</td>\n",
       "      <td>182547.0</td>\n",
       "      <td>8000.0</td>\n",
       "      <td>11000.0</td>\n",
       "      <td>9000.0</td>\n",
       "      <td>7000.0</td>\n",
       "      <td>7000.0</td>\n",
       "      <td>7200.0</td>\n",
       "      <td>0</td>\n",
       "      <td>0</td>\n",
       "    </tr>\n",
       "    <tr>\n",
       "      <th>11</th>\n",
       "      <td>210000.0</td>\n",
       "      <td>2</td>\n",
       "      <td>2</td>\n",
       "      <td>1</td>\n",
       "      <td>50.0</td>\n",
       "      <td>-1.0</td>\n",
       "      <td>-1.0</td>\n",
       "      <td>-1.0</td>\n",
       "      <td>-1.0</td>\n",
       "      <td>-1</td>\n",
       "      <td>-1</td>\n",
       "      <td>390.0</td>\n",
       "      <td>390.0</td>\n",
       "      <td>390.0</td>\n",
       "      <td>390.0</td>\n",
       "      <td>390.0</td>\n",
       "      <td>150.0</td>\n",
       "      <td>390.0</td>\n",
       "      <td>390.0</td>\n",
       "      <td>390.0</td>\n",
       "      <td>390.0</td>\n",
       "      <td>150.0</td>\n",
       "      <td>780.0</td>\n",
       "      <td>1</td>\n",
       "      <td>0</td>\n",
       "    </tr>\n",
       "    <tr>\n",
       "      <th>12</th>\n",
       "      <td>120000.0</td>\n",
       "      <td>1</td>\n",
       "      <td>2</td>\n",
       "      <td>1</td>\n",
       "      <td>40.0</td>\n",
       "      <td>0.0</td>\n",
       "      <td>0.0</td>\n",
       "      <td>0.0</td>\n",
       "      <td>0.0</td>\n",
       "      <td>0</td>\n",
       "      <td>0</td>\n",
       "      <td>94166.0</td>\n",
       "      <td>73086.0</td>\n",
       "      <td>62511.0</td>\n",
       "      <td>36996.0</td>\n",
       "      <td>30311.0</td>\n",
       "      <td>26414.0</td>\n",
       "      <td>3500.0</td>\n",
       "      <td>2347.0</td>\n",
       "      <td>5000.0</td>\n",
       "      <td>3000.0</td>\n",
       "      <td>2000.0</td>\n",
       "      <td>10000.0</td>\n",
       "      <td>0</td>\n",
       "      <td>0</td>\n",
       "    </tr>\n",
       "    <tr>\n",
       "      <th>13</th>\n",
       "      <td>130000.0</td>\n",
       "      <td>2</td>\n",
       "      <td>1</td>\n",
       "      <td>2</td>\n",
       "      <td>23.0</td>\n",
       "      <td>0.0</td>\n",
       "      <td>0.0</td>\n",
       "      <td>0.0</td>\n",
       "      <td>0.0</td>\n",
       "      <td>0</td>\n",
       "      <td>0</td>\n",
       "      <td>102087.0</td>\n",
       "      <td>101079.0</td>\n",
       "      <td>93977.0</td>\n",
       "      <td>94427.0</td>\n",
       "      <td>89041.0</td>\n",
       "      <td>89833.0</td>\n",
       "      <td>4500.0</td>\n",
       "      <td>4363.0</td>\n",
       "      <td>3300.0</td>\n",
       "      <td>3178.0</td>\n",
       "      <td>3178.0</td>\n",
       "      <td>3424.0</td>\n",
       "      <td>0</td>\n",
       "      <td>0</td>\n",
       "    </tr>\n",
       "    <tr>\n",
       "      <th>14</th>\n",
       "      <td>20000.0</td>\n",
       "      <td>1</td>\n",
       "      <td>2</td>\n",
       "      <td>2</td>\n",
       "      <td>36.0</td>\n",
       "      <td>2.0</td>\n",
       "      <td>2.0</td>\n",
       "      <td>2.0</td>\n",
       "      <td>0.0</td>\n",
       "      <td>0</td>\n",
       "      <td>0</td>\n",
       "      <td>18458.0</td>\n",
       "      <td>17334.0</td>\n",
       "      <td>16768.0</td>\n",
       "      <td>17539.0</td>\n",
       "      <td>18775.0</td>\n",
       "      <td>18586.0</td>\n",
       "      <td>1450.0</td>\n",
       "      <td>0.0</td>\n",
       "      <td>1134.0</td>\n",
       "      <td>1370.0</td>\n",
       "      <td>1000.0</td>\n",
       "      <td>424.0</td>\n",
       "      <td>0</td>\n",
       "      <td>1</td>\n",
       "    </tr>\n",
       "    <tr>\n",
       "      <th>15</th>\n",
       "      <td>50000.0</td>\n",
       "      <td>1</td>\n",
       "      <td>3</td>\n",
       "      <td>1</td>\n",
       "      <td>41.0</td>\n",
       "      <td>2.0</td>\n",
       "      <td>2.0</td>\n",
       "      <td>2.0</td>\n",
       "      <td>0.0</td>\n",
       "      <td>0</td>\n",
       "      <td>0</td>\n",
       "      <td>26184.0</td>\n",
       "      <td>29261.0</td>\n",
       "      <td>28444.0</td>\n",
       "      <td>28878.0</td>\n",
       "      <td>27655.0</td>\n",
       "      <td>24480.0</td>\n",
       "      <td>3500.0</td>\n",
       "      <td>0.0</td>\n",
       "      <td>1100.0</td>\n",
       "      <td>1100.0</td>\n",
       "      <td>2000.0</td>\n",
       "      <td>1000.0</td>\n",
       "      <td>0</td>\n",
       "      <td>1</td>\n",
       "    </tr>\n",
       "    <tr>\n",
       "      <th>16</th>\n",
       "      <td>70000.0</td>\n",
       "      <td>1</td>\n",
       "      <td>2</td>\n",
       "      <td>2</td>\n",
       "      <td>30.0</td>\n",
       "      <td>1.0</td>\n",
       "      <td>-1.0</td>\n",
       "      <td>0.0</td>\n",
       "      <td>0.0</td>\n",
       "      <td>0</td>\n",
       "      <td>0</td>\n",
       "      <td>0.0</td>\n",
       "      <td>11609.0</td>\n",
       "      <td>13411.0</td>\n",
       "      <td>14470.0</td>\n",
       "      <td>18070.0</td>\n",
       "      <td>15000.0</td>\n",
       "      <td>11609.0</td>\n",
       "      <td>2000.0</td>\n",
       "      <td>1400.0</td>\n",
       "      <td>5000.0</td>\n",
       "      <td>300.0</td>\n",
       "      <td>4220.0</td>\n",
       "      <td>0</td>\n",
       "      <td>0</td>\n",
       "    </tr>\n",
       "    <tr>\n",
       "      <th>17</th>\n",
       "      <td>170000.0</td>\n",
       "      <td>1</td>\n",
       "      <td>1</td>\n",
       "      <td>2</td>\n",
       "      <td>27.0</td>\n",
       "      <td>0.0</td>\n",
       "      <td>0.0</td>\n",
       "      <td>0.0</td>\n",
       "      <td>0.0</td>\n",
       "      <td>0</td>\n",
       "      <td>0</td>\n",
       "      <td>127902.0</td>\n",
       "      <td>131631.0</td>\n",
       "      <td>133090.0</td>\n",
       "      <td>130937.0</td>\n",
       "      <td>134043.0</td>\n",
       "      <td>137023.0</td>\n",
       "      <td>5631.0</td>\n",
       "      <td>5090.0</td>\n",
       "      <td>4937.0</td>\n",
       "      <td>5043.0</td>\n",
       "      <td>5023.0</td>\n",
       "      <td>11939.0</td>\n",
       "      <td>0</td>\n",
       "      <td>0</td>\n",
       "    </tr>\n",
       "    <tr>\n",
       "      <th>18</th>\n",
       "      <td>30000.0</td>\n",
       "      <td>2</td>\n",
       "      <td>3</td>\n",
       "      <td>1</td>\n",
       "      <td>47.0</td>\n",
       "      <td>-2.0</td>\n",
       "      <td>-2.0</td>\n",
       "      <td>-2.0</td>\n",
       "      <td>-2.0</td>\n",
       "      <td>-2</td>\n",
       "      <td>-2</td>\n",
       "      <td>6911.0</td>\n",
       "      <td>10507.0</td>\n",
       "      <td>4785.0</td>\n",
       "      <td>4567.0</td>\n",
       "      <td>11762.0</td>\n",
       "      <td>4209.0</td>\n",
       "      <td>10523.0</td>\n",
       "      <td>4790.0</td>\n",
       "      <td>4736.0</td>\n",
       "      <td>55762.0</td>\n",
       "      <td>4209.0</td>\n",
       "      <td>22815.0</td>\n",
       "      <td>0</td>\n",
       "      <td>0</td>\n",
       "    </tr>\n",
       "    <tr>\n",
       "      <th>19</th>\n",
       "      <td>160000.0</td>\n",
       "      <td>2</td>\n",
       "      <td>3</td>\n",
       "      <td>1</td>\n",
       "      <td>35.0</td>\n",
       "      <td>-1.0</td>\n",
       "      <td>-1.0</td>\n",
       "      <td>-1.0</td>\n",
       "      <td>-1.0</td>\n",
       "      <td>0</td>\n",
       "      <td>0</td>\n",
       "      <td>335.0</td>\n",
       "      <td>0.0</td>\n",
       "      <td>312.0</td>\n",
       "      <td>7736.0</td>\n",
       "      <td>7278.0</td>\n",
       "      <td>7278.0</td>\n",
       "      <td>0.0</td>\n",
       "      <td>312.0</td>\n",
       "      <td>7736.0</td>\n",
       "      <td>0.0</td>\n",
       "      <td>0.0</td>\n",
       "      <td>1470.0</td>\n",
       "      <td>0</td>\n",
       "      <td>0</td>\n",
       "    </tr>\n",
       "  </tbody>\n",
       "</table>\n",
       "</div>\n",
       "      <button class=\"colab-df-convert\" onclick=\"convertToInteractive('df-a8172cbe-9acc-484c-96da-d0bda57a472f')\"\n",
       "              title=\"Convert this dataframe to an interactive table.\"\n",
       "              style=\"display:none;\">\n",
       "        \n",
       "  <svg xmlns=\"http://www.w3.org/2000/svg\" height=\"24px\"viewBox=\"0 0 24 24\"\n",
       "       width=\"24px\">\n",
       "    <path d=\"M0 0h24v24H0V0z\" fill=\"none\"/>\n",
       "    <path d=\"M18.56 5.44l.94 2.06.94-2.06 2.06-.94-2.06-.94-.94-2.06-.94 2.06-2.06.94zm-11 1L8.5 8.5l.94-2.06 2.06-.94-2.06-.94L8.5 2.5l-.94 2.06-2.06.94zm10 10l.94 2.06.94-2.06 2.06-.94-2.06-.94-.94-2.06-.94 2.06-2.06.94z\"/><path d=\"M17.41 7.96l-1.37-1.37c-.4-.4-.92-.59-1.43-.59-.52 0-1.04.2-1.43.59L10.3 9.45l-7.72 7.72c-.78.78-.78 2.05 0 2.83L4 21.41c.39.39.9.59 1.41.59.51 0 1.02-.2 1.41-.59l7.78-7.78 2.81-2.81c.8-.78.8-2.07 0-2.86zM5.41 20L4 18.59l7.72-7.72 1.47 1.35L5.41 20z\"/>\n",
       "  </svg>\n",
       "      </button>\n",
       "      \n",
       "  <style>\n",
       "    .colab-df-container {\n",
       "      display:flex;\n",
       "      flex-wrap:wrap;\n",
       "      gap: 12px;\n",
       "    }\n",
       "\n",
       "    .colab-df-convert {\n",
       "      background-color: #E8F0FE;\n",
       "      border: none;\n",
       "      border-radius: 50%;\n",
       "      cursor: pointer;\n",
       "      display: none;\n",
       "      fill: #1967D2;\n",
       "      height: 32px;\n",
       "      padding: 0 0 0 0;\n",
       "      width: 32px;\n",
       "    }\n",
       "\n",
       "    .colab-df-convert:hover {\n",
       "      background-color: #E2EBFA;\n",
       "      box-shadow: 0px 1px 2px rgba(60, 64, 67, 0.3), 0px 1px 3px 1px rgba(60, 64, 67, 0.15);\n",
       "      fill: #174EA6;\n",
       "    }\n",
       "\n",
       "    [theme=dark] .colab-df-convert {\n",
       "      background-color: #3B4455;\n",
       "      fill: #D2E3FC;\n",
       "    }\n",
       "\n",
       "    [theme=dark] .colab-df-convert:hover {\n",
       "      background-color: #434B5C;\n",
       "      box-shadow: 0px 1px 3px 1px rgba(0, 0, 0, 0.15);\n",
       "      filter: drop-shadow(0px 1px 2px rgba(0, 0, 0, 0.3));\n",
       "      fill: #FFFFFF;\n",
       "    }\n",
       "  </style>\n",
       "\n",
       "      <script>\n",
       "        const buttonEl =\n",
       "          document.querySelector('#df-a8172cbe-9acc-484c-96da-d0bda57a472f button.colab-df-convert');\n",
       "        buttonEl.style.display =\n",
       "          google.colab.kernel.accessAllowed ? 'block' : 'none';\n",
       "\n",
       "        async function convertToInteractive(key) {\n",
       "          const element = document.querySelector('#df-a8172cbe-9acc-484c-96da-d0bda57a472f');\n",
       "          const dataTable =\n",
       "            await google.colab.kernel.invokeFunction('convertToInteractive',\n",
       "                                                     [key], {});\n",
       "          if (!dataTable) return;\n",
       "\n",
       "          const docLinkHtml = 'Like what you see? Visit the ' +\n",
       "            '<a target=\"_blank\" href=https://colab.research.google.com/notebooks/data_table.ipynb>data table notebook</a>'\n",
       "            + ' to learn more about interactive tables.';\n",
       "          element.innerHTML = '';\n",
       "          dataTable['output_type'] = 'display_data';\n",
       "          await google.colab.output.renderOutput(dataTable, element);\n",
       "          const docLink = document.createElement('div');\n",
       "          docLink.innerHTML = docLinkHtml;\n",
       "          element.appendChild(docLink);\n",
       "        }\n",
       "      </script>\n",
       "    </div>\n",
       "  </div>\n",
       "  "
      ],
      "text/plain": [
       "    limit_balance  sex  education_level  marital_status   age  pay_0  pay_2  \\\n",
       "0         20000.0    1                2               2  25.0    0.0    0.0   \n",
       "1         30000.0    1                1               2  35.0    2.0    2.0   \n",
       "2        240000.0    1                2               1  36.0    0.0    0.0   \n",
       "3        210000.0    2                2               2  35.0    0.0    0.0   \n",
       "4         10000.0    1                1               2  25.0    0.0    0.0   \n",
       "5         50000.0    2                3               2  22.0    0.0    0.0   \n",
       "6         10000.0    1                3               2  21.0    0.0    0.0   \n",
       "7        120000.0    2                3               2  50.0    0.0   -1.0   \n",
       "8         20000.0    2                2               1  42.0    1.0    2.0   \n",
       "9        140000.0    2                1               2  34.0   -1.0   -1.0   \n",
       "10       240000.0    2                3               1  55.0    0.0    0.0   \n",
       "11       210000.0    2                2               1  50.0   -1.0   -1.0   \n",
       "12       120000.0    1                2               1  40.0    0.0    0.0   \n",
       "13       130000.0    2                1               2  23.0    0.0    0.0   \n",
       "14        20000.0    1                2               2  36.0    2.0    2.0   \n",
       "15        50000.0    1                3               1  41.0    2.0    2.0   \n",
       "16        70000.0    1                2               2  30.0    1.0   -1.0   \n",
       "17       170000.0    1                1               2  27.0    0.0    0.0   \n",
       "18        30000.0    2                3               1  47.0   -2.0   -2.0   \n",
       "19       160000.0    2                3               1  35.0   -1.0   -1.0   \n",
       "\n",
       "    pay_3  pay_4  pay_5  pay_6  bill_amt_1  bill_amt_2  bill_amt_3  \\\n",
       "0     0.0    0.0      0      0     13429.0     14502.0     15564.0   \n",
       "1     2.0    2.0      2      2     14489.0     15460.0     15514.0   \n",
       "2     0.0    0.0      0      0    239003.0    227962.0    231284.0   \n",
       "3     0.0    0.0      0      0    147812.0    135624.0    125469.0   \n",
       "4     0.0    0.0      0      0      5642.0      6652.0      7683.0   \n",
       "5     0.0    0.0      0      0     36926.0     52845.0     52148.0   \n",
       "6     2.0    0.0      0      0      4797.0      6457.0      6154.0   \n",
       "7     0.0    0.0      0      0    149540.0    118675.0    120047.0   \n",
       "8     2.0    2.0      0      0      8395.0      8114.0     10293.0   \n",
       "9    -2.0   -2.0     -1      0      1500.0         0.0         0.0   \n",
       "10    0.0    0.0      0      0    216170.0    218809.0    226013.0   \n",
       "11   -1.0   -1.0     -1     -1       390.0       390.0       390.0   \n",
       "12    0.0    0.0      0      0     94166.0     73086.0     62511.0   \n",
       "13    0.0    0.0      0      0    102087.0    101079.0     93977.0   \n",
       "14    2.0    0.0      0      0     18458.0     17334.0     16768.0   \n",
       "15    2.0    0.0      0      0     26184.0     29261.0     28444.0   \n",
       "16    0.0    0.0      0      0         0.0     11609.0     13411.0   \n",
       "17    0.0    0.0      0      0    127902.0    131631.0    133090.0   \n",
       "18   -2.0   -2.0     -2     -2      6911.0     10507.0      4785.0   \n",
       "19   -1.0   -1.0      0      0       335.0         0.0       312.0   \n",
       "\n",
       "    bill_amt_4  bill_amt_5  bill_amt_6  pay_amt_1  pay_amt_2  pay_amt_3  \\\n",
       "0      16600.0     17025.0     17381.0     1300.0     1300.0     1300.0   \n",
       "1      14968.0     16026.0     15619.0     1500.0      600.0        0.0   \n",
       "2     239410.0    184094.0    101776.0     9700.0     8500.0    12036.0   \n",
       "3     103409.0     75498.0     72020.0     5000.0     7000.0     5000.0   \n",
       "4       9040.0      9222.0      9580.0     1112.0     1143.0     1500.0   \n",
       "5      32718.0     32096.0     30563.0    20007.0     3014.0     1309.0   \n",
       "6       6154.0      6280.0         0.0     2400.0        0.0        0.0   \n",
       "7     100637.0     79613.0     79286.0   125000.0     4065.0     4000.0   \n",
       "8       9979.0     10329.0     10391.0        0.0     2479.0        0.0   \n",
       "9          0.0      6400.0     11400.0        0.0        0.0        0.0   \n",
       "10    229014.0    178852.0    182547.0     8000.0    11000.0     9000.0   \n",
       "11       390.0       390.0       150.0      390.0      390.0      390.0   \n",
       "12     36996.0     30311.0     26414.0     3500.0     2347.0     5000.0   \n",
       "13     94427.0     89041.0     89833.0     4500.0     4363.0     3300.0   \n",
       "14     17539.0     18775.0     18586.0     1450.0        0.0     1134.0   \n",
       "15     28878.0     27655.0     24480.0     3500.0        0.0     1100.0   \n",
       "16     14470.0     18070.0     15000.0    11609.0     2000.0     1400.0   \n",
       "17    130937.0    134043.0    137023.0     5631.0     5090.0     4937.0   \n",
       "18      4567.0     11762.0      4209.0    10523.0     4790.0     4736.0   \n",
       "19      7736.0      7278.0      7278.0        0.0      312.0     7736.0   \n",
       "\n",
       "    pay_amt_4  pay_amt_5  pay_amt_6  default_payment_next_month  \\\n",
       "0       700.0      630.0      650.0                           0   \n",
       "1      1300.0        0.0     1300.0                           0   \n",
       "2      8300.0     5000.0     5000.0                           0   \n",
       "3      4000.0     2447.0     3000.0                           0   \n",
       "4       324.0      500.0      377.0                           0   \n",
       "5      5009.0     2008.0     4622.0                           0   \n",
       "6       126.0        0.0        0.0                           0   \n",
       "7      3000.0     3000.0     3000.0                           1   \n",
       "8       515.0      377.0      617.0                           0   \n",
       "9      6400.0     5000.0     1000.0                           0   \n",
       "10     7000.0     7000.0     7200.0                           0   \n",
       "11      390.0      150.0      780.0                           1   \n",
       "12     3000.0     2000.0    10000.0                           0   \n",
       "13     3178.0     3178.0     3424.0                           0   \n",
       "14     1370.0     1000.0      424.0                           0   \n",
       "15     1100.0     2000.0     1000.0                           0   \n",
       "16     5000.0      300.0     4220.0                           0   \n",
       "17     5043.0     5023.0    11939.0                           0   \n",
       "18    55762.0     4209.0    22815.0                           0   \n",
       "19        0.0        0.0     1470.0                           0   \n",
       "\n",
       "    Predict_Default_PaymentNM   \n",
       "0                            1  \n",
       "1                            1  \n",
       "2                            0  \n",
       "3                            0  \n",
       "4                            1  \n",
       "5                            0  \n",
       "6                            1  \n",
       "7                            0  \n",
       "8                            1  \n",
       "9                            0  \n",
       "10                           0  \n",
       "11                           0  \n",
       "12                           0  \n",
       "13                           0  \n",
       "14                           1  \n",
       "15                           1  \n",
       "16                           0  \n",
       "17                           0  \n",
       "18                           0  \n",
       "19                           0  "
      ]
     },
     "execution_count": 76,
     "metadata": {},
     "output_type": "execute_result"
    }
   ],
   "source": [
    "pd.concat([df_inf, y_pred_inf_df_dt], axis=1)"
   ]
  },
  {
   "cell_type": "markdown",
   "metadata": {
    "id": "5IwIWE-ndPPr"
   },
   "source": [
    "- pada prediksi data inference didapan nilai eror 8 dari 20 data, ini mungkin dikarenakan data inference yang dominan target 0.\n",
    "- dan **best param yang tidak optimal.**"
   ]
  },
  {
   "cell_type": "markdown",
   "metadata": {
    "id": "tp9m3oe3fXii"
   },
   "source": [
    "# End Game\n",
    "didapatkan model terbaik adalah **Decision Tree**, dengan **nilai ROC_AUC 0.97 dan 0.94, Mean Accuracy terbesar dan Standar Deviasi Terkecil. juga Matrix Evalusian eror data terkecil.**\n",
    "- kemudian best model dilakukan pencarian **hyperparameter terbaik**, tetapi hasil yang didapatkan **tidak cukup baik** dan sangat tidak menggambarkan model defaultnya\n",
    "- kemudian untuk meninjau lebih jauh lagi dilakukan **predict data inference** dan **hasilnya cukup mengejutkan** yaitu banyak sekali data yang dipredict belum tepat.\n",
    "\n",
    "- **penulis melakukan preview** dan mendapatkan **improving model pada tahapan selanjutnya.** yaitu **perbaharui kriteria hyperparameter pada best param dan coba lagi hingga hasilnya maksimal.**\n",
    "- hanya itu satu2nya catatan pada hasil model predict yang kurang optimal ini karena **penulis telah melakukan pengolahan data yang optimal** seperti balancing, tidak handling outlier karena data telah diencode, feature selection dengan korelasi terbaik, tidak ada encoding karena data telah kategorikan, scalling colom yang perlu saja, dan lain sebagainya."
   ]
  },
  {
   "cell_type": "markdown",
   "metadata": {
    "id": "cuzR3ecV7YIl"
   },
   "source": [
    "# Conceptual Problems\n",
    "\n",
    "1. Apakah fungsi parameter criterion pada Decision Tree? Jelaskan salah satu criterion yang kalian pahami!\n",
    "- Decision tree adalah model prediksi menggunakan struktur pohon, konsep dari pohon keputusan adalah breakdown data. kemudian pada parameter kriterion yang berfungsi sebagai hyperparameter : jika criterion ini diubah2 makan akan didapatkan struktur pohon keputusan yang berbeda2.\n",
    "terdapat Information_gain : criteria ini menghitung entropi dari semua atribut dan yang memiliki nilai entropi paling sedikit dipilih untuk di pisah.\n",
    "- **penjelasan point 1 panjang dikarenakan ambigu pada penjelasan criterion atau parameter didalam criterion**\n",
    "2. Apakah fungsi dari pruning pada Tree model?\n",
    "- mengidentifikasikan dan membuang cabang yang tidak diperlukan pada pohon yang telah terbentuk. Hal ini dikarenakan pohon keputusan yang dikontruksi dapat berukuran besar, maka dapat disederhanakan dengan melakukan pemangkasan\n",
    "3. Bagaimana cara memilih K yang optimal pada KNN?\n",
    "- jika binari pilihlah k dengan angka ganjil, dan gunakan cross validation untuk membantu memilih k optimal\n",
    "4. Jelaskan apa yang kalian ketahui tentang Cross Validation!\n",
    "- cross validation adalah metode yang digunakan dengan tujuan untuk memperoleh hasil yang maksimal. metode ini dijalankan dimana percobaan sebanyak k kali untuk satu model dengan parameter yang sama.\n",
    "5. Jelaskan apa yang kalian ketahui tentang Accuracy, Precision, Recall, F1 Score!\n",
    "- Accuracy adalah nilai rasio prediski benar (positif/negatif) dengan keseluruhan data, Precision : rasio prediksi benar positif dibandingkan dengan keseluruhan hasil prediksi positif, Recall : rasio prediksi benar positif dibandingkan dengan keseluruhan data yang sebenarnya positif, F1 Score : merupakan perbandingan rata-rata presisi dan recall yang dibobotkan."
   ]
  }
 ],
 "metadata": {
  "colab": {
   "collapsed_sections": [],
   "provenance": []
  },
  "kernelspec": {
   "display_name": "Python 3 (ipykernel)",
   "language": "python",
   "name": "python3"
  },
  "language_info": {
   "codemirror_mode": {
    "name": "ipython",
    "version": 3
   },
   "file_extension": ".py",
   "mimetype": "text/x-python",
   "name": "python",
   "nbconvert_exporter": "python",
   "pygments_lexer": "ipython3",
   "version": "3.9.12"
  },
  "vscode": {
   "interpreter": {
    "hash": "81c9553bc2a4b310340b3beb2fd3b7af591c9174ca0bce2c4b991662efcc3bb2"
   }
  }
 },
 "nbformat": 4,
 "nbformat_minor": 1
}
